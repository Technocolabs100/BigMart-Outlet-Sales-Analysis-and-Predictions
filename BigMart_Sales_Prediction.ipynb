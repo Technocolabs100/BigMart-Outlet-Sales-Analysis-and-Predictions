{
 "cells": [
  {
   "cell_type": "code",
   "execution_count": 1,
   "id": "84660018",
   "metadata": {},
   "outputs": [],
   "source": [
    "import pandas as pd\n",
    "import matplotlib.pyplot as plt\n",
    "import seaborn as sns \n",
    "import numpy as np\n",
    "import warnings\n",
    "warnings.filterwarnings('ignore')"
   ]
  },
  {
   "cell_type": "code",
   "execution_count": 2,
   "id": "1f2df86a",
   "metadata": {},
   "outputs": [],
   "source": [
    "df_train= pd.read_csv('Train.csv')\n",
    "df_test= pd.read_csv('Test.csv')"
   ]
  },
  {
   "cell_type": "code",
   "execution_count": 3,
   "id": "ac3e16dd",
   "metadata": {},
   "outputs": [
    {
     "data": {
      "text/html": [
       "<div>\n",
       "<style scoped>\n",
       "    .dataframe tbody tr th:only-of-type {\n",
       "        vertical-align: middle;\n",
       "    }\n",
       "\n",
       "    .dataframe tbody tr th {\n",
       "        vertical-align: top;\n",
       "    }\n",
       "\n",
       "    .dataframe thead th {\n",
       "        text-align: right;\n",
       "    }\n",
       "</style>\n",
       "<table border=\"1\" class=\"dataframe\">\n",
       "  <thead>\n",
       "    <tr style=\"text-align: right;\">\n",
       "      <th></th>\n",
       "      <th>Item_Identifier</th>\n",
       "      <th>Item_Weight</th>\n",
       "      <th>Item_Fat_Content</th>\n",
       "      <th>Item_Visibility</th>\n",
       "      <th>Item_Type</th>\n",
       "      <th>Item_MRP</th>\n",
       "      <th>Outlet_Identifier</th>\n",
       "      <th>Outlet_Establishment_Year</th>\n",
       "      <th>Outlet_Size</th>\n",
       "      <th>Outlet_Location_Type</th>\n",
       "      <th>Outlet_Type</th>\n",
       "      <th>Item_Outlet_Sales</th>\n",
       "    </tr>\n",
       "  </thead>\n",
       "  <tbody>\n",
       "    <tr>\n",
       "      <th>0</th>\n",
       "      <td>FDA15</td>\n",
       "      <td>9.30</td>\n",
       "      <td>Low Fat</td>\n",
       "      <td>0.016047</td>\n",
       "      <td>Dairy</td>\n",
       "      <td>249.8092</td>\n",
       "      <td>OUT049</td>\n",
       "      <td>1999</td>\n",
       "      <td>Medium</td>\n",
       "      <td>Tier 1</td>\n",
       "      <td>Supermarket Type1</td>\n",
       "      <td>3735.1380</td>\n",
       "    </tr>\n",
       "    <tr>\n",
       "      <th>1</th>\n",
       "      <td>DRC01</td>\n",
       "      <td>5.92</td>\n",
       "      <td>Regular</td>\n",
       "      <td>0.019278</td>\n",
       "      <td>Soft Drinks</td>\n",
       "      <td>48.2692</td>\n",
       "      <td>OUT018</td>\n",
       "      <td>2009</td>\n",
       "      <td>Medium</td>\n",
       "      <td>Tier 3</td>\n",
       "      <td>Supermarket Type2</td>\n",
       "      <td>443.4228</td>\n",
       "    </tr>\n",
       "    <tr>\n",
       "      <th>2</th>\n",
       "      <td>FDN15</td>\n",
       "      <td>17.50</td>\n",
       "      <td>Low Fat</td>\n",
       "      <td>0.016760</td>\n",
       "      <td>Meat</td>\n",
       "      <td>141.6180</td>\n",
       "      <td>OUT049</td>\n",
       "      <td>1999</td>\n",
       "      <td>Medium</td>\n",
       "      <td>Tier 1</td>\n",
       "      <td>Supermarket Type1</td>\n",
       "      <td>2097.2700</td>\n",
       "    </tr>\n",
       "    <tr>\n",
       "      <th>3</th>\n",
       "      <td>FDX07</td>\n",
       "      <td>19.20</td>\n",
       "      <td>Regular</td>\n",
       "      <td>0.000000</td>\n",
       "      <td>Fruits and Vegetables</td>\n",
       "      <td>182.0950</td>\n",
       "      <td>OUT010</td>\n",
       "      <td>1998</td>\n",
       "      <td>NaN</td>\n",
       "      <td>Tier 3</td>\n",
       "      <td>Grocery Store</td>\n",
       "      <td>732.3800</td>\n",
       "    </tr>\n",
       "    <tr>\n",
       "      <th>4</th>\n",
       "      <td>NCD19</td>\n",
       "      <td>8.93</td>\n",
       "      <td>Low Fat</td>\n",
       "      <td>0.000000</td>\n",
       "      <td>Household</td>\n",
       "      <td>53.8614</td>\n",
       "      <td>OUT013</td>\n",
       "      <td>1987</td>\n",
       "      <td>High</td>\n",
       "      <td>Tier 3</td>\n",
       "      <td>Supermarket Type1</td>\n",
       "      <td>994.7052</td>\n",
       "    </tr>\n",
       "  </tbody>\n",
       "</table>\n",
       "</div>"
      ],
      "text/plain": [
       "  Item_Identifier  Item_Weight Item_Fat_Content  Item_Visibility  \\\n",
       "0           FDA15         9.30          Low Fat         0.016047   \n",
       "1           DRC01         5.92          Regular         0.019278   \n",
       "2           FDN15        17.50          Low Fat         0.016760   \n",
       "3           FDX07        19.20          Regular         0.000000   \n",
       "4           NCD19         8.93          Low Fat         0.000000   \n",
       "\n",
       "               Item_Type  Item_MRP Outlet_Identifier  \\\n",
       "0                  Dairy  249.8092            OUT049   \n",
       "1            Soft Drinks   48.2692            OUT018   \n",
       "2                   Meat  141.6180            OUT049   \n",
       "3  Fruits and Vegetables  182.0950            OUT010   \n",
       "4              Household   53.8614            OUT013   \n",
       "\n",
       "   Outlet_Establishment_Year Outlet_Size Outlet_Location_Type  \\\n",
       "0                       1999      Medium               Tier 1   \n",
       "1                       2009      Medium               Tier 3   \n",
       "2                       1999      Medium               Tier 1   \n",
       "3                       1998         NaN               Tier 3   \n",
       "4                       1987        High               Tier 3   \n",
       "\n",
       "         Outlet_Type  Item_Outlet_Sales  \n",
       "0  Supermarket Type1          3735.1380  \n",
       "1  Supermarket Type2           443.4228  \n",
       "2  Supermarket Type1          2097.2700  \n",
       "3      Grocery Store           732.3800  \n",
       "4  Supermarket Type1           994.7052  "
      ]
     },
     "execution_count": 3,
     "metadata": {},
     "output_type": "execute_result"
    }
   ],
   "source": [
    "df_train.head()"
   ]
  },
  {
   "cell_type": "code",
   "execution_count": 4,
   "id": "0a343d7c",
   "metadata": {},
   "outputs": [
    {
     "data": {
      "text/html": [
       "<div>\n",
       "<style scoped>\n",
       "    .dataframe tbody tr th:only-of-type {\n",
       "        vertical-align: middle;\n",
       "    }\n",
       "\n",
       "    .dataframe tbody tr th {\n",
       "        vertical-align: top;\n",
       "    }\n",
       "\n",
       "    .dataframe thead th {\n",
       "        text-align: right;\n",
       "    }\n",
       "</style>\n",
       "<table border=\"1\" class=\"dataframe\">\n",
       "  <thead>\n",
       "    <tr style=\"text-align: right;\">\n",
       "      <th></th>\n",
       "      <th>Item_Identifier</th>\n",
       "      <th>Item_Weight</th>\n",
       "      <th>Item_Fat_Content</th>\n",
       "      <th>Item_Visibility</th>\n",
       "      <th>Item_Type</th>\n",
       "      <th>Item_MRP</th>\n",
       "      <th>Outlet_Identifier</th>\n",
       "      <th>Outlet_Establishment_Year</th>\n",
       "      <th>Outlet_Size</th>\n",
       "      <th>Outlet_Location_Type</th>\n",
       "      <th>Outlet_Type</th>\n",
       "    </tr>\n",
       "  </thead>\n",
       "  <tbody>\n",
       "    <tr>\n",
       "      <th>0</th>\n",
       "      <td>FDW58</td>\n",
       "      <td>20.750</td>\n",
       "      <td>Low Fat</td>\n",
       "      <td>0.007565</td>\n",
       "      <td>Snack Foods</td>\n",
       "      <td>107.8622</td>\n",
       "      <td>OUT049</td>\n",
       "      <td>1999</td>\n",
       "      <td>Medium</td>\n",
       "      <td>Tier 1</td>\n",
       "      <td>Supermarket Type1</td>\n",
       "    </tr>\n",
       "    <tr>\n",
       "      <th>1</th>\n",
       "      <td>FDW14</td>\n",
       "      <td>8.300</td>\n",
       "      <td>reg</td>\n",
       "      <td>0.038428</td>\n",
       "      <td>Dairy</td>\n",
       "      <td>87.3198</td>\n",
       "      <td>OUT017</td>\n",
       "      <td>2007</td>\n",
       "      <td>NaN</td>\n",
       "      <td>Tier 2</td>\n",
       "      <td>Supermarket Type1</td>\n",
       "    </tr>\n",
       "    <tr>\n",
       "      <th>2</th>\n",
       "      <td>NCN55</td>\n",
       "      <td>14.600</td>\n",
       "      <td>Low Fat</td>\n",
       "      <td>0.099575</td>\n",
       "      <td>Others</td>\n",
       "      <td>241.7538</td>\n",
       "      <td>OUT010</td>\n",
       "      <td>1998</td>\n",
       "      <td>NaN</td>\n",
       "      <td>Tier 3</td>\n",
       "      <td>Grocery Store</td>\n",
       "    </tr>\n",
       "    <tr>\n",
       "      <th>3</th>\n",
       "      <td>FDQ58</td>\n",
       "      <td>7.315</td>\n",
       "      <td>Low Fat</td>\n",
       "      <td>0.015388</td>\n",
       "      <td>Snack Foods</td>\n",
       "      <td>155.0340</td>\n",
       "      <td>OUT017</td>\n",
       "      <td>2007</td>\n",
       "      <td>NaN</td>\n",
       "      <td>Tier 2</td>\n",
       "      <td>Supermarket Type1</td>\n",
       "    </tr>\n",
       "    <tr>\n",
       "      <th>4</th>\n",
       "      <td>FDY38</td>\n",
       "      <td>NaN</td>\n",
       "      <td>Regular</td>\n",
       "      <td>0.118599</td>\n",
       "      <td>Dairy</td>\n",
       "      <td>234.2300</td>\n",
       "      <td>OUT027</td>\n",
       "      <td>1985</td>\n",
       "      <td>Medium</td>\n",
       "      <td>Tier 3</td>\n",
       "      <td>Supermarket Type3</td>\n",
       "    </tr>\n",
       "  </tbody>\n",
       "</table>\n",
       "</div>"
      ],
      "text/plain": [
       "  Item_Identifier  Item_Weight Item_Fat_Content  Item_Visibility    Item_Type  \\\n",
       "0           FDW58       20.750          Low Fat         0.007565  Snack Foods   \n",
       "1           FDW14        8.300              reg         0.038428        Dairy   \n",
       "2           NCN55       14.600          Low Fat         0.099575       Others   \n",
       "3           FDQ58        7.315          Low Fat         0.015388  Snack Foods   \n",
       "4           FDY38          NaN          Regular         0.118599        Dairy   \n",
       "\n",
       "   Item_MRP Outlet_Identifier  Outlet_Establishment_Year Outlet_Size  \\\n",
       "0  107.8622            OUT049                       1999      Medium   \n",
       "1   87.3198            OUT017                       2007         NaN   \n",
       "2  241.7538            OUT010                       1998         NaN   \n",
       "3  155.0340            OUT017                       2007         NaN   \n",
       "4  234.2300            OUT027                       1985      Medium   \n",
       "\n",
       "  Outlet_Location_Type        Outlet_Type  \n",
       "0               Tier 1  Supermarket Type1  \n",
       "1               Tier 2  Supermarket Type1  \n",
       "2               Tier 3      Grocery Store  \n",
       "3               Tier 2  Supermarket Type1  \n",
       "4               Tier 3  Supermarket Type3  "
      ]
     },
     "execution_count": 4,
     "metadata": {},
     "output_type": "execute_result"
    }
   ],
   "source": [
    "df_test.head()"
   ]
  },
  {
   "cell_type": "code",
   "execution_count": 5,
   "id": "8bc23ca0",
   "metadata": {},
   "outputs": [
    {
     "data": {
      "text/plain": [
       "(8523, 12)"
      ]
     },
     "execution_count": 5,
     "metadata": {},
     "output_type": "execute_result"
    }
   ],
   "source": [
    "df_train.shape"
   ]
  },
  {
   "cell_type": "code",
   "execution_count": 6,
   "id": "b7395e87",
   "metadata": {},
   "outputs": [
    {
     "data": {
      "text/plain": [
       "(5681, 11)"
      ]
     },
     "execution_count": 6,
     "metadata": {},
     "output_type": "execute_result"
    }
   ],
   "source": [
    "df_test.shape"
   ]
  },
  {
   "cell_type": "code",
   "execution_count": 7,
   "id": "91ec27dc",
   "metadata": {},
   "outputs": [
    {
     "name": "stdout",
     "output_type": "stream",
     "text": [
      "<class 'pandas.core.frame.DataFrame'>\n",
      "RangeIndex: 8523 entries, 0 to 8522\n",
      "Data columns (total 12 columns):\n",
      " #   Column                     Non-Null Count  Dtype  \n",
      "---  ------                     --------------  -----  \n",
      " 0   Item_Identifier            8523 non-null   object \n",
      " 1   Item_Weight                7060 non-null   float64\n",
      " 2   Item_Fat_Content           8523 non-null   object \n",
      " 3   Item_Visibility            8523 non-null   float64\n",
      " 4   Item_Type                  8523 non-null   object \n",
      " 5   Item_MRP                   8523 non-null   float64\n",
      " 6   Outlet_Identifier          8523 non-null   object \n",
      " 7   Outlet_Establishment_Year  8523 non-null   int64  \n",
      " 8   Outlet_Size                6113 non-null   object \n",
      " 9   Outlet_Location_Type       8523 non-null   object \n",
      " 10  Outlet_Type                8523 non-null   object \n",
      " 11  Item_Outlet_Sales          8523 non-null   float64\n",
      "dtypes: float64(4), int64(1), object(7)\n",
      "memory usage: 799.2+ KB\n"
     ]
    }
   ],
   "source": [
    "df_train.info()"
   ]
  },
  {
   "cell_type": "code",
   "execution_count": 8,
   "id": "2302418e",
   "metadata": {},
   "outputs": [
    {
     "name": "stdout",
     "output_type": "stream",
     "text": [
      "<class 'pandas.core.frame.DataFrame'>\n",
      "RangeIndex: 5681 entries, 0 to 5680\n",
      "Data columns (total 11 columns):\n",
      " #   Column                     Non-Null Count  Dtype  \n",
      "---  ------                     --------------  -----  \n",
      " 0   Item_Identifier            5681 non-null   object \n",
      " 1   Item_Weight                4705 non-null   float64\n",
      " 2   Item_Fat_Content           5681 non-null   object \n",
      " 3   Item_Visibility            5681 non-null   float64\n",
      " 4   Item_Type                  5681 non-null   object \n",
      " 5   Item_MRP                   5681 non-null   float64\n",
      " 6   Outlet_Identifier          5681 non-null   object \n",
      " 7   Outlet_Establishment_Year  5681 non-null   int64  \n",
      " 8   Outlet_Size                4075 non-null   object \n",
      " 9   Outlet_Location_Type       5681 non-null   object \n",
      " 10  Outlet_Type                5681 non-null   object \n",
      "dtypes: float64(3), int64(1), object(7)\n",
      "memory usage: 488.3+ KB\n"
     ]
    }
   ],
   "source": [
    "df_test.info()"
   ]
  },
  {
   "cell_type": "code",
   "execution_count": 9,
   "id": "e3011739",
   "metadata": {},
   "outputs": [
    {
     "data": {
      "text/html": [
       "<div>\n",
       "<style scoped>\n",
       "    .dataframe tbody tr th:only-of-type {\n",
       "        vertical-align: middle;\n",
       "    }\n",
       "\n",
       "    .dataframe tbody tr th {\n",
       "        vertical-align: top;\n",
       "    }\n",
       "\n",
       "    .dataframe thead th {\n",
       "        text-align: right;\n",
       "    }\n",
       "</style>\n",
       "<table border=\"1\" class=\"dataframe\">\n",
       "  <thead>\n",
       "    <tr style=\"text-align: right;\">\n",
       "      <th></th>\n",
       "      <th>Item_Identifier</th>\n",
       "      <th>Item_Weight</th>\n",
       "      <th>Item_Fat_Content</th>\n",
       "      <th>Item_Visibility</th>\n",
       "      <th>Item_Type</th>\n",
       "      <th>Item_MRP</th>\n",
       "      <th>Outlet_Identifier</th>\n",
       "      <th>Outlet_Establishment_Year</th>\n",
       "      <th>Outlet_Size</th>\n",
       "      <th>Outlet_Location_Type</th>\n",
       "      <th>Outlet_Type</th>\n",
       "      <th>Item_Outlet_Sales</th>\n",
       "    </tr>\n",
       "  </thead>\n",
       "  <tbody>\n",
       "    <tr>\n",
       "      <th>8518</th>\n",
       "      <td>FDF22</td>\n",
       "      <td>6.865</td>\n",
       "      <td>Low Fat</td>\n",
       "      <td>0.056783</td>\n",
       "      <td>Snack Foods</td>\n",
       "      <td>214.5218</td>\n",
       "      <td>OUT013</td>\n",
       "      <td>1987</td>\n",
       "      <td>High</td>\n",
       "      <td>Tier 3</td>\n",
       "      <td>Supermarket Type1</td>\n",
       "      <td>2778.3834</td>\n",
       "    </tr>\n",
       "    <tr>\n",
       "      <th>8519</th>\n",
       "      <td>FDS36</td>\n",
       "      <td>8.380</td>\n",
       "      <td>Regular</td>\n",
       "      <td>0.046982</td>\n",
       "      <td>Baking Goods</td>\n",
       "      <td>108.1570</td>\n",
       "      <td>OUT045</td>\n",
       "      <td>2002</td>\n",
       "      <td>NaN</td>\n",
       "      <td>Tier 2</td>\n",
       "      <td>Supermarket Type1</td>\n",
       "      <td>549.2850</td>\n",
       "    </tr>\n",
       "    <tr>\n",
       "      <th>8520</th>\n",
       "      <td>NCJ29</td>\n",
       "      <td>10.600</td>\n",
       "      <td>Low Fat</td>\n",
       "      <td>0.035186</td>\n",
       "      <td>Health and Hygiene</td>\n",
       "      <td>85.1224</td>\n",
       "      <td>OUT035</td>\n",
       "      <td>2004</td>\n",
       "      <td>Small</td>\n",
       "      <td>Tier 2</td>\n",
       "      <td>Supermarket Type1</td>\n",
       "      <td>1193.1136</td>\n",
       "    </tr>\n",
       "    <tr>\n",
       "      <th>8521</th>\n",
       "      <td>FDN46</td>\n",
       "      <td>7.210</td>\n",
       "      <td>Regular</td>\n",
       "      <td>0.145221</td>\n",
       "      <td>Snack Foods</td>\n",
       "      <td>103.1332</td>\n",
       "      <td>OUT018</td>\n",
       "      <td>2009</td>\n",
       "      <td>Medium</td>\n",
       "      <td>Tier 3</td>\n",
       "      <td>Supermarket Type2</td>\n",
       "      <td>1845.5976</td>\n",
       "    </tr>\n",
       "    <tr>\n",
       "      <th>8522</th>\n",
       "      <td>DRG01</td>\n",
       "      <td>14.800</td>\n",
       "      <td>Low Fat</td>\n",
       "      <td>0.044878</td>\n",
       "      <td>Soft Drinks</td>\n",
       "      <td>75.4670</td>\n",
       "      <td>OUT046</td>\n",
       "      <td>1997</td>\n",
       "      <td>Small</td>\n",
       "      <td>Tier 1</td>\n",
       "      <td>Supermarket Type1</td>\n",
       "      <td>765.6700</td>\n",
       "    </tr>\n",
       "  </tbody>\n",
       "</table>\n",
       "</div>"
      ],
      "text/plain": [
       "     Item_Identifier  Item_Weight Item_Fat_Content  Item_Visibility  \\\n",
       "8518           FDF22        6.865          Low Fat         0.056783   \n",
       "8519           FDS36        8.380          Regular         0.046982   \n",
       "8520           NCJ29       10.600          Low Fat         0.035186   \n",
       "8521           FDN46        7.210          Regular         0.145221   \n",
       "8522           DRG01       14.800          Low Fat         0.044878   \n",
       "\n",
       "               Item_Type  Item_MRP Outlet_Identifier  \\\n",
       "8518         Snack Foods  214.5218            OUT013   \n",
       "8519        Baking Goods  108.1570            OUT045   \n",
       "8520  Health and Hygiene   85.1224            OUT035   \n",
       "8521         Snack Foods  103.1332            OUT018   \n",
       "8522         Soft Drinks   75.4670            OUT046   \n",
       "\n",
       "      Outlet_Establishment_Year Outlet_Size Outlet_Location_Type  \\\n",
       "8518                       1987        High               Tier 3   \n",
       "8519                       2002         NaN               Tier 2   \n",
       "8520                       2004       Small               Tier 2   \n",
       "8521                       2009      Medium               Tier 3   \n",
       "8522                       1997       Small               Tier 1   \n",
       "\n",
       "            Outlet_Type  Item_Outlet_Sales  \n",
       "8518  Supermarket Type1          2778.3834  \n",
       "8519  Supermarket Type1           549.2850  \n",
       "8520  Supermarket Type1          1193.1136  \n",
       "8521  Supermarket Type2          1845.5976  \n",
       "8522  Supermarket Type1           765.6700  "
      ]
     },
     "execution_count": 9,
     "metadata": {},
     "output_type": "execute_result"
    }
   ],
   "source": [
    "df_train.tail()"
   ]
  },
  {
   "cell_type": "code",
   "execution_count": 10,
   "id": "a9e14b07",
   "metadata": {},
   "outputs": [
    {
     "data": {
      "text/html": [
       "<div>\n",
       "<style scoped>\n",
       "    .dataframe tbody tr th:only-of-type {\n",
       "        vertical-align: middle;\n",
       "    }\n",
       "\n",
       "    .dataframe tbody tr th {\n",
       "        vertical-align: top;\n",
       "    }\n",
       "\n",
       "    .dataframe thead th {\n",
       "        text-align: right;\n",
       "    }\n",
       "</style>\n",
       "<table border=\"1\" class=\"dataframe\">\n",
       "  <thead>\n",
       "    <tr style=\"text-align: right;\">\n",
       "      <th></th>\n",
       "      <th>Item_Identifier</th>\n",
       "      <th>Item_Weight</th>\n",
       "      <th>Item_Fat_Content</th>\n",
       "      <th>Item_Visibility</th>\n",
       "      <th>Item_Type</th>\n",
       "      <th>Item_MRP</th>\n",
       "      <th>Outlet_Identifier</th>\n",
       "      <th>Outlet_Establishment_Year</th>\n",
       "      <th>Outlet_Size</th>\n",
       "      <th>Outlet_Location_Type</th>\n",
       "      <th>Outlet_Type</th>\n",
       "    </tr>\n",
       "  </thead>\n",
       "  <tbody>\n",
       "    <tr>\n",
       "      <th>5676</th>\n",
       "      <td>FDB58</td>\n",
       "      <td>10.5</td>\n",
       "      <td>Regular</td>\n",
       "      <td>0.013496</td>\n",
       "      <td>Snack Foods</td>\n",
       "      <td>141.3154</td>\n",
       "      <td>OUT046</td>\n",
       "      <td>1997</td>\n",
       "      <td>Small</td>\n",
       "      <td>Tier 1</td>\n",
       "      <td>Supermarket Type1</td>\n",
       "    </tr>\n",
       "    <tr>\n",
       "      <th>5677</th>\n",
       "      <td>FDD47</td>\n",
       "      <td>7.6</td>\n",
       "      <td>Regular</td>\n",
       "      <td>0.142991</td>\n",
       "      <td>Starchy Foods</td>\n",
       "      <td>169.1448</td>\n",
       "      <td>OUT018</td>\n",
       "      <td>2009</td>\n",
       "      <td>Medium</td>\n",
       "      <td>Tier 3</td>\n",
       "      <td>Supermarket Type2</td>\n",
       "    </tr>\n",
       "    <tr>\n",
       "      <th>5678</th>\n",
       "      <td>NCO17</td>\n",
       "      <td>10.0</td>\n",
       "      <td>Low Fat</td>\n",
       "      <td>0.073529</td>\n",
       "      <td>Health and Hygiene</td>\n",
       "      <td>118.7440</td>\n",
       "      <td>OUT045</td>\n",
       "      <td>2002</td>\n",
       "      <td>NaN</td>\n",
       "      <td>Tier 2</td>\n",
       "      <td>Supermarket Type1</td>\n",
       "    </tr>\n",
       "    <tr>\n",
       "      <th>5679</th>\n",
       "      <td>FDJ26</td>\n",
       "      <td>15.3</td>\n",
       "      <td>Regular</td>\n",
       "      <td>0.000000</td>\n",
       "      <td>Canned</td>\n",
       "      <td>214.6218</td>\n",
       "      <td>OUT017</td>\n",
       "      <td>2007</td>\n",
       "      <td>NaN</td>\n",
       "      <td>Tier 2</td>\n",
       "      <td>Supermarket Type1</td>\n",
       "    </tr>\n",
       "    <tr>\n",
       "      <th>5680</th>\n",
       "      <td>FDU37</td>\n",
       "      <td>9.5</td>\n",
       "      <td>Regular</td>\n",
       "      <td>0.104720</td>\n",
       "      <td>Canned</td>\n",
       "      <td>79.7960</td>\n",
       "      <td>OUT045</td>\n",
       "      <td>2002</td>\n",
       "      <td>NaN</td>\n",
       "      <td>Tier 2</td>\n",
       "      <td>Supermarket Type1</td>\n",
       "    </tr>\n",
       "  </tbody>\n",
       "</table>\n",
       "</div>"
      ],
      "text/plain": [
       "     Item_Identifier  Item_Weight Item_Fat_Content  Item_Visibility  \\\n",
       "5676           FDB58         10.5          Regular         0.013496   \n",
       "5677           FDD47          7.6          Regular         0.142991   \n",
       "5678           NCO17         10.0          Low Fat         0.073529   \n",
       "5679           FDJ26         15.3          Regular         0.000000   \n",
       "5680           FDU37          9.5          Regular         0.104720   \n",
       "\n",
       "               Item_Type  Item_MRP Outlet_Identifier  \\\n",
       "5676         Snack Foods  141.3154            OUT046   \n",
       "5677       Starchy Foods  169.1448            OUT018   \n",
       "5678  Health and Hygiene  118.7440            OUT045   \n",
       "5679              Canned  214.6218            OUT017   \n",
       "5680              Canned   79.7960            OUT045   \n",
       "\n",
       "      Outlet_Establishment_Year Outlet_Size Outlet_Location_Type  \\\n",
       "5676                       1997       Small               Tier 1   \n",
       "5677                       2009      Medium               Tier 3   \n",
       "5678                       2002         NaN               Tier 2   \n",
       "5679                       2007         NaN               Tier 2   \n",
       "5680                       2002         NaN               Tier 2   \n",
       "\n",
       "            Outlet_Type  \n",
       "5676  Supermarket Type1  \n",
       "5677  Supermarket Type2  \n",
       "5678  Supermarket Type1  \n",
       "5679  Supermarket Type1  \n",
       "5680  Supermarket Type1  "
      ]
     },
     "execution_count": 10,
     "metadata": {},
     "output_type": "execute_result"
    }
   ],
   "source": [
    "df_test.tail()"
   ]
  },
  {
   "cell_type": "code",
   "execution_count": 11,
   "id": "24bf8fba",
   "metadata": {},
   "outputs": [
    {
     "data": {
      "text/html": [
       "<div>\n",
       "<style scoped>\n",
       "    .dataframe tbody tr th:only-of-type {\n",
       "        vertical-align: middle;\n",
       "    }\n",
       "\n",
       "    .dataframe tbody tr th {\n",
       "        vertical-align: top;\n",
       "    }\n",
       "\n",
       "    .dataframe thead th {\n",
       "        text-align: right;\n",
       "    }\n",
       "</style>\n",
       "<table border=\"1\" class=\"dataframe\">\n",
       "  <thead>\n",
       "    <tr style=\"text-align: right;\">\n",
       "      <th></th>\n",
       "      <th>Item_Weight</th>\n",
       "      <th>Item_Visibility</th>\n",
       "      <th>Item_MRP</th>\n",
       "      <th>Outlet_Establishment_Year</th>\n",
       "      <th>Item_Outlet_Sales</th>\n",
       "    </tr>\n",
       "  </thead>\n",
       "  <tbody>\n",
       "    <tr>\n",
       "      <th>count</th>\n",
       "      <td>7060.000000</td>\n",
       "      <td>8523.000000</td>\n",
       "      <td>8523.000000</td>\n",
       "      <td>8523.000000</td>\n",
       "      <td>8523.000000</td>\n",
       "    </tr>\n",
       "    <tr>\n",
       "      <th>mean</th>\n",
       "      <td>12.857645</td>\n",
       "      <td>0.066132</td>\n",
       "      <td>140.992782</td>\n",
       "      <td>1997.831867</td>\n",
       "      <td>2181.288914</td>\n",
       "    </tr>\n",
       "    <tr>\n",
       "      <th>std</th>\n",
       "      <td>4.643456</td>\n",
       "      <td>0.051598</td>\n",
       "      <td>62.275067</td>\n",
       "      <td>8.371760</td>\n",
       "      <td>1706.499616</td>\n",
       "    </tr>\n",
       "    <tr>\n",
       "      <th>min</th>\n",
       "      <td>4.555000</td>\n",
       "      <td>0.000000</td>\n",
       "      <td>31.290000</td>\n",
       "      <td>1985.000000</td>\n",
       "      <td>33.290000</td>\n",
       "    </tr>\n",
       "    <tr>\n",
       "      <th>25%</th>\n",
       "      <td>8.773750</td>\n",
       "      <td>0.026989</td>\n",
       "      <td>93.826500</td>\n",
       "      <td>1987.000000</td>\n",
       "      <td>834.247400</td>\n",
       "    </tr>\n",
       "    <tr>\n",
       "      <th>50%</th>\n",
       "      <td>12.600000</td>\n",
       "      <td>0.053931</td>\n",
       "      <td>143.012800</td>\n",
       "      <td>1999.000000</td>\n",
       "      <td>1794.331000</td>\n",
       "    </tr>\n",
       "    <tr>\n",
       "      <th>75%</th>\n",
       "      <td>16.850000</td>\n",
       "      <td>0.094585</td>\n",
       "      <td>185.643700</td>\n",
       "      <td>2004.000000</td>\n",
       "      <td>3101.296400</td>\n",
       "    </tr>\n",
       "    <tr>\n",
       "      <th>max</th>\n",
       "      <td>21.350000</td>\n",
       "      <td>0.328391</td>\n",
       "      <td>266.888400</td>\n",
       "      <td>2009.000000</td>\n",
       "      <td>13086.964800</td>\n",
       "    </tr>\n",
       "  </tbody>\n",
       "</table>\n",
       "</div>"
      ],
      "text/plain": [
       "       Item_Weight  Item_Visibility     Item_MRP  Outlet_Establishment_Year  \\\n",
       "count  7060.000000      8523.000000  8523.000000                8523.000000   \n",
       "mean     12.857645         0.066132   140.992782                1997.831867   \n",
       "std       4.643456         0.051598    62.275067                   8.371760   \n",
       "min       4.555000         0.000000    31.290000                1985.000000   \n",
       "25%       8.773750         0.026989    93.826500                1987.000000   \n",
       "50%      12.600000         0.053931   143.012800                1999.000000   \n",
       "75%      16.850000         0.094585   185.643700                2004.000000   \n",
       "max      21.350000         0.328391   266.888400                2009.000000   \n",
       "\n",
       "       Item_Outlet_Sales  \n",
       "count        8523.000000  \n",
       "mean         2181.288914  \n",
       "std          1706.499616  \n",
       "min            33.290000  \n",
       "25%           834.247400  \n",
       "50%          1794.331000  \n",
       "75%          3101.296400  \n",
       "max         13086.964800  "
      ]
     },
     "execution_count": 11,
     "metadata": {},
     "output_type": "execute_result"
    }
   ],
   "source": [
    "df_train.describe()"
   ]
  },
  {
   "cell_type": "code",
   "execution_count": 12,
   "id": "6580703b",
   "metadata": {},
   "outputs": [
    {
     "data": {
      "text/html": [
       "<div>\n",
       "<style scoped>\n",
       "    .dataframe tbody tr th:only-of-type {\n",
       "        vertical-align: middle;\n",
       "    }\n",
       "\n",
       "    .dataframe tbody tr th {\n",
       "        vertical-align: top;\n",
       "    }\n",
       "\n",
       "    .dataframe thead th {\n",
       "        text-align: right;\n",
       "    }\n",
       "</style>\n",
       "<table border=\"1\" class=\"dataframe\">\n",
       "  <thead>\n",
       "    <tr style=\"text-align: right;\">\n",
       "      <th></th>\n",
       "      <th>Item_Weight</th>\n",
       "      <th>Item_Visibility</th>\n",
       "      <th>Item_MRP</th>\n",
       "      <th>Outlet_Establishment_Year</th>\n",
       "    </tr>\n",
       "  </thead>\n",
       "  <tbody>\n",
       "    <tr>\n",
       "      <th>count</th>\n",
       "      <td>4705.000000</td>\n",
       "      <td>5681.000000</td>\n",
       "      <td>5681.000000</td>\n",
       "      <td>5681.000000</td>\n",
       "    </tr>\n",
       "    <tr>\n",
       "      <th>mean</th>\n",
       "      <td>12.695633</td>\n",
       "      <td>0.065684</td>\n",
       "      <td>141.023273</td>\n",
       "      <td>1997.828903</td>\n",
       "    </tr>\n",
       "    <tr>\n",
       "      <th>std</th>\n",
       "      <td>4.664849</td>\n",
       "      <td>0.051252</td>\n",
       "      <td>61.809091</td>\n",
       "      <td>8.372256</td>\n",
       "    </tr>\n",
       "    <tr>\n",
       "      <th>min</th>\n",
       "      <td>4.555000</td>\n",
       "      <td>0.000000</td>\n",
       "      <td>31.990000</td>\n",
       "      <td>1985.000000</td>\n",
       "    </tr>\n",
       "    <tr>\n",
       "      <th>25%</th>\n",
       "      <td>8.645000</td>\n",
       "      <td>0.027047</td>\n",
       "      <td>94.412000</td>\n",
       "      <td>1987.000000</td>\n",
       "    </tr>\n",
       "    <tr>\n",
       "      <th>50%</th>\n",
       "      <td>12.500000</td>\n",
       "      <td>0.054154</td>\n",
       "      <td>141.415400</td>\n",
       "      <td>1999.000000</td>\n",
       "    </tr>\n",
       "    <tr>\n",
       "      <th>75%</th>\n",
       "      <td>16.700000</td>\n",
       "      <td>0.093463</td>\n",
       "      <td>186.026600</td>\n",
       "      <td>2004.000000</td>\n",
       "    </tr>\n",
       "    <tr>\n",
       "      <th>max</th>\n",
       "      <td>21.350000</td>\n",
       "      <td>0.323637</td>\n",
       "      <td>266.588400</td>\n",
       "      <td>2009.000000</td>\n",
       "    </tr>\n",
       "  </tbody>\n",
       "</table>\n",
       "</div>"
      ],
      "text/plain": [
       "       Item_Weight  Item_Visibility     Item_MRP  Outlet_Establishment_Year\n",
       "count  4705.000000      5681.000000  5681.000000                5681.000000\n",
       "mean     12.695633         0.065684   141.023273                1997.828903\n",
       "std       4.664849         0.051252    61.809091                   8.372256\n",
       "min       4.555000         0.000000    31.990000                1985.000000\n",
       "25%       8.645000         0.027047    94.412000                1987.000000\n",
       "50%      12.500000         0.054154   141.415400                1999.000000\n",
       "75%      16.700000         0.093463   186.026600                2004.000000\n",
       "max      21.350000         0.323637   266.588400                2009.000000"
      ]
     },
     "execution_count": 12,
     "metadata": {},
     "output_type": "execute_result"
    }
   ],
   "source": [
    "df_test.describe()"
   ]
  },
  {
   "cell_type": "code",
   "execution_count": 13,
   "id": "db75ad06",
   "metadata": {},
   "outputs": [
    {
     "data": {
      "text/plain": [
       "0"
      ]
     },
     "execution_count": 13,
     "metadata": {},
     "output_type": "execute_result"
    }
   ],
   "source": [
    "df_train.duplicated().sum()"
   ]
  },
  {
   "cell_type": "code",
   "execution_count": 14,
   "id": "c92fa35b",
   "metadata": {},
   "outputs": [
    {
     "data": {
      "text/plain": [
       "0"
      ]
     },
     "execution_count": 14,
     "metadata": {},
     "output_type": "execute_result"
    }
   ],
   "source": [
    "df_test.duplicated().sum()"
   ]
  },
  {
   "cell_type": "code",
   "execution_count": 15,
   "id": "45e8a58b",
   "metadata": {},
   "outputs": [
    {
     "data": {
      "text/plain": [
       "Item_Identifier                 0\n",
       "Item_Weight                  1463\n",
       "Item_Fat_Content                0\n",
       "Item_Visibility                 0\n",
       "Item_Type                       0\n",
       "Item_MRP                        0\n",
       "Outlet_Identifier               0\n",
       "Outlet_Establishment_Year       0\n",
       "Outlet_Size                  2410\n",
       "Outlet_Location_Type            0\n",
       "Outlet_Type                     0\n",
       "Item_Outlet_Sales               0\n",
       "dtype: int64"
      ]
     },
     "execution_count": 15,
     "metadata": {},
     "output_type": "execute_result"
    }
   ],
   "source": [
    "df_train.isna().sum()"
   ]
  },
  {
   "cell_type": "code",
   "execution_count": 16,
   "id": "a3c88262",
   "metadata": {},
   "outputs": [
    {
     "data": {
      "text/plain": [
       "Item_Identifier                 0\n",
       "Item_Weight                   976\n",
       "Item_Fat_Content                0\n",
       "Item_Visibility                 0\n",
       "Item_Type                       0\n",
       "Item_MRP                        0\n",
       "Outlet_Identifier               0\n",
       "Outlet_Establishment_Year       0\n",
       "Outlet_Size                  1606\n",
       "Outlet_Location_Type            0\n",
       "Outlet_Type                     0\n",
       "dtype: int64"
      ]
     },
     "execution_count": 16,
     "metadata": {},
     "output_type": "execute_result"
    }
   ],
   "source": [
    "df_test.isna().sum()"
   ]
  },
  {
   "cell_type": "code",
   "execution_count": 17,
   "id": "71a71b9f",
   "metadata": {},
   "outputs": [
    {
     "data": {
      "image/png": "[encoded data removed]",
      "text/plain": [
       "<Figure size 640x480 with 1 Axes>"
      ]
     },
     "metadata": {},
     "output_type": "display_data"
    }
   ],
   "source": [
    "fig=plt.figure()\n",
    "ax = fig.add_subplot(1,1,1)\n",
    "ax.hist(df_train['Item_MRP'],bins = 10)\n",
    "plt.title('Item MRP')\n",
    "plt.xlabel('MRP')\n",
    "plt.ylabel('Count')\n",
    "plt.show()"
   ]
  },
  {
   "cell_type": "code",
   "execution_count": 18,
   "id": "c78ba0dc",
   "metadata": {},
   "outputs": [
    {
     "data": {
      "image/png": "[encoded data removed]",
      "text/plain": [
       "<Figure size 640x480 with 1 Axes>"
      ]
     },
     "metadata": {},
     "output_type": "display_data"
    }
   ],
   "source": [
    "fig=plt.figure()\n",
    "ax = fig.add_subplot(1,1,1)\n",
    "ax.scatter(df_train['Item_MRP'],df_train['Item_Outlet_Sales'],color='green')\n",
    "plt.title('Item MRP and Item Outlet Sales Distribution')\n",
    "plt.xlabel('Item MRP')\n",
    "plt.ylabel('Item Outlet Sales')\n",
    "plt.show()"
   ]
  },
  {
   "cell_type": "code",
   "execution_count": 19,
   "id": "40d82c26",
   "metadata": {},
   "outputs": [
    {
     "data": {
      "image/png": "[encoded data removed]",
      "text/plain": [
       "<Figure size 640x480 with 1 Axes>"
      ]
     },
     "metadata": {},
     "output_type": "display_data"
    }
   ],
   "source": [
    "sns.boxplot(df_train['Item_MRP'],color='red') \n",
    "sns.despine()"
   ]
  },
  {
   "cell_type": "code",
   "execution_count": 20,
   "id": "bfc79828",
   "metadata": {},
   "outputs": [
    {
     "data": {
      "text/plain": [
       "Outlet_Size  Outlet_Location_Type\n",
       "High         Tier 3                   932\n",
       "Medium       Tier 1                   930\n",
       "             Tier 3                  1863\n",
       "Small        Tier 1                  1458\n",
       "             Tier 2                   930\n",
       "dtype: int64"
      ]
     },
     "execution_count": 20,
     "metadata": {},
     "output_type": "execute_result"
    }
   ],
   "source": [
    "test= df_train.groupby(['Outlet_Size','Outlet_Location_Type'])\n",
    "test.size()"
   ]
  },
  {
   "cell_type": "code",
   "execution_count": 21,
   "id": "23bd0fb3",
   "metadata": {},
   "outputs": [
    {
     "data": {
      "text/html": [
       "<div>\n",
       "<style scoped>\n",
       "    .dataframe tbody tr th:only-of-type {\n",
       "        vertical-align: middle;\n",
       "    }\n",
       "\n",
       "    .dataframe tbody tr th {\n",
       "        vertical-align: top;\n",
       "    }\n",
       "\n",
       "    .dataframe thead tr th {\n",
       "        text-align: left;\n",
       "    }\n",
       "\n",
       "    .dataframe thead tr:last-of-type th {\n",
       "        text-align: right;\n",
       "    }\n",
       "</style>\n",
       "<table border=\"1\" class=\"dataframe\">\n",
       "  <thead>\n",
       "    <tr>\n",
       "      <th></th>\n",
       "      <th colspan=\"8\" halign=\"left\">Item_Weight</th>\n",
       "      <th colspan=\"2\" halign=\"left\">Item_Visibility</th>\n",
       "      <th>...</th>\n",
       "      <th colspan=\"2\" halign=\"left\">Outlet_Establishment_Year</th>\n",
       "      <th colspan=\"8\" halign=\"left\">Item_Outlet_Sales</th>\n",
       "    </tr>\n",
       "    <tr>\n",
       "      <th></th>\n",
       "      <th>count</th>\n",
       "      <th>mean</th>\n",
       "      <th>std</th>\n",
       "      <th>min</th>\n",
       "      <th>25%</th>\n",
       "      <th>50%</th>\n",
       "      <th>75%</th>\n",
       "      <th>max</th>\n",
       "      <th>count</th>\n",
       "      <th>mean</th>\n",
       "      <th>...</th>\n",
       "      <th>75%</th>\n",
       "      <th>max</th>\n",
       "      <th>count</th>\n",
       "      <th>mean</th>\n",
       "      <th>std</th>\n",
       "      <th>min</th>\n",
       "      <th>25%</th>\n",
       "      <th>50%</th>\n",
       "      <th>75%</th>\n",
       "      <th>max</th>\n",
       "    </tr>\n",
       "    <tr>\n",
       "      <th>Item_Type</th>\n",
       "      <th></th>\n",
       "      <th></th>\n",
       "      <th></th>\n",
       "      <th></th>\n",
       "      <th></th>\n",
       "      <th></th>\n",
       "      <th></th>\n",
       "      <th></th>\n",
       "      <th></th>\n",
       "      <th></th>\n",
       "      <th></th>\n",
       "      <th></th>\n",
       "      <th></th>\n",
       "      <th></th>\n",
       "      <th></th>\n",
       "      <th></th>\n",
       "      <th></th>\n",
       "      <th></th>\n",
       "      <th></th>\n",
       "      <th></th>\n",
       "      <th></th>\n",
       "    </tr>\n",
       "  </thead>\n",
       "  <tbody>\n",
       "    <tr>\n",
       "      <th>Baking Goods</th>\n",
       "      <td>536.0</td>\n",
       "      <td>12.277108</td>\n",
       "      <td>4.773622</td>\n",
       "      <td>4.880</td>\n",
       "      <td>8.23500</td>\n",
       "      <td>11.650</td>\n",
       "      <td>15.75</td>\n",
       "      <td>20.85</td>\n",
       "      <td>648.0</td>\n",
       "      <td>0.069169</td>\n",
       "      <td>...</td>\n",
       "      <td>2004.0</td>\n",
       "      <td>2009.0</td>\n",
       "      <td>648.0</td>\n",
       "      <td>1952.971207</td>\n",
       "      <td>1546.788045</td>\n",
       "      <td>37.2848</td>\n",
       "      <td>705.08220</td>\n",
       "      <td>1577.9460</td>\n",
       "      <td>2823.82425</td>\n",
       "      <td>7931.6754</td>\n",
       "    </tr>\n",
       "    <tr>\n",
       "      <th>Breads</th>\n",
       "      <td>204.0</td>\n",
       "      <td>11.346936</td>\n",
       "      <td>4.440540</td>\n",
       "      <td>4.635</td>\n",
       "      <td>7.12875</td>\n",
       "      <td>10.600</td>\n",
       "      <td>14.85</td>\n",
       "      <td>20.85</td>\n",
       "      <td>251.0</td>\n",
       "      <td>0.066255</td>\n",
       "      <td>...</td>\n",
       "      <td>2004.0</td>\n",
       "      <td>2009.0</td>\n",
       "      <td>251.0</td>\n",
       "      <td>2204.132226</td>\n",
       "      <td>1644.235914</td>\n",
       "      <td>35.2874</td>\n",
       "      <td>968.73900</td>\n",
       "      <td>1860.2452</td>\n",
       "      <td>3145.90500</td>\n",
       "      <td>8958.3390</td>\n",
       "    </tr>\n",
       "    <tr>\n",
       "      <th>Breakfast</th>\n",
       "      <td>89.0</td>\n",
       "      <td>12.768202</td>\n",
       "      <td>5.038131</td>\n",
       "      <td>6.425</td>\n",
       "      <td>8.06000</td>\n",
       "      <td>10.695</td>\n",
       "      <td>17.25</td>\n",
       "      <td>21.10</td>\n",
       "      <td>110.0</td>\n",
       "      <td>0.085723</td>\n",
       "      <td>...</td>\n",
       "      <td>2004.0</td>\n",
       "      <td>2009.0</td>\n",
       "      <td>110.0</td>\n",
       "      <td>2111.808651</td>\n",
       "      <td>1911.693586</td>\n",
       "      <td>39.9480</td>\n",
       "      <td>679.11600</td>\n",
       "      <td>1554.6430</td>\n",
       "      <td>2970.30025</td>\n",
       "      <td>8209.3140</td>\n",
       "    </tr>\n",
       "    <tr>\n",
       "      <th>Canned</th>\n",
       "      <td>539.0</td>\n",
       "      <td>12.305705</td>\n",
       "      <td>4.586564</td>\n",
       "      <td>4.615</td>\n",
       "      <td>8.11500</td>\n",
       "      <td>12.150</td>\n",
       "      <td>16.25</td>\n",
       "      <td>21.35</td>\n",
       "      <td>649.0</td>\n",
       "      <td>0.068129</td>\n",
       "      <td>...</td>\n",
       "      <td>2004.0</td>\n",
       "      <td>2009.0</td>\n",
       "      <td>649.0</td>\n",
       "      <td>2225.194904</td>\n",
       "      <td>1645.235638</td>\n",
       "      <td>37.9506</td>\n",
       "      <td>952.09400</td>\n",
       "      <td>1860.2452</td>\n",
       "      <td>3101.29640</td>\n",
       "      <td>10306.5840</td>\n",
       "    </tr>\n",
       "    <tr>\n",
       "      <th>Dairy</th>\n",
       "      <td>566.0</td>\n",
       "      <td>13.426069</td>\n",
       "      <td>4.686532</td>\n",
       "      <td>4.805</td>\n",
       "      <td>9.27750</td>\n",
       "      <td>13.350</td>\n",
       "      <td>17.60</td>\n",
       "      <td>20.70</td>\n",
       "      <td>682.0</td>\n",
       "      <td>0.072427</td>\n",
       "      <td>...</td>\n",
       "      <td>2004.0</td>\n",
       "      <td>2009.0</td>\n",
       "      <td>682.0</td>\n",
       "      <td>2232.542597</td>\n",
       "      <td>1884.404698</td>\n",
       "      <td>40.6138</td>\n",
       "      <td>788.97300</td>\n",
       "      <td>1650.8511</td>\n",
       "      <td>3296.20935</td>\n",
       "      <td>10256.6490</td>\n",
       "    </tr>\n",
       "    <tr>\n",
       "      <th>Frozen Foods</th>\n",
       "      <td>718.0</td>\n",
       "      <td>12.867061</td>\n",
       "      <td>4.507383</td>\n",
       "      <td>4.555</td>\n",
       "      <td>8.93500</td>\n",
       "      <td>12.850</td>\n",
       "      <td>17.00</td>\n",
       "      <td>20.85</td>\n",
       "      <td>856.0</td>\n",
       "      <td>0.065645</td>\n",
       "      <td>...</td>\n",
       "      <td>2004.0</td>\n",
       "      <td>2009.0</td>\n",
       "      <td>856.0</td>\n",
       "      <td>2132.867744</td>\n",
       "      <td>1724.777720</td>\n",
       "      <td>36.6190</td>\n",
       "      <td>808.94700</td>\n",
       "      <td>1687.1372</td>\n",
       "      <td>3079.49145</td>\n",
       "      <td>9678.0688</td>\n",
       "    </tr>\n",
       "    <tr>\n",
       "      <th>Fruits and Vegetables</th>\n",
       "      <td>1019.0</td>\n",
       "      <td>13.224769</td>\n",
       "      <td>4.575275</td>\n",
       "      <td>5.460</td>\n",
       "      <td>9.19500</td>\n",
       "      <td>13.100</td>\n",
       "      <td>17.10</td>\n",
       "      <td>21.35</td>\n",
       "      <td>1232.0</td>\n",
       "      <td>0.068513</td>\n",
       "      <td>...</td>\n",
       "      <td>2004.0</td>\n",
       "      <td>2009.0</td>\n",
       "      <td>1232.0</td>\n",
       "      <td>2289.009592</td>\n",
       "      <td>1799.503459</td>\n",
       "      <td>45.2744</td>\n",
       "      <td>884.84820</td>\n",
       "      <td>1830.9500</td>\n",
       "      <td>3227.13260</td>\n",
       "      <td>12117.5600</td>\n",
       "    </tr>\n",
       "    <tr>\n",
       "      <th>Hard Drinks</th>\n",
       "      <td>183.0</td>\n",
       "      <td>11.400328</td>\n",
       "      <td>4.239144</td>\n",
       "      <td>4.610</td>\n",
       "      <td>8.26000</td>\n",
       "      <td>10.100</td>\n",
       "      <td>14.85</td>\n",
       "      <td>19.70</td>\n",
       "      <td>214.0</td>\n",
       "      <td>0.064943</td>\n",
       "      <td>...</td>\n",
       "      <td>2004.0</td>\n",
       "      <td>2009.0</td>\n",
       "      <td>214.0</td>\n",
       "      <td>2139.221622</td>\n",
       "      <td>1606.191587</td>\n",
       "      <td>37.9506</td>\n",
       "      <td>834.91320</td>\n",
       "      <td>1816.6353</td>\n",
       "      <td>3071.33540</td>\n",
       "      <td>7843.1240</td>\n",
       "    </tr>\n",
       "    <tr>\n",
       "      <th>Health and Hygiene</th>\n",
       "      <td>430.0</td>\n",
       "      <td>13.142314</td>\n",
       "      <td>4.512313</td>\n",
       "      <td>5.175</td>\n",
       "      <td>9.69500</td>\n",
       "      <td>12.150</td>\n",
       "      <td>17.60</td>\n",
       "      <td>21.25</td>\n",
       "      <td>520.0</td>\n",
       "      <td>0.055216</td>\n",
       "      <td>...</td>\n",
       "      <td>2004.0</td>\n",
       "      <td>2009.0</td>\n",
       "      <td>520.0</td>\n",
       "      <td>2010.000265</td>\n",
       "      <td>1553.633063</td>\n",
       "      <td>34.6216</td>\n",
       "      <td>758.84555</td>\n",
       "      <td>1669.4935</td>\n",
       "      <td>2884.57850</td>\n",
       "      <td>9779.9362</td>\n",
       "    </tr>\n",
       "    <tr>\n",
       "      <th>Household</th>\n",
       "      <td>759.0</td>\n",
       "      <td>13.384736</td>\n",
       "      <td>4.998845</td>\n",
       "      <td>5.030</td>\n",
       "      <td>8.69500</td>\n",
       "      <td>13.150</td>\n",
       "      <td>18.35</td>\n",
       "      <td>21.25</td>\n",
       "      <td>910.0</td>\n",
       "      <td>0.061322</td>\n",
       "      <td>...</td>\n",
       "      <td>2004.0</td>\n",
       "      <td>2009.0</td>\n",
       "      <td>910.0</td>\n",
       "      <td>2258.784300</td>\n",
       "      <td>1692.245757</td>\n",
       "      <td>33.2900</td>\n",
       "      <td>853.38915</td>\n",
       "      <td>1981.4208</td>\n",
       "      <td>3236.78670</td>\n",
       "      <td>13086.9648</td>\n",
       "    </tr>\n",
       "    <tr>\n",
       "      <th>Meat</th>\n",
       "      <td>337.0</td>\n",
       "      <td>12.817344</td>\n",
       "      <td>4.670812</td>\n",
       "      <td>5.150</td>\n",
       "      <td>9.30000</td>\n",
       "      <td>12.350</td>\n",
       "      <td>17.20</td>\n",
       "      <td>21.25</td>\n",
       "      <td>425.0</td>\n",
       "      <td>0.062284</td>\n",
       "      <td>...</td>\n",
       "      <td>2004.0</td>\n",
       "      <td>2009.0</td>\n",
       "      <td>425.0</td>\n",
       "      <td>2158.977911</td>\n",
       "      <td>1695.231081</td>\n",
       "      <td>47.9376</td>\n",
       "      <td>782.98080</td>\n",
       "      <td>1829.6184</td>\n",
       "      <td>3036.04800</td>\n",
       "      <td>9390.4432</td>\n",
       "    </tr>\n",
       "    <tr>\n",
       "      <th>Others</th>\n",
       "      <td>137.0</td>\n",
       "      <td>13.853285</td>\n",
       "      <td>4.225534</td>\n",
       "      <td>5.500</td>\n",
       "      <td>10.65000</td>\n",
       "      <td>14.500</td>\n",
       "      <td>17.75</td>\n",
       "      <td>20.50</td>\n",
       "      <td>169.0</td>\n",
       "      <td>0.060241</td>\n",
       "      <td>...</td>\n",
       "      <td>2004.0</td>\n",
       "      <td>2009.0</td>\n",
       "      <td>169.0</td>\n",
       "      <td>1926.139702</td>\n",
       "      <td>1431.860471</td>\n",
       "      <td>39.9480</td>\n",
       "      <td>790.97040</td>\n",
       "      <td>1713.7692</td>\n",
       "      <td>2719.79300</td>\n",
       "      <td>6008.8450</td>\n",
       "    </tr>\n",
       "    <tr>\n",
       "      <th>Seafood</th>\n",
       "      <td>51.0</td>\n",
       "      <td>12.552843</td>\n",
       "      <td>5.473830</td>\n",
       "      <td>5.365</td>\n",
       "      <td>7.42000</td>\n",
       "      <td>11.650</td>\n",
       "      <td>17.75</td>\n",
       "      <td>20.75</td>\n",
       "      <td>64.0</td>\n",
       "      <td>0.074976</td>\n",
       "      <td>...</td>\n",
       "      <td>2004.0</td>\n",
       "      <td>2009.0</td>\n",
       "      <td>64.0</td>\n",
       "      <td>2326.065928</td>\n",
       "      <td>1842.988719</td>\n",
       "      <td>149.8050</td>\n",
       "      <td>473.38380</td>\n",
       "      <td>2055.3246</td>\n",
       "      <td>3589.32780</td>\n",
       "      <td>6503.5344</td>\n",
       "    </tr>\n",
       "    <tr>\n",
       "      <th>Snack Foods</th>\n",
       "      <td>988.0</td>\n",
       "      <td>12.987880</td>\n",
       "      <td>4.531256</td>\n",
       "      <td>5.095</td>\n",
       "      <td>9.19500</td>\n",
       "      <td>13.150</td>\n",
       "      <td>16.85</td>\n",
       "      <td>21.25</td>\n",
       "      <td>1200.0</td>\n",
       "      <td>0.066850</td>\n",
       "      <td>...</td>\n",
       "      <td>2004.0</td>\n",
       "      <td>2009.0</td>\n",
       "      <td>1200.0</td>\n",
       "      <td>2277.321739</td>\n",
       "      <td>1705.121755</td>\n",
       "      <td>33.9558</td>\n",
       "      <td>918.80400</td>\n",
       "      <td>1944.1360</td>\n",
       "      <td>3143.57470</td>\n",
       "      <td>10993.6896</td>\n",
       "    </tr>\n",
       "    <tr>\n",
       "      <th>Soft Drinks</th>\n",
       "      <td>374.0</td>\n",
       "      <td>11.847460</td>\n",
       "      <td>4.403699</td>\n",
       "      <td>4.590</td>\n",
       "      <td>8.26000</td>\n",
       "      <td>11.800</td>\n",
       "      <td>15.35</td>\n",
       "      <td>20.75</td>\n",
       "      <td>445.0</td>\n",
       "      <td>0.063972</td>\n",
       "      <td>...</td>\n",
       "      <td>2004.0</td>\n",
       "      <td>2009.0</td>\n",
       "      <td>445.0</td>\n",
       "      <td>2006.511735</td>\n",
       "      <td>1674.249752</td>\n",
       "      <td>33.2900</td>\n",
       "      <td>771.66220</td>\n",
       "      <td>1518.0240</td>\n",
       "      <td>2759.07520</td>\n",
       "      <td>9554.2300</td>\n",
       "    </tr>\n",
       "    <tr>\n",
       "      <th>Starchy Foods</th>\n",
       "      <td>130.0</td>\n",
       "      <td>13.690731</td>\n",
       "      <td>4.010061</td>\n",
       "      <td>6.695</td>\n",
       "      <td>11.50000</td>\n",
       "      <td>13.175</td>\n",
       "      <td>16.70</td>\n",
       "      <td>21.20</td>\n",
       "      <td>148.0</td>\n",
       "      <td>0.067564</td>\n",
       "      <td>...</td>\n",
       "      <td>2004.0</td>\n",
       "      <td>2009.0</td>\n",
       "      <td>148.0</td>\n",
       "      <td>2374.332773</td>\n",
       "      <td>1773.945328</td>\n",
       "      <td>58.5904</td>\n",
       "      <td>958.75200</td>\n",
       "      <td>1968.1048</td>\n",
       "      <td>3592.65680</td>\n",
       "      <td>8132.0812</td>\n",
       "    </tr>\n",
       "  </tbody>\n",
       "</table>\n",
       "<p>16 rows × 40 columns</p>\n",
       "</div>"
      ],
      "text/plain": [
       "                      Item_Weight                                        \\\n",
       "                            count       mean       std    min       25%   \n",
       "Item_Type                                                                 \n",
       "Baking Goods                536.0  12.277108  4.773622  4.880   8.23500   \n",
       "Breads                      204.0  11.346936  4.440540  4.635   7.12875   \n",
       "Breakfast                    89.0  12.768202  5.038131  6.425   8.06000   \n",
       "Canned                      539.0  12.305705  4.586564  4.615   8.11500   \n",
       "Dairy                       566.0  13.426069  4.686532  4.805   9.27750   \n",
       "Frozen Foods                718.0  12.867061  4.507383  4.555   8.93500   \n",
       "Fruits and Vegetables      1019.0  13.224769  4.575275  5.460   9.19500   \n",
       "Hard Drinks                 183.0  11.400328  4.239144  4.610   8.26000   \n",
       "Health and Hygiene          430.0  13.142314  4.512313  5.175   9.69500   \n",
       "Household                   759.0  13.384736  4.998845  5.030   8.69500   \n",
       "Meat                        337.0  12.817344  4.670812  5.150   9.30000   \n",
       "Others                      137.0  13.853285  4.225534  5.500  10.65000   \n",
       "Seafood                      51.0  12.552843  5.473830  5.365   7.42000   \n",
       "Snack Foods                 988.0  12.987880  4.531256  5.095   9.19500   \n",
       "Soft Drinks                 374.0  11.847460  4.403699  4.590   8.26000   \n",
       "Starchy Foods               130.0  13.690731  4.010061  6.695  11.50000   \n",
       "\n",
       "                                            Item_Visibility            ...  \\\n",
       "                          50%    75%    max           count      mean  ...   \n",
       "Item_Type                                                              ...   \n",
       "Baking Goods           11.650  15.75  20.85           648.0  0.069169  ...   \n",
       "Breads                 10.600  14.85  20.85           251.0  0.066255  ...   \n",
       "Breakfast              10.695  17.25  21.10           110.0  0.085723  ...   \n",
       "Canned                 12.150  16.25  21.35           649.0  0.068129  ...   \n",
       "Dairy                  13.350  17.60  20.70           682.0  0.072427  ...   \n",
       "Frozen Foods           12.850  17.00  20.85           856.0  0.065645  ...   \n",
       "Fruits and Vegetables  13.100  17.10  21.35          1232.0  0.068513  ...   \n",
       "Hard Drinks            10.100  14.85  19.70           214.0  0.064943  ...   \n",
       "Health and Hygiene     12.150  17.60  21.25           520.0  0.055216  ...   \n",
       "Household              13.150  18.35  21.25           910.0  0.061322  ...   \n",
       "Meat                   12.350  17.20  21.25           425.0  0.062284  ...   \n",
       "Others                 14.500  17.75  20.50           169.0  0.060241  ...   \n",
       "Seafood                11.650  17.75  20.75            64.0  0.074976  ...   \n",
       "Snack Foods            13.150  16.85  21.25          1200.0  0.066850  ...   \n",
       "Soft Drinks            11.800  15.35  20.75           445.0  0.063972  ...   \n",
       "Starchy Foods          13.175  16.70  21.20           148.0  0.067564  ...   \n",
       "\n",
       "                      Outlet_Establishment_Year         Item_Outlet_Sales  \\\n",
       "                                            75%     max             count   \n",
       "Item_Type                                                                   \n",
       "Baking Goods                             2004.0  2009.0             648.0   \n",
       "Breads                                   2004.0  2009.0             251.0   \n",
       "Breakfast                                2004.0  2009.0             110.0   \n",
       "Canned                                   2004.0  2009.0             649.0   \n",
       "Dairy                                    2004.0  2009.0             682.0   \n",
       "Frozen Foods                             2004.0  2009.0             856.0   \n",
       "Fruits and Vegetables                    2004.0  2009.0            1232.0   \n",
       "Hard Drinks                              2004.0  2009.0             214.0   \n",
       "Health and Hygiene                       2004.0  2009.0             520.0   \n",
       "Household                                2004.0  2009.0             910.0   \n",
       "Meat                                     2004.0  2009.0             425.0   \n",
       "Others                                   2004.0  2009.0             169.0   \n",
       "Seafood                                  2004.0  2009.0              64.0   \n",
       "Snack Foods                              2004.0  2009.0            1200.0   \n",
       "Soft Drinks                              2004.0  2009.0             445.0   \n",
       "Starchy Foods                            2004.0  2009.0             148.0   \n",
       "\n",
       "                                                                      \\\n",
       "                              mean          std       min        25%   \n",
       "Item_Type                                                              \n",
       "Baking Goods           1952.971207  1546.788045   37.2848  705.08220   \n",
       "Breads                 2204.132226  1644.235914   35.2874  968.73900   \n",
       "Breakfast              2111.808651  1911.693586   39.9480  679.11600   \n",
       "Canned                 2225.194904  1645.235638   37.9506  952.09400   \n",
       "Dairy                  2232.542597  1884.404698   40.6138  788.97300   \n",
       "Frozen Foods           2132.867744  1724.777720   36.6190  808.94700   \n",
       "Fruits and Vegetables  2289.009592  1799.503459   45.2744  884.84820   \n",
       "Hard Drinks            2139.221622  1606.191587   37.9506  834.91320   \n",
       "Health and Hygiene     2010.000265  1553.633063   34.6216  758.84555   \n",
       "Household              2258.784300  1692.245757   33.2900  853.38915   \n",
       "Meat                   2158.977911  1695.231081   47.9376  782.98080   \n",
       "Others                 1926.139702  1431.860471   39.9480  790.97040   \n",
       "Seafood                2326.065928  1842.988719  149.8050  473.38380   \n",
       "Snack Foods            2277.321739  1705.121755   33.9558  918.80400   \n",
       "Soft Drinks            2006.511735  1674.249752   33.2900  771.66220   \n",
       "Starchy Foods          2374.332773  1773.945328   58.5904  958.75200   \n",
       "\n",
       "                                                          \n",
       "                             50%         75%         max  \n",
       "Item_Type                                                 \n",
       "Baking Goods           1577.9460  2823.82425   7931.6754  \n",
       "Breads                 1860.2452  3145.90500   8958.3390  \n",
       "Breakfast              1554.6430  2970.30025   8209.3140  \n",
       "Canned                 1860.2452  3101.29640  10306.5840  \n",
       "Dairy                  1650.8511  3296.20935  10256.6490  \n",
       "Frozen Foods           1687.1372  3079.49145   9678.0688  \n",
       "Fruits and Vegetables  1830.9500  3227.13260  12117.5600  \n",
       "Hard Drinks            1816.6353  3071.33540   7843.1240  \n",
       "Health and Hygiene     1669.4935  2884.57850   9779.9362  \n",
       "Household              1981.4208  3236.78670  13086.9648  \n",
       "Meat                   1829.6184  3036.04800   9390.4432  \n",
       "Others                 1713.7692  2719.79300   6008.8450  \n",
       "Seafood                2055.3246  3589.32780   6503.5344  \n",
       "Snack Foods            1944.1360  3143.57470  10993.6896  \n",
       "Soft Drinks            1518.0240  2759.07520   9554.2300  \n",
       "Starchy Foods          1968.1048  3592.65680   8132.0812  \n",
       "\n",
       "[16 rows x 40 columns]"
      ]
     },
     "execution_count": 21,
     "metadata": {},
     "output_type": "execute_result"
    }
   ],
   "source": [
    "test= df_train.groupby(['Item_Type'])\n",
    "test.describe()"
   ]
  },
  {
   "cell_type": "code",
   "execution_count": 22,
   "id": "9f768656",
   "metadata": {},
   "outputs": [],
   "source": [
    "# Filling the missing values with mean()\n",
    "\n",
    "df_train['Item_Weight'].fillna(df_train['Item_Weight'].mean(),inplace=True)  \n",
    "df_test['Item_Weight'].fillna(df_train['Item_Weight'].mean(),inplace=True)"
   ]
  },
  {
   "cell_type": "code",
   "execution_count": 23,
   "id": "e9a2bfc5",
   "metadata": {},
   "outputs": [],
   "source": [
    "#Filling the missing values with mode()\n",
    "\n",
    "df_train['Outlet_Size'].fillna(df_train['Outlet_Size'].mode()[0],inplace=True)\n",
    "df_test['Outlet_Size'].fillna(df_test['Outlet_Size'].mode()[0],inplace=True)"
   ]
  },
  {
   "cell_type": "code",
   "execution_count": 24,
   "id": "88e46e5e",
   "metadata": {},
   "outputs": [
    {
     "data": {
      "text/plain": [
       "Item_Identifier              0\n",
       "Item_Weight                  0\n",
       "Item_Fat_Content             0\n",
       "Item_Visibility              0\n",
       "Item_Type                    0\n",
       "Item_MRP                     0\n",
       "Outlet_Identifier            0\n",
       "Outlet_Establishment_Year    0\n",
       "Outlet_Size                  0\n",
       "Outlet_Location_Type         0\n",
       "Outlet_Type                  0\n",
       "Item_Outlet_Sales            0\n",
       "dtype: int64"
      ]
     },
     "execution_count": 24,
     "metadata": {},
     "output_type": "execute_result"
    }
   ],
   "source": [
    "df_train.isna().sum()"
   ]
  },
  {
   "cell_type": "code",
   "execution_count": 25,
   "id": "fcaaddc9",
   "metadata": {},
   "outputs": [
    {
     "data": {
      "text/plain": [
       "Item_Identifier              0\n",
       "Item_Weight                  0\n",
       "Item_Fat_Content             0\n",
       "Item_Visibility              0\n",
       "Item_Type                    0\n",
       "Item_MRP                     0\n",
       "Outlet_Identifier            0\n",
       "Outlet_Establishment_Year    0\n",
       "Outlet_Size                  0\n",
       "Outlet_Location_Type         0\n",
       "Outlet_Type                  0\n",
       "dtype: int64"
      ]
     },
     "execution_count": 25,
     "metadata": {},
     "output_type": "execute_result"
    }
   ],
   "source": [
    "df_test.isna().sum()"
   ]
  },
  {
   "cell_type": "code",
   "execution_count": 26,
   "id": "17be8093",
   "metadata": {},
   "outputs": [],
   "source": [
    "# Dropping 'Item_Identifier' and 'Outlet_Identifier'\n",
    "\n",
    "df_train.drop(['Item_Identifier','Outlet_Identifier'],axis=1,inplace=True)\n",
    "df_test.drop(['Item_Identifier','Outlet_Identifier'],axis=1,inplace=True)"
   ]
  },
  {
   "cell_type": "code",
   "execution_count": 27,
   "id": "7429829e",
   "metadata": {},
   "outputs": [
    {
     "data": {
      "text/html": [
       "<div>\n",
       "<style scoped>\n",
       "    .dataframe tbody tr th:only-of-type {\n",
       "        vertical-align: middle;\n",
       "    }\n",
       "\n",
       "    .dataframe tbody tr th {\n",
       "        vertical-align: top;\n",
       "    }\n",
       "\n",
       "    .dataframe thead th {\n",
       "        text-align: right;\n",
       "    }\n",
       "</style>\n",
       "<table border=\"1\" class=\"dataframe\">\n",
       "  <thead>\n",
       "    <tr style=\"text-align: right;\">\n",
       "      <th></th>\n",
       "      <th>Item_Weight</th>\n",
       "      <th>Item_Fat_Content</th>\n",
       "      <th>Item_Visibility</th>\n",
       "      <th>Item_Type</th>\n",
       "      <th>Item_MRP</th>\n",
       "      <th>Outlet_Establishment_Year</th>\n",
       "      <th>Outlet_Size</th>\n",
       "      <th>Outlet_Location_Type</th>\n",
       "      <th>Outlet_Type</th>\n",
       "      <th>Item_Outlet_Sales</th>\n",
       "    </tr>\n",
       "  </thead>\n",
       "  <tbody>\n",
       "    <tr>\n",
       "      <th>0</th>\n",
       "      <td>9.300</td>\n",
       "      <td>Low Fat</td>\n",
       "      <td>0.016047</td>\n",
       "      <td>Dairy</td>\n",
       "      <td>249.8092</td>\n",
       "      <td>1999</td>\n",
       "      <td>Medium</td>\n",
       "      <td>Tier 1</td>\n",
       "      <td>Supermarket Type1</td>\n",
       "      <td>3735.1380</td>\n",
       "    </tr>\n",
       "    <tr>\n",
       "      <th>1</th>\n",
       "      <td>5.920</td>\n",
       "      <td>Regular</td>\n",
       "      <td>0.019278</td>\n",
       "      <td>Soft Drinks</td>\n",
       "      <td>48.2692</td>\n",
       "      <td>2009</td>\n",
       "      <td>Medium</td>\n",
       "      <td>Tier 3</td>\n",
       "      <td>Supermarket Type2</td>\n",
       "      <td>443.4228</td>\n",
       "    </tr>\n",
       "    <tr>\n",
       "      <th>2</th>\n",
       "      <td>17.500</td>\n",
       "      <td>Low Fat</td>\n",
       "      <td>0.016760</td>\n",
       "      <td>Meat</td>\n",
       "      <td>141.6180</td>\n",
       "      <td>1999</td>\n",
       "      <td>Medium</td>\n",
       "      <td>Tier 1</td>\n",
       "      <td>Supermarket Type1</td>\n",
       "      <td>2097.2700</td>\n",
       "    </tr>\n",
       "    <tr>\n",
       "      <th>3</th>\n",
       "      <td>19.200</td>\n",
       "      <td>Regular</td>\n",
       "      <td>0.000000</td>\n",
       "      <td>Fruits and Vegetables</td>\n",
       "      <td>182.0950</td>\n",
       "      <td>1998</td>\n",
       "      <td>Medium</td>\n",
       "      <td>Tier 3</td>\n",
       "      <td>Grocery Store</td>\n",
       "      <td>732.3800</td>\n",
       "    </tr>\n",
       "    <tr>\n",
       "      <th>4</th>\n",
       "      <td>8.930</td>\n",
       "      <td>Low Fat</td>\n",
       "      <td>0.000000</td>\n",
       "      <td>Household</td>\n",
       "      <td>53.8614</td>\n",
       "      <td>1987</td>\n",
       "      <td>High</td>\n",
       "      <td>Tier 3</td>\n",
       "      <td>Supermarket Type1</td>\n",
       "      <td>994.7052</td>\n",
       "    </tr>\n",
       "    <tr>\n",
       "      <th>...</th>\n",
       "      <td>...</td>\n",
       "      <td>...</td>\n",
       "      <td>...</td>\n",
       "      <td>...</td>\n",
       "      <td>...</td>\n",
       "      <td>...</td>\n",
       "      <td>...</td>\n",
       "      <td>...</td>\n",
       "      <td>...</td>\n",
       "      <td>...</td>\n",
       "    </tr>\n",
       "    <tr>\n",
       "      <th>8518</th>\n",
       "      <td>6.865</td>\n",
       "      <td>Low Fat</td>\n",
       "      <td>0.056783</td>\n",
       "      <td>Snack Foods</td>\n",
       "      <td>214.5218</td>\n",
       "      <td>1987</td>\n",
       "      <td>High</td>\n",
       "      <td>Tier 3</td>\n",
       "      <td>Supermarket Type1</td>\n",
       "      <td>2778.3834</td>\n",
       "    </tr>\n",
       "    <tr>\n",
       "      <th>8519</th>\n",
       "      <td>8.380</td>\n",
       "      <td>Regular</td>\n",
       "      <td>0.046982</td>\n",
       "      <td>Baking Goods</td>\n",
       "      <td>108.1570</td>\n",
       "      <td>2002</td>\n",
       "      <td>Medium</td>\n",
       "      <td>Tier 2</td>\n",
       "      <td>Supermarket Type1</td>\n",
       "      <td>549.2850</td>\n",
       "    </tr>\n",
       "    <tr>\n",
       "      <th>8520</th>\n",
       "      <td>10.600</td>\n",
       "      <td>Low Fat</td>\n",
       "      <td>0.035186</td>\n",
       "      <td>Health and Hygiene</td>\n",
       "      <td>85.1224</td>\n",
       "      <td>2004</td>\n",
       "      <td>Small</td>\n",
       "      <td>Tier 2</td>\n",
       "      <td>Supermarket Type1</td>\n",
       "      <td>1193.1136</td>\n",
       "    </tr>\n",
       "    <tr>\n",
       "      <th>8521</th>\n",
       "      <td>7.210</td>\n",
       "      <td>Regular</td>\n",
       "      <td>0.145221</td>\n",
       "      <td>Snack Foods</td>\n",
       "      <td>103.1332</td>\n",
       "      <td>2009</td>\n",
       "      <td>Medium</td>\n",
       "      <td>Tier 3</td>\n",
       "      <td>Supermarket Type2</td>\n",
       "      <td>1845.5976</td>\n",
       "    </tr>\n",
       "    <tr>\n",
       "      <th>8522</th>\n",
       "      <td>14.800</td>\n",
       "      <td>Low Fat</td>\n",
       "      <td>0.044878</td>\n",
       "      <td>Soft Drinks</td>\n",
       "      <td>75.4670</td>\n",
       "      <td>1997</td>\n",
       "      <td>Small</td>\n",
       "      <td>Tier 1</td>\n",
       "      <td>Supermarket Type1</td>\n",
       "      <td>765.6700</td>\n",
       "    </tr>\n",
       "  </tbody>\n",
       "</table>\n",
       "<p>8523 rows × 10 columns</p>\n",
       "</div>"
      ],
      "text/plain": [
       "      Item_Weight Item_Fat_Content  Item_Visibility              Item_Type  \\\n",
       "0           9.300          Low Fat         0.016047                  Dairy   \n",
       "1           5.920          Regular         0.019278            Soft Drinks   \n",
       "2          17.500          Low Fat         0.016760                   Meat   \n",
       "3          19.200          Regular         0.000000  Fruits and Vegetables   \n",
       "4           8.930          Low Fat         0.000000              Household   \n",
       "...           ...              ...              ...                    ...   \n",
       "8518        6.865          Low Fat         0.056783            Snack Foods   \n",
       "8519        8.380          Regular         0.046982           Baking Goods   \n",
       "8520       10.600          Low Fat         0.035186     Health and Hygiene   \n",
       "8521        7.210          Regular         0.145221            Snack Foods   \n",
       "8522       14.800          Low Fat         0.044878            Soft Drinks   \n",
       "\n",
       "      Item_MRP  Outlet_Establishment_Year Outlet_Size Outlet_Location_Type  \\\n",
       "0     249.8092                       1999      Medium               Tier 1   \n",
       "1      48.2692                       2009      Medium               Tier 3   \n",
       "2     141.6180                       1999      Medium               Tier 1   \n",
       "3     182.0950                       1998      Medium               Tier 3   \n",
       "4      53.8614                       1987        High               Tier 3   \n",
       "...        ...                        ...         ...                  ...   \n",
       "8518  214.5218                       1987        High               Tier 3   \n",
       "8519  108.1570                       2002      Medium               Tier 2   \n",
       "8520   85.1224                       2004       Small               Tier 2   \n",
       "8521  103.1332                       2009      Medium               Tier 3   \n",
       "8522   75.4670                       1997       Small               Tier 1   \n",
       "\n",
       "            Outlet_Type  Item_Outlet_Sales  \n",
       "0     Supermarket Type1          3735.1380  \n",
       "1     Supermarket Type2           443.4228  \n",
       "2     Supermarket Type1          2097.2700  \n",
       "3         Grocery Store           732.3800  \n",
       "4     Supermarket Type1           994.7052  \n",
       "...                 ...                ...  \n",
       "8518  Supermarket Type1          2778.3834  \n",
       "8519  Supermarket Type1           549.2850  \n",
       "8520  Supermarket Type1          1193.1136  \n",
       "8521  Supermarket Type2          1845.5976  \n",
       "8522  Supermarket Type1           765.6700  \n",
       "\n",
       "[8523 rows x 10 columns]"
      ]
     },
     "execution_count": 27,
     "metadata": {},
     "output_type": "execute_result"
    }
   ],
   "source": [
    "df_train"
   ]
  },
  {
   "cell_type": "code",
   "execution_count": 28,
   "id": "a6f73fe3",
   "metadata": {},
   "outputs": [
    {
     "data": {
      "text/html": [
       "<div>\n",
       "<style scoped>\n",
       "    .dataframe tbody tr th:only-of-type {\n",
       "        vertical-align: middle;\n",
       "    }\n",
       "\n",
       "    .dataframe tbody tr th {\n",
       "        vertical-align: top;\n",
       "    }\n",
       "\n",
       "    .dataframe thead th {\n",
       "        text-align: right;\n",
       "    }\n",
       "</style>\n",
       "<table border=\"1\" class=\"dataframe\">\n",
       "  <thead>\n",
       "    <tr style=\"text-align: right;\">\n",
       "      <th></th>\n",
       "      <th>Item_Weight</th>\n",
       "      <th>Item_Fat_Content</th>\n",
       "      <th>Item_Visibility</th>\n",
       "      <th>Item_Type</th>\n",
       "      <th>Item_MRP</th>\n",
       "      <th>Outlet_Establishment_Year</th>\n",
       "      <th>Outlet_Size</th>\n",
       "      <th>Outlet_Location_Type</th>\n",
       "      <th>Outlet_Type</th>\n",
       "    </tr>\n",
       "  </thead>\n",
       "  <tbody>\n",
       "    <tr>\n",
       "      <th>0</th>\n",
       "      <td>20.750000</td>\n",
       "      <td>Low Fat</td>\n",
       "      <td>0.007565</td>\n",
       "      <td>Snack Foods</td>\n",
       "      <td>107.8622</td>\n",
       "      <td>1999</td>\n",
       "      <td>Medium</td>\n",
       "      <td>Tier 1</td>\n",
       "      <td>Supermarket Type1</td>\n",
       "    </tr>\n",
       "    <tr>\n",
       "      <th>1</th>\n",
       "      <td>8.300000</td>\n",
       "      <td>reg</td>\n",
       "      <td>0.038428</td>\n",
       "      <td>Dairy</td>\n",
       "      <td>87.3198</td>\n",
       "      <td>2007</td>\n",
       "      <td>Medium</td>\n",
       "      <td>Tier 2</td>\n",
       "      <td>Supermarket Type1</td>\n",
       "    </tr>\n",
       "    <tr>\n",
       "      <th>2</th>\n",
       "      <td>14.600000</td>\n",
       "      <td>Low Fat</td>\n",
       "      <td>0.099575</td>\n",
       "      <td>Others</td>\n",
       "      <td>241.7538</td>\n",
       "      <td>1998</td>\n",
       "      <td>Medium</td>\n",
       "      <td>Tier 3</td>\n",
       "      <td>Grocery Store</td>\n",
       "    </tr>\n",
       "    <tr>\n",
       "      <th>3</th>\n",
       "      <td>7.315000</td>\n",
       "      <td>Low Fat</td>\n",
       "      <td>0.015388</td>\n",
       "      <td>Snack Foods</td>\n",
       "      <td>155.0340</td>\n",
       "      <td>2007</td>\n",
       "      <td>Medium</td>\n",
       "      <td>Tier 2</td>\n",
       "      <td>Supermarket Type1</td>\n",
       "    </tr>\n",
       "    <tr>\n",
       "      <th>4</th>\n",
       "      <td>12.857645</td>\n",
       "      <td>Regular</td>\n",
       "      <td>0.118599</td>\n",
       "      <td>Dairy</td>\n",
       "      <td>234.2300</td>\n",
       "      <td>1985</td>\n",
       "      <td>Medium</td>\n",
       "      <td>Tier 3</td>\n",
       "      <td>Supermarket Type3</td>\n",
       "    </tr>\n",
       "    <tr>\n",
       "      <th>...</th>\n",
       "      <td>...</td>\n",
       "      <td>...</td>\n",
       "      <td>...</td>\n",
       "      <td>...</td>\n",
       "      <td>...</td>\n",
       "      <td>...</td>\n",
       "      <td>...</td>\n",
       "      <td>...</td>\n",
       "      <td>...</td>\n",
       "    </tr>\n",
       "    <tr>\n",
       "      <th>5676</th>\n",
       "      <td>10.500000</td>\n",
       "      <td>Regular</td>\n",
       "      <td>0.013496</td>\n",
       "      <td>Snack Foods</td>\n",
       "      <td>141.3154</td>\n",
       "      <td>1997</td>\n",
       "      <td>Small</td>\n",
       "      <td>Tier 1</td>\n",
       "      <td>Supermarket Type1</td>\n",
       "    </tr>\n",
       "    <tr>\n",
       "      <th>5677</th>\n",
       "      <td>7.600000</td>\n",
       "      <td>Regular</td>\n",
       "      <td>0.142991</td>\n",
       "      <td>Starchy Foods</td>\n",
       "      <td>169.1448</td>\n",
       "      <td>2009</td>\n",
       "      <td>Medium</td>\n",
       "      <td>Tier 3</td>\n",
       "      <td>Supermarket Type2</td>\n",
       "    </tr>\n",
       "    <tr>\n",
       "      <th>5678</th>\n",
       "      <td>10.000000</td>\n",
       "      <td>Low Fat</td>\n",
       "      <td>0.073529</td>\n",
       "      <td>Health and Hygiene</td>\n",
       "      <td>118.7440</td>\n",
       "      <td>2002</td>\n",
       "      <td>Medium</td>\n",
       "      <td>Tier 2</td>\n",
       "      <td>Supermarket Type1</td>\n",
       "    </tr>\n",
       "    <tr>\n",
       "      <th>5679</th>\n",
       "      <td>15.300000</td>\n",
       "      <td>Regular</td>\n",
       "      <td>0.000000</td>\n",
       "      <td>Canned</td>\n",
       "      <td>214.6218</td>\n",
       "      <td>2007</td>\n",
       "      <td>Medium</td>\n",
       "      <td>Tier 2</td>\n",
       "      <td>Supermarket Type1</td>\n",
       "    </tr>\n",
       "    <tr>\n",
       "      <th>5680</th>\n",
       "      <td>9.500000</td>\n",
       "      <td>Regular</td>\n",
       "      <td>0.104720</td>\n",
       "      <td>Canned</td>\n",
       "      <td>79.7960</td>\n",
       "      <td>2002</td>\n",
       "      <td>Medium</td>\n",
       "      <td>Tier 2</td>\n",
       "      <td>Supermarket Type1</td>\n",
       "    </tr>\n",
       "  </tbody>\n",
       "</table>\n",
       "<p>5681 rows × 9 columns</p>\n",
       "</div>"
      ],
      "text/plain": [
       "      Item_Weight Item_Fat_Content  Item_Visibility           Item_Type  \\\n",
       "0       20.750000          Low Fat         0.007565         Snack Foods   \n",
       "1        8.300000              reg         0.038428               Dairy   \n",
       "2       14.600000          Low Fat         0.099575              Others   \n",
       "3        7.315000          Low Fat         0.015388         Snack Foods   \n",
       "4       12.857645          Regular         0.118599               Dairy   \n",
       "...           ...              ...              ...                 ...   \n",
       "5676    10.500000          Regular         0.013496         Snack Foods   \n",
       "5677     7.600000          Regular         0.142991       Starchy Foods   \n",
       "5678    10.000000          Low Fat         0.073529  Health and Hygiene   \n",
       "5679    15.300000          Regular         0.000000              Canned   \n",
       "5680     9.500000          Regular         0.104720              Canned   \n",
       "\n",
       "      Item_MRP  Outlet_Establishment_Year Outlet_Size Outlet_Location_Type  \\\n",
       "0     107.8622                       1999      Medium               Tier 1   \n",
       "1      87.3198                       2007      Medium               Tier 2   \n",
       "2     241.7538                       1998      Medium               Tier 3   \n",
       "3     155.0340                       2007      Medium               Tier 2   \n",
       "4     234.2300                       1985      Medium               Tier 3   \n",
       "...        ...                        ...         ...                  ...   \n",
       "5676  141.3154                       1997       Small               Tier 1   \n",
       "5677  169.1448                       2009      Medium               Tier 3   \n",
       "5678  118.7440                       2002      Medium               Tier 2   \n",
       "5679  214.6218                       2007      Medium               Tier 2   \n",
       "5680   79.7960                       2002      Medium               Tier 2   \n",
       "\n",
       "            Outlet_Type  \n",
       "0     Supermarket Type1  \n",
       "1     Supermarket Type1  \n",
       "2         Grocery Store  \n",
       "3     Supermarket Type1  \n",
       "4     Supermarket Type3  \n",
       "...                 ...  \n",
       "5676  Supermarket Type1  \n",
       "5677  Supermarket Type2  \n",
       "5678  Supermarket Type1  \n",
       "5679  Supermarket Type1  \n",
       "5680  Supermarket Type1  \n",
       "\n",
       "[5681 rows x 9 columns]"
      ]
     },
     "execution_count": 28,
     "metadata": {},
     "output_type": "execute_result"
    }
   ],
   "source": [
    "df_test"
   ]
  },
  {
   "cell_type": "code",
   "execution_count": 29,
   "id": "da2f8559",
   "metadata": {},
   "outputs": [
    {
     "name": "stdout",
     "output_type": "stream",
     "text": [
      "      Item_Weight  Item_Fat_Content  Item_Visibility  Item_Type  Item_MRP  \\\n",
      "0           9.300                 1         0.016047          4  249.8092   \n",
      "1           5.920                 2         0.019278         14   48.2692   \n",
      "2          17.500                 1         0.016760         10  141.6180   \n",
      "3          19.200                 2         0.000000          6  182.0950   \n",
      "4           8.930                 1         0.000000          9   53.8614   \n",
      "...           ...               ...              ...        ...       ...   \n",
      "8518        6.865                 1         0.056783         13  214.5218   \n",
      "8519        8.380                 2         0.046982          0  108.1570   \n",
      "8520       10.600                 1         0.035186          8   85.1224   \n",
      "8521        7.210                 2         0.145221         13  103.1332   \n",
      "8522       14.800                 1         0.044878         14   75.4670   \n",
      "\n",
      "      Outlet_Establishment_Year  Outlet_Size  Outlet_Location_Type  \\\n",
      "0                          1999            1                     0   \n",
      "1                          2009            1                     2   \n",
      "2                          1999            1                     0   \n",
      "3                          1998            1                     2   \n",
      "4                          1987            0                     2   \n",
      "...                         ...          ...                   ...   \n",
      "8518                       1987            0                     2   \n",
      "8519                       2002            1                     1   \n",
      "8520                       2004            2                     1   \n",
      "8521                       2009            1                     2   \n",
      "8522                       1997            2                     0   \n",
      "\n",
      "      Outlet_Type  Item_Outlet_Sales  \n",
      "0               1          3735.1380  \n",
      "1               2           443.4228  \n",
      "2               1          2097.2700  \n",
      "3               0           732.3800  \n",
      "4               1           994.7052  \n",
      "...           ...                ...  \n",
      "8518            1          2778.3834  \n",
      "8519            1           549.2850  \n",
      "8520            1          1193.1136  \n",
      "8521            2          1845.5976  \n",
      "8522            1           765.6700  \n",
      "\n",
      "[8523 rows x 10 columns]\n"
     ]
    }
   ],
   "source": [
    "#Label Encoding\n",
    "\n",
    "from sklearn.preprocessing import LabelEncoder\n",
    "le=LabelEncoder()\n",
    "\n",
    "df_train['Item_Fat_Content']= le.fit_transform(df_train['Item_Fat_Content'])\n",
    "df_train['Item_Type']= le.fit_transform(df_train['Item_Type'])\n",
    "df_train['Outlet_Size']= le.fit_transform(df_train['Outlet_Size'])\n",
    "df_train['Outlet_Location_Type']= le.fit_transform(df_train['Outlet_Location_Type'])\n",
    "df_train['Outlet_Type']= le.fit_transform(df_train['Outlet_Type'])\n",
    "print(df_train)"
   ]
  },
  {
   "cell_type": "code",
   "execution_count": 30,
   "id": "7e304187",
   "metadata": {},
   "outputs": [
    {
     "name": "stdout",
     "output_type": "stream",
     "text": [
      "      Item_Weight  Item_Fat_Content  Item_Visibility  Item_Type  Item_MRP  \\\n",
      "0       20.750000                 1         0.007565         13  107.8622   \n",
      "1        8.300000                 4         0.038428          4   87.3198   \n",
      "2       14.600000                 1         0.099575         11  241.7538   \n",
      "3        7.315000                 1         0.015388         13  155.0340   \n",
      "4       12.857645                 2         0.118599          4  234.2300   \n",
      "...           ...               ...              ...        ...       ...   \n",
      "5676    10.500000                 2         0.013496         13  141.3154   \n",
      "5677     7.600000                 2         0.142991         15  169.1448   \n",
      "5678    10.000000                 1         0.073529          8  118.7440   \n",
      "5679    15.300000                 2         0.000000          3  214.6218   \n",
      "5680     9.500000                 2         0.104720          3   79.7960   \n",
      "\n",
      "      Outlet_Establishment_Year  Outlet_Size  Outlet_Location_Type  \\\n",
      "0                          1999            1                     0   \n",
      "1                          2007            1                     1   \n",
      "2                          1998            1                     2   \n",
      "3                          2007            1                     1   \n",
      "4                          1985            1                     2   \n",
      "...                         ...          ...                   ...   \n",
      "5676                       1997            2                     0   \n",
      "5677                       2009            1                     2   \n",
      "5678                       2002            1                     1   \n",
      "5679                       2007            1                     1   \n",
      "5680                       2002            1                     1   \n",
      "\n",
      "      Outlet_Type  \n",
      "0               1  \n",
      "1               1  \n",
      "2               0  \n",
      "3               1  \n",
      "4               3  \n",
      "...           ...  \n",
      "5676            1  \n",
      "5677            2  \n",
      "5678            1  \n",
      "5679            1  \n",
      "5680            1  \n",
      "\n",
      "[5681 rows x 9 columns]\n"
     ]
    }
   ],
   "source": [
    "\n",
    "df_test['Item_Fat_Content']= le.fit_transform(df_test['Item_Fat_Content'])\n",
    "df_test['Item_Type']= le.fit_transform(df_test['Item_Type'])\n",
    "df_test['Outlet_Size']= le.fit_transform(df_test['Outlet_Size'])\n",
    "df_test['Outlet_Location_Type']= le.fit_transform(df_test['Outlet_Location_Type'])\n",
    "df_test['Outlet_Type']= le.fit_transform(df_test['Outlet_Type'])\n",
    "print(df_test)"
   ]
  },
  {
   "cell_type": "code",
   "execution_count": 31,
   "id": "0565c7f1",
   "metadata": {},
   "outputs": [
    {
     "data": {
      "text/html": [
       "<div>\n",
       "<style scoped>\n",
       "    .dataframe tbody tr th:only-of-type {\n",
       "        vertical-align: middle;\n",
       "    }\n",
       "\n",
       "    .dataframe tbody tr th {\n",
       "        vertical-align: top;\n",
       "    }\n",
       "\n",
       "    .dataframe thead th {\n",
       "        text-align: right;\n",
       "    }\n",
       "</style>\n",
       "<table border=\"1\" class=\"dataframe\">\n",
       "  <thead>\n",
       "    <tr style=\"text-align: right;\">\n",
       "      <th></th>\n",
       "      <th>Item_Weight</th>\n",
       "      <th>Item_Fat_Content</th>\n",
       "      <th>Item_Visibility</th>\n",
       "      <th>Item_Type</th>\n",
       "      <th>Item_MRP</th>\n",
       "      <th>Outlet_Establishment_Year</th>\n",
       "      <th>Outlet_Size</th>\n",
       "      <th>Outlet_Location_Type</th>\n",
       "      <th>Outlet_Type</th>\n",
       "      <th>Item_Outlet_Sales</th>\n",
       "    </tr>\n",
       "  </thead>\n",
       "  <tbody>\n",
       "    <tr>\n",
       "      <th>Item_Weight</th>\n",
       "      <td>1.000000</td>\n",
       "      <td>-0.017331</td>\n",
       "      <td>-0.012049</td>\n",
       "      <td>0.028015</td>\n",
       "      <td>0.024756</td>\n",
       "      <td>-0.008301</td>\n",
       "      <td>-0.007225</td>\n",
       "      <td>0.004088</td>\n",
       "      <td>-0.000566</td>\n",
       "      <td>0.011550</td>\n",
       "    </tr>\n",
       "    <tr>\n",
       "      <th>Item_Fat_Content</th>\n",
       "      <td>-0.017331</td>\n",
       "      <td>1.000000</td>\n",
       "      <td>0.034042</td>\n",
       "      <td>-0.115958</td>\n",
       "      <td>-0.000876</td>\n",
       "      <td>-0.000189</td>\n",
       "      <td>-0.012058</td>\n",
       "      <td>-0.004102</td>\n",
       "      <td>-0.004214</td>\n",
       "      <td>0.009800</td>\n",
       "    </tr>\n",
       "    <tr>\n",
       "      <th>Item_Visibility</th>\n",
       "      <td>-0.012049</td>\n",
       "      <td>0.034042</td>\n",
       "      <td>1.000000</td>\n",
       "      <td>-0.035249</td>\n",
       "      <td>-0.001315</td>\n",
       "      <td>-0.074834</td>\n",
       "      <td>0.069309</td>\n",
       "      <td>-0.028099</td>\n",
       "      <td>-0.173468</td>\n",
       "      <td>-0.128625</td>\n",
       "    </tr>\n",
       "    <tr>\n",
       "      <th>Item_Type</th>\n",
       "      <td>0.028015</td>\n",
       "      <td>-0.115958</td>\n",
       "      <td>-0.035249</td>\n",
       "      <td>1.000000</td>\n",
       "      <td>0.032651</td>\n",
       "      <td>0.004970</td>\n",
       "      <td>-0.001859</td>\n",
       "      <td>0.003084</td>\n",
       "      <td>0.003053</td>\n",
       "      <td>0.017048</td>\n",
       "    </tr>\n",
       "    <tr>\n",
       "      <th>Item_MRP</th>\n",
       "      <td>0.024756</td>\n",
       "      <td>-0.000876</td>\n",
       "      <td>-0.001315</td>\n",
       "      <td>0.032651</td>\n",
       "      <td>1.000000</td>\n",
       "      <td>0.005020</td>\n",
       "      <td>0.006059</td>\n",
       "      <td>0.000232</td>\n",
       "      <td>-0.001975</td>\n",
       "      <td>0.567574</td>\n",
       "    </tr>\n",
       "    <tr>\n",
       "      <th>Outlet_Establishment_Year</th>\n",
       "      <td>-0.008301</td>\n",
       "      <td>-0.000189</td>\n",
       "      <td>-0.074834</td>\n",
       "      <td>0.004970</td>\n",
       "      <td>0.005020</td>\n",
       "      <td>1.000000</td>\n",
       "      <td>0.193389</td>\n",
       "      <td>-0.089216</td>\n",
       "      <td>-0.122304</td>\n",
       "      <td>-0.049135</td>\n",
       "    </tr>\n",
       "    <tr>\n",
       "      <th>Outlet_Size</th>\n",
       "      <td>-0.007225</td>\n",
       "      <td>-0.012058</td>\n",
       "      <td>0.069309</td>\n",
       "      <td>-0.001859</td>\n",
       "      <td>0.006059</td>\n",
       "      <td>0.193389</td>\n",
       "      <td>1.000000</td>\n",
       "      <td>-0.614311</td>\n",
       "      <td>-0.201483</td>\n",
       "      <td>-0.086182</td>\n",
       "    </tr>\n",
       "    <tr>\n",
       "      <th>Outlet_Location_Type</th>\n",
       "      <td>0.004088</td>\n",
       "      <td>-0.004102</td>\n",
       "      <td>-0.028099</td>\n",
       "      <td>0.003084</td>\n",
       "      <td>0.000232</td>\n",
       "      <td>-0.089216</td>\n",
       "      <td>-0.614311</td>\n",
       "      <td>1.000000</td>\n",
       "      <td>0.467219</td>\n",
       "      <td>0.089367</td>\n",
       "    </tr>\n",
       "    <tr>\n",
       "      <th>Outlet_Type</th>\n",
       "      <td>-0.000566</td>\n",
       "      <td>-0.004214</td>\n",
       "      <td>-0.173468</td>\n",
       "      <td>0.003053</td>\n",
       "      <td>-0.001975</td>\n",
       "      <td>-0.122304</td>\n",
       "      <td>-0.201483</td>\n",
       "      <td>0.467219</td>\n",
       "      <td>1.000000</td>\n",
       "      <td>0.401522</td>\n",
       "    </tr>\n",
       "    <tr>\n",
       "      <th>Item_Outlet_Sales</th>\n",
       "      <td>0.011550</td>\n",
       "      <td>0.009800</td>\n",
       "      <td>-0.128625</td>\n",
       "      <td>0.017048</td>\n",
       "      <td>0.567574</td>\n",
       "      <td>-0.049135</td>\n",
       "      <td>-0.086182</td>\n",
       "      <td>0.089367</td>\n",
       "      <td>0.401522</td>\n",
       "      <td>1.000000</td>\n",
       "    </tr>\n",
       "  </tbody>\n",
       "</table>\n",
       "</div>"
      ],
      "text/plain": [
       "                           Item_Weight  Item_Fat_Content  Item_Visibility  \\\n",
       "Item_Weight                   1.000000         -0.017331        -0.012049   \n",
       "Item_Fat_Content             -0.017331          1.000000         0.034042   \n",
       "Item_Visibility              -0.012049          0.034042         1.000000   \n",
       "Item_Type                     0.028015         -0.115958        -0.035249   \n",
       "Item_MRP                      0.024756         -0.000876        -0.001315   \n",
       "Outlet_Establishment_Year    -0.008301         -0.000189        -0.074834   \n",
       "Outlet_Size                  -0.007225         -0.012058         0.069309   \n",
       "Outlet_Location_Type          0.004088         -0.004102        -0.028099   \n",
       "Outlet_Type                  -0.000566         -0.004214        -0.173468   \n",
       "Item_Outlet_Sales             0.011550          0.009800        -0.128625   \n",
       "\n",
       "                           Item_Type  Item_MRP  Outlet_Establishment_Year  \\\n",
       "Item_Weight                 0.028015  0.024756                  -0.008301   \n",
       "Item_Fat_Content           -0.115958 -0.000876                  -0.000189   \n",
       "Item_Visibility            -0.035249 -0.001315                  -0.074834   \n",
       "Item_Type                   1.000000  0.032651                   0.004970   \n",
       "Item_MRP                    0.032651  1.000000                   0.005020   \n",
       "Outlet_Establishment_Year   0.004970  0.005020                   1.000000   \n",
       "Outlet_Size                -0.001859  0.006059                   0.193389   \n",
       "Outlet_Location_Type        0.003084  0.000232                  -0.089216   \n",
       "Outlet_Type                 0.003053 -0.001975                  -0.122304   \n",
       "Item_Outlet_Sales           0.017048  0.567574                  -0.049135   \n",
       "\n",
       "                           Outlet_Size  Outlet_Location_Type  Outlet_Type  \\\n",
       "Item_Weight                  -0.007225              0.004088    -0.000566   \n",
       "Item_Fat_Content             -0.012058             -0.004102    -0.004214   \n",
       "Item_Visibility               0.069309             -0.028099    -0.173468   \n",
       "Item_Type                    -0.001859              0.003084     0.003053   \n",
       "Item_MRP                      0.006059              0.000232    -0.001975   \n",
       "Outlet_Establishment_Year     0.193389             -0.089216    -0.122304   \n",
       "Outlet_Size                   1.000000             -0.614311    -0.201483   \n",
       "Outlet_Location_Type         -0.614311              1.000000     0.467219   \n",
       "Outlet_Type                  -0.201483              0.467219     1.000000   \n",
       "Item_Outlet_Sales            -0.086182              0.089367     0.401522   \n",
       "\n",
       "                           Item_Outlet_Sales  \n",
       "Item_Weight                         0.011550  \n",
       "Item_Fat_Content                    0.009800  \n",
       "Item_Visibility                    -0.128625  \n",
       "Item_Type                           0.017048  \n",
       "Item_MRP                            0.567574  \n",
       "Outlet_Establishment_Year          -0.049135  \n",
       "Outlet_Size                        -0.086182  \n",
       "Outlet_Location_Type                0.089367  \n",
       "Outlet_Type                         0.401522  \n",
       "Item_Outlet_Sales                   1.000000  "
      ]
     },
     "execution_count": 31,
     "metadata": {},
     "output_type": "execute_result"
    }
   ],
   "source": [
    "df_train.corr()"
   ]
  },
  {
   "cell_type": "code",
   "execution_count": 32,
   "id": "aab712ec",
   "metadata": {},
   "outputs": [
    {
     "data": {
      "text/plain": [
       "<Axes: >"
      ]
     },
     "execution_count": 32,
     "metadata": {},
     "output_type": "execute_result"
    },
    {
     "data": {
      "image/png": "[encoded data removed]",
      "text/plain": [
       "<Figure size 640x480 with 2 Axes>"
      ]
     },
     "metadata": {},
     "output_type": "display_data"
    }
   ],
   "source": [
    "sns.heatmap(df_train.corr())"
   ]
  },
  {
   "cell_type": "code",
   "execution_count": 33,
   "id": "a7a007e3",
   "metadata": {},
   "outputs": [
    {
     "data": {
      "text/html": [
       "<div>\n",
       "<style scoped>\n",
       "    .dataframe tbody tr th:only-of-type {\n",
       "        vertical-align: middle;\n",
       "    }\n",
       "\n",
       "    .dataframe tbody tr th {\n",
       "        vertical-align: top;\n",
       "    }\n",
       "\n",
       "    .dataframe thead th {\n",
       "        text-align: right;\n",
       "    }\n",
       "</style>\n",
       "<table border=\"1\" class=\"dataframe\">\n",
       "  <thead>\n",
       "    <tr style=\"text-align: right;\">\n",
       "      <th></th>\n",
       "      <th>Item_Weight</th>\n",
       "      <th>Item_Fat_Content</th>\n",
       "      <th>Item_Visibility</th>\n",
       "      <th>Item_Type</th>\n",
       "      <th>Item_MRP</th>\n",
       "      <th>Outlet_Establishment_Year</th>\n",
       "      <th>Outlet_Size</th>\n",
       "      <th>Outlet_Location_Type</th>\n",
       "      <th>Outlet_Type</th>\n",
       "    </tr>\n",
       "  </thead>\n",
       "  <tbody>\n",
       "    <tr>\n",
       "      <th>Item_Weight</th>\n",
       "      <td>1.000000</td>\n",
       "      <td>-0.042494</td>\n",
       "      <td>-0.014752</td>\n",
       "      <td>0.029548</td>\n",
       "      <td>0.045420</td>\n",
       "      <td>0.003499</td>\n",
       "      <td>0.016806</td>\n",
       "      <td>-0.010017</td>\n",
       "      <td>0.010977</td>\n",
       "    </tr>\n",
       "    <tr>\n",
       "      <th>Item_Fat_Content</th>\n",
       "      <td>-0.042494</td>\n",
       "      <td>1.000000</td>\n",
       "      <td>0.033591</td>\n",
       "      <td>-0.128945</td>\n",
       "      <td>-0.014283</td>\n",
       "      <td>-0.010088</td>\n",
       "      <td>0.000421</td>\n",
       "      <td>-0.000130</td>\n",
       "      <td>0.000387</td>\n",
       "    </tr>\n",
       "    <tr>\n",
       "      <th>Item_Visibility</th>\n",
       "      <td>-0.014752</td>\n",
       "      <td>0.033591</td>\n",
       "      <td>1.000000</td>\n",
       "      <td>-0.036237</td>\n",
       "      <td>-0.014013</td>\n",
       "      <td>-0.097040</td>\n",
       "      <td>0.058082</td>\n",
       "      <td>-0.001146</td>\n",
       "      <td>-0.154042</td>\n",
       "    </tr>\n",
       "    <tr>\n",
       "      <th>Item_Type</th>\n",
       "      <td>0.029548</td>\n",
       "      <td>-0.128945</td>\n",
       "      <td>-0.036237</td>\n",
       "      <td>1.000000</td>\n",
       "      <td>0.060990</td>\n",
       "      <td>0.000204</td>\n",
       "      <td>-0.003729</td>\n",
       "      <td>0.000584</td>\n",
       "      <td>0.006179</td>\n",
       "    </tr>\n",
       "    <tr>\n",
       "      <th>Item_MRP</th>\n",
       "      <td>0.045420</td>\n",
       "      <td>-0.014283</td>\n",
       "      <td>-0.014013</td>\n",
       "      <td>0.060990</td>\n",
       "      <td>1.000000</td>\n",
       "      <td>-0.007233</td>\n",
       "      <td>-0.011717</td>\n",
       "      <td>0.001754</td>\n",
       "      <td>0.003326</td>\n",
       "    </tr>\n",
       "    <tr>\n",
       "      <th>Outlet_Establishment_Year</th>\n",
       "      <td>0.003499</td>\n",
       "      <td>-0.010088</td>\n",
       "      <td>-0.097040</td>\n",
       "      <td>0.000204</td>\n",
       "      <td>-0.007233</td>\n",
       "      <td>1.000000</td>\n",
       "      <td>0.193397</td>\n",
       "      <td>-0.089496</td>\n",
       "      <td>-0.122841</td>\n",
       "    </tr>\n",
       "    <tr>\n",
       "      <th>Outlet_Size</th>\n",
       "      <td>0.016806</td>\n",
       "      <td>0.000421</td>\n",
       "      <td>0.058082</td>\n",
       "      <td>-0.003729</td>\n",
       "      <td>-0.011717</td>\n",
       "      <td>0.193397</td>\n",
       "      <td>1.000000</td>\n",
       "      <td>-0.614284</td>\n",
       "      <td>-0.201538</td>\n",
       "    </tr>\n",
       "    <tr>\n",
       "      <th>Outlet_Location_Type</th>\n",
       "      <td>-0.010017</td>\n",
       "      <td>-0.000130</td>\n",
       "      <td>-0.001146</td>\n",
       "      <td>0.000584</td>\n",
       "      <td>0.001754</td>\n",
       "      <td>-0.089496</td>\n",
       "      <td>-0.614284</td>\n",
       "      <td>1.000000</td>\n",
       "      <td>0.467299</td>\n",
       "    </tr>\n",
       "    <tr>\n",
       "      <th>Outlet_Type</th>\n",
       "      <td>0.010977</td>\n",
       "      <td>0.000387</td>\n",
       "      <td>-0.154042</td>\n",
       "      <td>0.006179</td>\n",
       "      <td>0.003326</td>\n",
       "      <td>-0.122841</td>\n",
       "      <td>-0.201538</td>\n",
       "      <td>0.467299</td>\n",
       "      <td>1.000000</td>\n",
       "    </tr>\n",
       "  </tbody>\n",
       "</table>\n",
       "</div>"
      ],
      "text/plain": [
       "                           Item_Weight  Item_Fat_Content  Item_Visibility  \\\n",
       "Item_Weight                   1.000000         -0.042494        -0.014752   \n",
       "Item_Fat_Content             -0.042494          1.000000         0.033591   \n",
       "Item_Visibility              -0.014752          0.033591         1.000000   \n",
       "Item_Type                     0.029548         -0.128945        -0.036237   \n",
       "Item_MRP                      0.045420         -0.014283        -0.014013   \n",
       "Outlet_Establishment_Year     0.003499         -0.010088        -0.097040   \n",
       "Outlet_Size                   0.016806          0.000421         0.058082   \n",
       "Outlet_Location_Type         -0.010017         -0.000130        -0.001146   \n",
       "Outlet_Type                   0.010977          0.000387        -0.154042   \n",
       "\n",
       "                           Item_Type  Item_MRP  Outlet_Establishment_Year  \\\n",
       "Item_Weight                 0.029548  0.045420                   0.003499   \n",
       "Item_Fat_Content           -0.128945 -0.014283                  -0.010088   \n",
       "Item_Visibility            -0.036237 -0.014013                  -0.097040   \n",
       "Item_Type                   1.000000  0.060990                   0.000204   \n",
       "Item_MRP                    0.060990  1.000000                  -0.007233   \n",
       "Outlet_Establishment_Year   0.000204 -0.007233                   1.000000   \n",
       "Outlet_Size                -0.003729 -0.011717                   0.193397   \n",
       "Outlet_Location_Type        0.000584  0.001754                  -0.089496   \n",
       "Outlet_Type                 0.006179  0.003326                  -0.122841   \n",
       "\n",
       "                           Outlet_Size  Outlet_Location_Type  Outlet_Type  \n",
       "Item_Weight                   0.016806             -0.010017     0.010977  \n",
       "Item_Fat_Content              0.000421             -0.000130     0.000387  \n",
       "Item_Visibility               0.058082             -0.001146    -0.154042  \n",
       "Item_Type                    -0.003729              0.000584     0.006179  \n",
       "Item_MRP                     -0.011717              0.001754     0.003326  \n",
       "Outlet_Establishment_Year     0.193397             -0.089496    -0.122841  \n",
       "Outlet_Size                   1.000000             -0.614284    -0.201538  \n",
       "Outlet_Location_Type         -0.614284              1.000000     0.467299  \n",
       "Outlet_Type                  -0.201538              0.467299     1.000000  "
      ]
     },
     "execution_count": 33,
     "metadata": {},
     "output_type": "execute_result"
    }
   ],
   "source": [
    "df_test.corr()"
   ]
  },
  {
   "cell_type": "code",
   "execution_count": 34,
   "id": "dd3af839",
   "metadata": {},
   "outputs": [
    {
     "data": {
      "text/plain": [
       "<Axes: >"
      ]
     },
     "execution_count": 34,
     "metadata": {},
     "output_type": "execute_result"
    },
    {
     "data": {
      "image/png": "[encoded data removed]",
      "text/plain": [
       "<Figure size 640x480 with 2 Axes>"
      ]
     },
     "metadata": {},
     "output_type": "display_data"
    }
   ],
   "source": [
    "sns.heatmap(df_test.corr())"
   ]
  },
  {
   "cell_type": "code",
   "execution_count": 35,
   "id": "67632cca",
   "metadata": {},
   "outputs": [],
   "source": [
    "# Splitting Data Set\n",
    "\n",
    "X=df_train.drop('Item_Outlet_Sales',axis=1)"
   ]
  },
  {
   "cell_type": "code",
   "execution_count": 36,
   "id": "f85f0fab",
   "metadata": {},
   "outputs": [],
   "source": [
    "Y=df_train['Item_Outlet_Sales']"
   ]
  },
  {
   "cell_type": "code",
   "execution_count": 37,
   "id": "93138059",
   "metadata": {},
   "outputs": [],
   "source": [
    "from sklearn.model_selection import train_test_split\n",
    "X_train, X_test, Y_train, Y_test = train_test_split(X,Y, random_state=101, test_size=0.2)"
   ]
  },
  {
   "cell_type": "code",
   "execution_count": 38,
   "id": "9bd59200",
   "metadata": {},
   "outputs": [],
   "source": [
    "# Normalisation \n",
    "\n",
    "from sklearn.preprocessing import StandardScaler\n",
    "sc= StandardScaler()"
   ]
  },
  {
   "cell_type": "code",
   "execution_count": 39,
   "id": "3377296d",
   "metadata": {},
   "outputs": [],
   "source": [
    "X_train_std= sc.fit_transform(X_train)"
   ]
  },
  {
   "cell_type": "code",
   "execution_count": 40,
   "id": "5e9fec65",
   "metadata": {},
   "outputs": [],
   "source": [
    "X_test_std= sc.transform(X_test)"
   ]
  },
  {
   "cell_type": "code",
   "execution_count": 41,
   "id": "83d63329",
   "metadata": {},
   "outputs": [
    {
     "data": {
      "text/plain": [
       "array([[ 1.52290029, -0.57382672,  0.68469729, ..., -1.95699503,\n",
       "         1.08786619, -0.25964107],\n",
       "       [-1.23985603, -0.57382672, -0.09514748, ..., -0.28872895,\n",
       "        -0.13870429, -0.25964107],\n",
       "       [ 1.54667616,  0.97378032, -0.00838589, ..., -0.28872895,\n",
       "        -0.13870429, -0.25964107],\n",
       "       ...,\n",
       "       [-0.08197107, -0.57382672, -0.9191623 , ...,  1.37953713,\n",
       "        -1.36527477, -0.25964107],\n",
       "       [-0.74888428,  0.97378032,  1.21363058, ..., -0.28872895,\n",
       "        -0.13870429, -0.25964107],\n",
       "       [ 0.67885683, -0.57382672,  1.83915356, ..., -0.28872895,\n",
       "         1.08786619,  0.98524841]])"
      ]
     },
     "execution_count": 41,
     "metadata": {},
     "output_type": "execute_result"
    }
   ],
   "source": [
    "X_train_std"
   ]
  },
  {
   "cell_type": "code",
   "execution_count": 42,
   "id": "c5f08424",
   "metadata": {},
   "outputs": [
    {
     "data": {
      "text/plain": [
       "array([[-0.43860915, -0.57382672, -0.21609255, ..., -0.28872895,\n",
       "         1.08786619,  0.98524841],\n",
       "       [ 1.22570189, -0.57382672, -0.52943461, ..., -1.95699503,\n",
       "         1.08786619, -0.25964107],\n",
       "       [-1.21845775,  0.97378032,  0.16277342, ...,  1.37953713,\n",
       "        -1.36527477, -0.25964107],\n",
       "       ...,\n",
       "       [ 0.65508096, -0.57382672,  0.87824237, ..., -0.28872895,\n",
       "         1.08786619, -1.50453056],\n",
       "       [ 1.01171904, -0.57382672, -1.28409256, ..., -0.28872895,\n",
       "         1.08786619,  0.98524841],\n",
       "       [-1.56558548,  0.97378032, -1.09265374, ..., -0.28872895,\n",
       "        -0.13870429, -0.25964107]])"
      ]
     },
     "execution_count": 42,
     "metadata": {},
     "output_type": "execute_result"
    }
   ],
   "source": [
    "X_test_std"
   ]
  },
  {
   "cell_type": "code",
   "execution_count": 43,
   "id": "3278a11b",
   "metadata": {},
   "outputs": [
    {
     "data": {
      "text/plain": [
       "3684     163.7868\n",
       "1935    1607.2412\n",
       "5142    1510.0344\n",
       "4978    1784.3440\n",
       "2299    3558.0352\n",
       "          ...    \n",
       "599     5502.8370\n",
       "5695    1436.7964\n",
       "8006    2167.8448\n",
       "1361    2700.4848\n",
       "1547     829.5868\n",
       "Name: Item_Outlet_Sales, Length: 6818, dtype: float64"
      ]
     },
     "execution_count": 43,
     "metadata": {},
     "output_type": "execute_result"
    }
   ],
   "source": [
    "Y_train"
   ]
  },
  {
   "cell_type": "code",
   "execution_count": 44,
   "id": "1e118d1f",
   "metadata": {},
   "outputs": [
    {
     "data": {
      "text/plain": [
       "8179     904.8222\n",
       "8355    2795.6942\n",
       "3411    1947.4650\n",
       "7089     872.8638\n",
       "6954    2450.1440\n",
       "          ...    \n",
       "1317    1721.0930\n",
       "4996     914.8092\n",
       "531      370.1848\n",
       "3891    1358.2320\n",
       "6629    2418.1856\n",
       "Name: Item_Outlet_Sales, Length: 1705, dtype: float64"
      ]
     },
     "execution_count": 44,
     "metadata": {},
     "output_type": "execute_result"
    }
   ],
   "source": [
    "Y_test"
   ]
  },
  {
   "cell_type": "code",
   "execution_count": 45,
   "id": "5b18fd8c",
   "metadata": {},
   "outputs": [
    {
     "data": {
      "image/png": "[encoded data removed]",
      "text/plain": [
       "<Figure size 640x480 with 1 Axes>"
      ]
     },
     "metadata": {},
     "output_type": "display_data"
    }
   ],
   "source": [
    "sns.boxplot(df_train['Item_Fat_Content'],color='b') \n",
    "sns.despine()"
   ]
  },
  {
   "cell_type": "code",
   "execution_count": 46,
   "id": "39f053c5",
   "metadata": {},
   "outputs": [],
   "source": [
    "def remove_outlier(col):\n",
    "    sorted(col)\n",
    "    Q1,Q3=col.quantile([0.25,0.75])\n",
    "    IQR=Q3-Q1\n",
    "    lower_range=Q1-(1.5*IQR)\n",
    "    upper_range=Q3+(1.5*IQR)\n",
    "    return lower_range,upper_range"
   ]
  },
  {
   "cell_type": "code",
   "execution_count": 47,
   "id": "0881ff8a",
   "metadata": {},
   "outputs": [],
   "source": [
    "low_fat_content,upp_fat_content=remove_outlier(df_train['Item_Fat_Content'])\n",
    "df_train['Item_Fat_Content']=np.where(df_train['Item_Fat_Content']>upp_fat_content,upp_fat_content,df_train['Item_Fat_Content'])\n",
    "df_train['Item_Fat_Content']=np.where(df_train['Item_Fat_Content']<low_fat_content,low_fat_content,df_train['Item_Fat_Content'])\n"
   ]
  },
  {
   "cell_type": "code",
   "execution_count": 48,
   "id": "bf1819e3",
   "metadata": {},
   "outputs": [
    {
     "data": {
      "image/png": "[encoded data removed]",
      "text/plain": [
       "<Figure size 640x480 with 1 Axes>"
      ]
     },
     "metadata": {},
     "output_type": "display_data"
    }
   ],
   "source": [
    "df_train.boxplot(column=['Item_Fat_Content'],color='r')\n",
    "plt.show()"
   ]
  },
  {
   "cell_type": "code",
   "execution_count": 49,
   "id": "81247b19",
   "metadata": {},
   "outputs": [
    {
     "data": {
      "image/png": "[encoded data removed]",
      "text/plain": [
       "<Figure size 640x480 with 1 Axes>"
      ]
     },
     "metadata": {},
     "output_type": "display_data"
    }
   ],
   "source": [
    "sns.boxplot(df_train['Item_Visibility'],color='b') \n",
    "sns.despine()"
   ]
  },
  {
   "cell_type": "code",
   "execution_count": 50,
   "id": "80ce1a3d",
   "metadata": {},
   "outputs": [],
   "source": [
    "low_fat_content,upp_fat_content=remove_outlier(df_train['Item_Visibility'])\n",
    "df_train['Item_Visibility']=np.where(df_train['Item_Visibility']>upp_fat_content,upp_fat_content,df_train['Item_Visibility'])\n",
    "df_train['Item_Visibility']=np.where(df_train['Item_Visibility']<low_fat_content,low_fat_content,df_train['Item_Visibility'])\n"
   ]
  },
  {
   "cell_type": "code",
   "execution_count": 51,
   "id": "32717375",
   "metadata": {},
   "outputs": [
    {
     "data": {
      "image/png": "[encoded data removed]",
      "text/plain": [
       "<Figure size 640x480 with 1 Axes>"
      ]
     },
     "metadata": {},
     "output_type": "display_data"
    }
   ],
   "source": [
    "sns.boxplot(df_train['Outlet_Type'],color='b') \n",
    "sns.despine()"
   ]
  },
  {
   "cell_type": "code",
   "execution_count": 52,
   "id": "b2a476ad",
   "metadata": {},
   "outputs": [],
   "source": [
    "low_fat_content,upp_fat_content=remove_outlier(df_train['Outlet_Type'])\n",
    "df_train['Outlet_Type']=np.where(df_train['Outlet_Type']>upp_fat_content,upp_fat_content,df_train['Outlet_Type'])\n",
    "df_train['Outlet_Type']=np.where(df_train['Outlet_Type']<low_fat_content,low_fat_content,df_train['Outlet_Type'])"
   ]
  },
  {
   "cell_type": "code",
   "execution_count": 53,
   "id": "d3b5c315",
   "metadata": {},
   "outputs": [
    {
     "data": {
      "image/png": "[encoded data removed]",
      "text/plain": [
       "<Figure size 640x480 with 1 Axes>"
      ]
     },
     "metadata": {},
     "output_type": "display_data"
    }
   ],
   "source": [
    "df_train.boxplot(column=['Outlet_Type'],color='r')\n",
    "plt.show()"
   ]
  },
  {
   "cell_type": "code",
   "execution_count": 54,
   "id": "e9ac0d82",
   "metadata": {},
   "outputs": [
    {
     "data": {
      "image/png": "[encoded data removed]",
      "text/plain": [
       "<Figure size 640x480 with 1 Axes>"
      ]
     },
     "metadata": {},
     "output_type": "display_data"
    }
   ],
   "source": [
    "low_fat_content,upp_fat_content=remove_outlier(df_test['Item_Fat_Content'])\n",
    "df_test['Item_Fat_Content']=np.where(df_test['Item_Fat_Content']>upp_fat_content,upp_fat_content,df_test['Item_Fat_Content'])\n",
    "df_test['Item_Fat_Content']=np.where(df_test['Item_Fat_Content']<low_fat_content,low_fat_content,df_test['Item_Fat_Content'])\n",
    "df_test.boxplot(column=['Item_Fat_Content'],color='r')\n",
    "plt.show()\n"
   ]
  },
  {
   "cell_type": "code",
   "execution_count": 55,
   "id": "f3b8d774",
   "metadata": {},
   "outputs": [
    {
     "data": {
      "image/png": "[encoded data removed]",
      "text/plain": [
       "<Figure size 640x480 with 1 Axes>"
      ]
     },
     "metadata": {},
     "output_type": "display_data"
    }
   ],
   "source": [
    "sns.boxplot(df_test['Item_Visibility'],color='b')\n",
    "sns.despine()"
   ]
  },
  {
   "cell_type": "code",
   "execution_count": 56,
   "id": "be5d5d84",
   "metadata": {},
   "outputs": [
    {
     "data": {
      "image/png": "[encoded data removed]",
      "text/plain": [
       "<Figure size 640x480 with 1 Axes>"
      ]
     },
     "metadata": {},
     "output_type": "display_data"
    }
   ],
   "source": [
    "low_fat_content,upp_fat_content=remove_outlier(df_test['Item_Visibility'])\n",
    "df_test['Item_Visibility']=np.where(df_test['Item_Visibility']>upp_fat_content,upp_fat_content,df_test['Item_Visibility'])\n",
    "df_test['Item_Visibility']=np.where(df_test['Item_Visibility']<low_fat_content,low_fat_content,df_test['Item_Visibility'])\n",
    "sns.boxplot(df_test['Item_Visibility'],color='b')\n",
    "sns.despine()"
   ]
  },
  {
   "cell_type": "code",
   "execution_count": 57,
   "id": "608f665a",
   "metadata": {},
   "outputs": [
    {
     "data": {
      "image/png": "[encoded data removed]",
      "text/plain": [
       "<Figure size 640x480 with 1 Axes>"
      ]
     },
     "metadata": {},
     "output_type": "display_data"
    }
   ],
   "source": [
    "sns.boxplot(df_test['Outlet_Type'],color='b')\n",
    "sns.despine()"
   ]
  },
  {
   "cell_type": "code",
   "execution_count": 58,
   "id": "3d03ba21",
   "metadata": {},
   "outputs": [
    {
     "data": {
      "image/png": "[encoded data removed]",
      "text/plain": [
       "<Figure size 640x480 with 1 Axes>"
      ]
     },
     "metadata": {},
     "output_type": "display_data"
    }
   ],
   "source": [
    "low_fat_content,upp_fat_content=remove_outlier(df_test['Outlet_Type'])\n",
    "df_test['Outlet_Type']=np.where(df_test['Outlet_Type']>upp_fat_content,upp_fat_content,df_test['Outlet_Type'])\n",
    "df_test['Outlet_Type']=np.where(df_test['Outlet_Type']<low_fat_content,low_fat_content,df_test['Outlet_Type'])\n",
    "df_test.boxplot(column=['Outlet_Type'],color='r')\n",
    "plt.show()"
   ]
  },
  {
   "cell_type": "code",
   "execution_count": 59,
   "id": "94185918",
   "metadata": {},
   "outputs": [
    {
     "data": {
      "text/html": [
       "<div>\n",
       "<style scoped>\n",
       "    .dataframe tbody tr th:only-of-type {\n",
       "        vertical-align: middle;\n",
       "    }\n",
       "\n",
       "    .dataframe tbody tr th {\n",
       "        vertical-align: top;\n",
       "    }\n",
       "\n",
       "    .dataframe thead th {\n",
       "        text-align: right;\n",
       "    }\n",
       "</style>\n",
       "<table border=\"1\" class=\"dataframe\">\n",
       "  <thead>\n",
       "    <tr style=\"text-align: right;\">\n",
       "      <th></th>\n",
       "      <th>Item_Weight</th>\n",
       "      <th>Item_Fat_Content</th>\n",
       "      <th>Item_Visibility</th>\n",
       "      <th>Item_Type</th>\n",
       "      <th>Item_MRP</th>\n",
       "      <th>Outlet_Establishment_Year</th>\n",
       "      <th>Outlet_Size</th>\n",
       "      <th>Outlet_Location_Type</th>\n",
       "      <th>Outlet_Type</th>\n",
       "      <th>Item_Outlet_Sales</th>\n",
       "    </tr>\n",
       "  </thead>\n",
       "  <tbody>\n",
       "    <tr>\n",
       "      <th>Item_Weight</th>\n",
       "      <td>1.000000</td>\n",
       "      <td>-0.018020</td>\n",
       "      <td>-0.011928</td>\n",
       "      <td>0.028015</td>\n",
       "      <td>0.024756</td>\n",
       "      <td>-0.008301</td>\n",
       "      <td>-0.007225</td>\n",
       "      <td>0.004088</td>\n",
       "      <td>NaN</td>\n",
       "      <td>0.011550</td>\n",
       "    </tr>\n",
       "    <tr>\n",
       "      <th>Item_Fat_Content</th>\n",
       "      <td>-0.018020</td>\n",
       "      <td>1.000000</td>\n",
       "      <td>0.038272</td>\n",
       "      <td>-0.119718</td>\n",
       "      <td>-0.000079</td>\n",
       "      <td>-0.002198</td>\n",
       "      <td>-0.011618</td>\n",
       "      <td>-0.004016</td>\n",
       "      <td>NaN</td>\n",
       "      <td>0.011634</td>\n",
       "    </tr>\n",
       "    <tr>\n",
       "      <th>Item_Visibility</th>\n",
       "      <td>-0.011928</td>\n",
       "      <td>0.038272</td>\n",
       "      <td>1.000000</td>\n",
       "      <td>-0.036213</td>\n",
       "      <td>-0.001163</td>\n",
       "      <td>-0.064105</td>\n",
       "      <td>0.061625</td>\n",
       "      <td>-0.023894</td>\n",
       "      <td>NaN</td>\n",
       "      <td>-0.117918</td>\n",
       "    </tr>\n",
       "    <tr>\n",
       "      <th>Item_Type</th>\n",
       "      <td>0.028015</td>\n",
       "      <td>-0.119718</td>\n",
       "      <td>-0.036213</td>\n",
       "      <td>1.000000</td>\n",
       "      <td>0.032651</td>\n",
       "      <td>0.004970</td>\n",
       "      <td>-0.001859</td>\n",
       "      <td>0.003084</td>\n",
       "      <td>NaN</td>\n",
       "      <td>0.017048</td>\n",
       "    </tr>\n",
       "    <tr>\n",
       "      <th>Item_MRP</th>\n",
       "      <td>0.024756</td>\n",
       "      <td>-0.000079</td>\n",
       "      <td>-0.001163</td>\n",
       "      <td>0.032651</td>\n",
       "      <td>1.000000</td>\n",
       "      <td>0.005020</td>\n",
       "      <td>0.006059</td>\n",
       "      <td>0.000232</td>\n",
       "      <td>NaN</td>\n",
       "      <td>0.567574</td>\n",
       "    </tr>\n",
       "    <tr>\n",
       "      <th>Outlet_Establishment_Year</th>\n",
       "      <td>-0.008301</td>\n",
       "      <td>-0.002198</td>\n",
       "      <td>-0.064105</td>\n",
       "      <td>0.004970</td>\n",
       "      <td>0.005020</td>\n",
       "      <td>1.000000</td>\n",
       "      <td>0.193389</td>\n",
       "      <td>-0.089216</td>\n",
       "      <td>NaN</td>\n",
       "      <td>-0.049135</td>\n",
       "    </tr>\n",
       "    <tr>\n",
       "      <th>Outlet_Size</th>\n",
       "      <td>-0.007225</td>\n",
       "      <td>-0.011618</td>\n",
       "      <td>0.061625</td>\n",
       "      <td>-0.001859</td>\n",
       "      <td>0.006059</td>\n",
       "      <td>0.193389</td>\n",
       "      <td>1.000000</td>\n",
       "      <td>-0.614311</td>\n",
       "      <td>NaN</td>\n",
       "      <td>-0.086182</td>\n",
       "    </tr>\n",
       "    <tr>\n",
       "      <th>Outlet_Location_Type</th>\n",
       "      <td>0.004088</td>\n",
       "      <td>-0.004016</td>\n",
       "      <td>-0.023894</td>\n",
       "      <td>0.003084</td>\n",
       "      <td>0.000232</td>\n",
       "      <td>-0.089216</td>\n",
       "      <td>-0.614311</td>\n",
       "      <td>1.000000</td>\n",
       "      <td>NaN</td>\n",
       "      <td>0.089367</td>\n",
       "    </tr>\n",
       "    <tr>\n",
       "      <th>Outlet_Type</th>\n",
       "      <td>NaN</td>\n",
       "      <td>NaN</td>\n",
       "      <td>NaN</td>\n",
       "      <td>NaN</td>\n",
       "      <td>NaN</td>\n",
       "      <td>NaN</td>\n",
       "      <td>NaN</td>\n",
       "      <td>NaN</td>\n",
       "      <td>NaN</td>\n",
       "      <td>NaN</td>\n",
       "    </tr>\n",
       "    <tr>\n",
       "      <th>Item_Outlet_Sales</th>\n",
       "      <td>0.011550</td>\n",
       "      <td>0.011634</td>\n",
       "      <td>-0.117918</td>\n",
       "      <td>0.017048</td>\n",
       "      <td>0.567574</td>\n",
       "      <td>-0.049135</td>\n",
       "      <td>-0.086182</td>\n",
       "      <td>0.089367</td>\n",
       "      <td>NaN</td>\n",
       "      <td>1.000000</td>\n",
       "    </tr>\n",
       "  </tbody>\n",
       "</table>\n",
       "</div>"
      ],
      "text/plain": [
       "                           Item_Weight  Item_Fat_Content  Item_Visibility  \\\n",
       "Item_Weight                   1.000000         -0.018020        -0.011928   \n",
       "Item_Fat_Content             -0.018020          1.000000         0.038272   \n",
       "Item_Visibility              -0.011928          0.038272         1.000000   \n",
       "Item_Type                     0.028015         -0.119718        -0.036213   \n",
       "Item_MRP                      0.024756         -0.000079        -0.001163   \n",
       "Outlet_Establishment_Year    -0.008301         -0.002198        -0.064105   \n",
       "Outlet_Size                  -0.007225         -0.011618         0.061625   \n",
       "Outlet_Location_Type          0.004088         -0.004016        -0.023894   \n",
       "Outlet_Type                        NaN               NaN              NaN   \n",
       "Item_Outlet_Sales             0.011550          0.011634        -0.117918   \n",
       "\n",
       "                           Item_Type  Item_MRP  Outlet_Establishment_Year  \\\n",
       "Item_Weight                 0.028015  0.024756                  -0.008301   \n",
       "Item_Fat_Content           -0.119718 -0.000079                  -0.002198   \n",
       "Item_Visibility            -0.036213 -0.001163                  -0.064105   \n",
       "Item_Type                   1.000000  0.032651                   0.004970   \n",
       "Item_MRP                    0.032651  1.000000                   0.005020   \n",
       "Outlet_Establishment_Year   0.004970  0.005020                   1.000000   \n",
       "Outlet_Size                -0.001859  0.006059                   0.193389   \n",
       "Outlet_Location_Type        0.003084  0.000232                  -0.089216   \n",
       "Outlet_Type                      NaN       NaN                        NaN   \n",
       "Item_Outlet_Sales           0.017048  0.567574                  -0.049135   \n",
       "\n",
       "                           Outlet_Size  Outlet_Location_Type  Outlet_Type  \\\n",
       "Item_Weight                  -0.007225              0.004088          NaN   \n",
       "Item_Fat_Content             -0.011618             -0.004016          NaN   \n",
       "Item_Visibility               0.061625             -0.023894          NaN   \n",
       "Item_Type                    -0.001859              0.003084          NaN   \n",
       "Item_MRP                      0.006059              0.000232          NaN   \n",
       "Outlet_Establishment_Year     0.193389             -0.089216          NaN   \n",
       "Outlet_Size                   1.000000             -0.614311          NaN   \n",
       "Outlet_Location_Type         -0.614311              1.000000          NaN   \n",
       "Outlet_Type                        NaN                   NaN          NaN   \n",
       "Item_Outlet_Sales            -0.086182              0.089367          NaN   \n",
       "\n",
       "                           Item_Outlet_Sales  \n",
       "Item_Weight                         0.011550  \n",
       "Item_Fat_Content                    0.011634  \n",
       "Item_Visibility                    -0.117918  \n",
       "Item_Type                           0.017048  \n",
       "Item_MRP                            0.567574  \n",
       "Outlet_Establishment_Year          -0.049135  \n",
       "Outlet_Size                        -0.086182  \n",
       "Outlet_Location_Type                0.089367  \n",
       "Outlet_Type                              NaN  \n",
       "Item_Outlet_Sales                   1.000000  "
      ]
     },
     "execution_count": 59,
     "metadata": {},
     "output_type": "execute_result"
    }
   ],
   "source": [
    "df_train.corr()"
   ]
  },
  {
   "cell_type": "code",
   "execution_count": 60,
   "id": "291d9eb4",
   "metadata": {},
   "outputs": [
    {
     "name": "stdout",
     "output_type": "stream",
     "text": [
      "     Item_Weight  Item_Fat_Content  Item_Visibility  Item_Type  Item_MRP  \\\n",
      "0       9.300000               1.0         0.016047          4  249.8092   \n",
      "1       5.920000               2.0         0.019278         14   48.2692   \n",
      "2      17.500000               1.0         0.016760         10  141.6180   \n",
      "3      19.200000               2.0         0.000000          6  182.0950   \n",
      "4       8.930000               1.0         0.000000          9   53.8614   \n",
      "..           ...               ...              ...        ...       ...   \n",
      "195    10.500000               1.0         0.041395          6   37.6164   \n",
      "196    19.000000               2.0         0.097313          5   48.0718   \n",
      "197    14.600000               1.0         0.059583         11  238.8538   \n",
      "198    12.857645               2.0         0.098664          4   62.9194   \n",
      "199    12.857645               3.5         0.101339          3  232.6300   \n",
      "\n",
      "     Outlet_Establishment_Year  Outlet_Size  Outlet_Location_Type  \\\n",
      "0                         1999            1                     0   \n",
      "1                         2009            1                     2   \n",
      "2                         1999            1                     0   \n",
      "3                         1998            1                     2   \n",
      "4                         1987            0                     2   \n",
      "..                         ...          ...                   ...   \n",
      "195                       1997            2                     0   \n",
      "196                       1997            2                     0   \n",
      "197                       1999            1                     0   \n",
      "198                       1985            1                     2   \n",
      "199                       1985            1                     2   \n",
      "\n",
      "     Outlet_Type  Item_Outlet_Sales  \n",
      "0            1.0          3735.1380  \n",
      "1            1.0           443.4228  \n",
      "2            1.0          2097.2700  \n",
      "3            1.0           732.3800  \n",
      "4            1.0           994.7052  \n",
      "..           ...                ...  \n",
      "195          1.0           540.6296  \n",
      "196          1.0           992.7078  \n",
      "197          1.0          6008.8450  \n",
      "198          1.0          2105.2596  \n",
      "199          1.0          5359.6900  \n",
      "\n",
      "[200 rows x 10 columns]\n"
     ]
    }
   ],
   "source": [
    "a=df_train.head(200)\n",
    "print(a)"
   ]
  },
  {
   "cell_type": "code",
   "execution_count": 61,
   "id": "e00c0f43",
   "metadata": {},
   "outputs": [],
   "source": [
    "#Line Plot\n",
    "\n",
    "sns.set(rc={'figure.figsize':(7,7)})\n",
    "sns.set(font_scale=1.5)"
   ]
  },
  {
   "cell_type": "code",
   "execution_count": 62,
   "id": "a686258c",
   "metadata": {},
   "outputs": [
    {
     "data": {
      "text/plain": [
       "[Text(0.5, 0, 'index')]"
      ]
     },
     "execution_count": 62,
     "metadata": {},
     "output_type": "execute_result"
    },
    {
     "data": {
      "image/png": "[encoded data removed]",
      "text/plain": [
       "<Figure size 700x700 with 1 Axes>"
      ]
     },
     "metadata": {},
     "output_type": "display_data"
    }
   ],
   "source": [
    "fig=sns.lineplot(x=a.index,y=a['Outlet_Size'],markevery=1,marker='d',data=a,hue=a['Outlet_Establishment_Year'])\n",
    "fig.set(xlabel='index')"
   ]
  },
  {
   "cell_type": "code",
   "execution_count": 63,
   "id": "6a5265fa",
   "metadata": {},
   "outputs": [
    {
     "data": {
      "text/plain": [
       "<Axes: xlabel='Item_MRP', ylabel='Item_Outlet_Sales'>"
      ]
     },
     "execution_count": 63,
     "metadata": {},
     "output_type": "execute_result"
    },
    {
     "data": {
      "image/png": "[encoded data removed]",
      "text/plain": [
       "<Figure size 700x700 with 1 Axes>"
      ]
     },
     "metadata": {},
     "output_type": "display_data"
    }
   ],
   "source": [
    "#Strip plot\n",
    "\n",
    "sns.stripplot(x=a['Item_MRP'],y=a['Item_Outlet_Sales'])"
   ]
  },
  {
   "cell_type": "code",
   "execution_count": 64,
   "id": "992d7693",
   "metadata": {},
   "outputs": [
    {
     "data": {
      "text/plain": [
       "<Axes: ylabel='Density'>"
      ]
     },
     "execution_count": 64,
     "metadata": {},
     "output_type": "execute_result"
    },
    {
     "data": {
      "image/png": "[encoded data removed]",
      "text/plain": [
       "<Figure size 700x700 with 1 Axes>"
      ]
     },
     "metadata": {},
     "output_type": "display_data"
    }
   ],
   "source": [
    "# Rug Plot\n",
    "\n",
    "sns.distplot(x=a['Item_Outlet_Sales'],rug=True,hist=False)"
   ]
  },
  {
   "cell_type": "code",
   "execution_count": 65,
   "id": "a11526b1",
   "metadata": {},
   "outputs": [
    {
     "data": {
      "text/plain": [
       "<Axes: xlabel='Item_Type', ylabel='Density'>"
      ]
     },
     "execution_count": 65,
     "metadata": {},
     "output_type": "execute_result"
    },
    {
     "data": {
      "image/png": "[encoded data removed]",
      "text/plain": [
       "<Figure size 500x500 with 1 Axes>"
      ]
     },
     "metadata": {},
     "output_type": "display_data"
    }
   ],
   "source": [
    "#Density Plot\n",
    "\n",
    "sns.set(rc={'figure.figsize':(5,5)})\n",
    "sns.kdeplot(a['Item_Type'],shade=True)"
   ]
  },
  {
   "cell_type": "code",
   "execution_count": 66,
   "id": "5523cb12",
   "metadata": {},
   "outputs": [
    {
     "data": {
      "text/plain": [
       "<Axes: xlabel='Outlet_Size', ylabel='Density'>"
      ]
     },
     "execution_count": 66,
     "metadata": {},
     "output_type": "execute_result"
    },
    {
     "data": {
      "image/png": "[encoded data removed]",
      "text/plain": [
       "<Figure size 500x500 with 1 Axes>"
      ]
     },
     "metadata": {},
     "output_type": "display_data"
    }
   ],
   "source": [
    "#Dist Plot\n",
    "\n",
    "sns.set(rc={'figure.figsize':(5,5)})\n",
    "sns.distplot(df_train['Outlet_Size'],color='black',rug=True)"
   ]
  },
  {
   "cell_type": "code",
   "execution_count": 67,
   "id": "cc1aa590",
   "metadata": {},
   "outputs": [
    {
     "data": {
      "text/plain": [
       "<Axes: >"
      ]
     },
     "execution_count": 67,
     "metadata": {},
     "output_type": "execute_result"
    },
    {
     "data": {
      "image/png": "[encoded data removed]",
      "text/plain": [
       "<Figure size 500x500 with 1 Axes>"
      ]
     },
     "metadata": {},
     "output_type": "display_data"
    }
   ],
   "source": [
    "#Violin plot\n",
    "\n",
    "sns.set(rc={'figure.figsize':(5,5)})\n",
    "sns.violinplot(a['Item_MRP'],orient='vertical')"
   ]
  },
  {
   "cell_type": "code",
   "execution_count": 68,
   "id": "375afe71",
   "metadata": {},
   "outputs": [
    {
     "data": {
      "text/plain": [
       "([<matplotlib.patches.Wedge at 0x2e8b6ba7ca0>,\n",
       "  <matplotlib.patches.Wedge at 0x2e8b6ba7bb0>,\n",
       "  <matplotlib.patches.Wedge at 0x2e8b6bd48b0>],\n",
       " [Text(-0.4049370232742901, 1.0227541284110062, 'High'),\n",
       "  Text(0.06906960848527893, -1.0978293989430645, 'Medium'),\n",
       "  Text(1.0461621822461364, -0.3399186497354948, 'Small')])"
      ]
     },
     "execution_count": 68,
     "metadata": {},
     "output_type": "execute_result"
    },
    {
     "data": {
      "image/png": "[encoded data removed]",
      "text/plain": [
       "<Figure size 500x500 with 1 Axes>"
      ]
     },
     "metadata": {},
     "output_type": "display_data"
    }
   ],
   "source": [
    "# Pie Chart \n",
    "\n",
    "plt.pie(a['Outlet_Size'].value_counts(),labels=['High','Medium','Small'],shadow=True)"
   ]
  },
  {
   "cell_type": "code",
   "execution_count": 69,
   "id": "5925476e",
   "metadata": {},
   "outputs": [
    {
     "data": {
      "text/html": [
       "<div>\n",
       "<style scoped>\n",
       "    .dataframe tbody tr th:only-of-type {\n",
       "        vertical-align: middle;\n",
       "    }\n",
       "\n",
       "    .dataframe tbody tr th {\n",
       "        vertical-align: top;\n",
       "    }\n",
       "\n",
       "    .dataframe thead th {\n",
       "        text-align: right;\n",
       "    }\n",
       "</style>\n",
       "<table border=\"1\" class=\"dataframe\">\n",
       "  <thead>\n",
       "    <tr style=\"text-align: right;\">\n",
       "      <th></th>\n",
       "      <th>Item_Weight</th>\n",
       "      <th>Item_Fat_Content</th>\n",
       "      <th>Item_Visibility</th>\n",
       "      <th>Item_Type</th>\n",
       "      <th>Item_MRP</th>\n",
       "      <th>Outlet_Establishment_Year</th>\n",
       "      <th>Outlet_Size</th>\n",
       "      <th>Outlet_Location_Type</th>\n",
       "      <th>Outlet_Type</th>\n",
       "    </tr>\n",
       "  </thead>\n",
       "  <tbody>\n",
       "    <tr>\n",
       "      <th>8179</th>\n",
       "      <td>11.00</td>\n",
       "      <td>1</td>\n",
       "      <td>0.055163</td>\n",
       "      <td>8</td>\n",
       "      <td>100.3358</td>\n",
       "      <td>2009</td>\n",
       "      <td>1</td>\n",
       "      <td>2</td>\n",
       "      <td>2</td>\n",
       "    </tr>\n",
       "    <tr>\n",
       "      <th>8355</th>\n",
       "      <td>18.00</td>\n",
       "      <td>1</td>\n",
       "      <td>0.038979</td>\n",
       "      <td>13</td>\n",
       "      <td>148.6418</td>\n",
       "      <td>1987</td>\n",
       "      <td>0</td>\n",
       "      <td>2</td>\n",
       "      <td>1</td>\n",
       "    </tr>\n",
       "    <tr>\n",
       "      <th>3411</th>\n",
       "      <td>7.72</td>\n",
       "      <td>2</td>\n",
       "      <td>0.074731</td>\n",
       "      <td>1</td>\n",
       "      <td>77.5986</td>\n",
       "      <td>1997</td>\n",
       "      <td>2</td>\n",
       "      <td>0</td>\n",
       "      <td>1</td>\n",
       "    </tr>\n",
       "    <tr>\n",
       "      <th>7089</th>\n",
       "      <td>20.70</td>\n",
       "      <td>1</td>\n",
       "      <td>0.049035</td>\n",
       "      <td>6</td>\n",
       "      <td>39.9506</td>\n",
       "      <td>2007</td>\n",
       "      <td>1</td>\n",
       "      <td>1</td>\n",
       "      <td>1</td>\n",
       "    </tr>\n",
       "    <tr>\n",
       "      <th>6954</th>\n",
       "      <td>7.55</td>\n",
       "      <td>1</td>\n",
       "      <td>0.027225</td>\n",
       "      <td>3</td>\n",
       "      <td>152.9340</td>\n",
       "      <td>2002</td>\n",
       "      <td>1</td>\n",
       "      <td>1</td>\n",
       "      <td>1</td>\n",
       "    </tr>\n",
       "  </tbody>\n",
       "</table>\n",
       "</div>"
      ],
      "text/plain": [
       "      Item_Weight  Item_Fat_Content  Item_Visibility  Item_Type  Item_MRP  \\\n",
       "8179        11.00                 1         0.055163          8  100.3358   \n",
       "8355        18.00                 1         0.038979         13  148.6418   \n",
       "3411         7.72                 2         0.074731          1   77.5986   \n",
       "7089        20.70                 1         0.049035          6   39.9506   \n",
       "6954         7.55                 1         0.027225          3  152.9340   \n",
       "\n",
       "      Outlet_Establishment_Year  Outlet_Size  Outlet_Location_Type  \\\n",
       "8179                       2009            1                     2   \n",
       "8355                       1987            0                     2   \n",
       "3411                       1997            2                     0   \n",
       "7089                       2007            1                     1   \n",
       "6954                       2002            1                     1   \n",
       "\n",
       "      Outlet_Type  \n",
       "8179            2  \n",
       "8355            1  \n",
       "3411            1  \n",
       "7089            1  \n",
       "6954            1  "
      ]
     },
     "execution_count": 69,
     "metadata": {},
     "output_type": "execute_result"
    }
   ],
   "source": [
    "# Model Creation\n",
    "\n",
    "X_test.head()"
   ]
  },
  {
   "cell_type": "code",
   "execution_count": 70,
   "id": "33d6a2ae",
   "metadata": {},
   "outputs": [],
   "source": [
    "#Linear Regression\n",
    "\n",
    "from sklearn.metrics import r2_score, mean_absolute_error, mean_squared_error"
   ]
  },
  {
   "cell_type": "code",
   "execution_count": 71,
   "id": "7540901c",
   "metadata": {},
   "outputs": [],
   "source": [
    "from sklearn.linear_model import LinearRegression\n",
    "lr= LinearRegression()"
   ]
  },
  {
   "cell_type": "code",
   "execution_count": 72,
   "id": "06780066",
   "metadata": {},
   "outputs": [
    {
     "data": {
      "text/html": [
       "<style>#sk-container-id-1 {color: black;background-color: white;}#sk-container-id-1 pre{padding: 0;}#sk-container-id-1 div.sk-toggleable {background-color: white;}#sk-container-id-1 label.sk-toggleable__label {cursor: pointer;display: block;width: 100%;margin-bottom: 0;padding: 0.3em;box-sizing: border-box;text-align: center;}#sk-container-id-1 label.sk-toggleable__label-arrow:before {content: \"▸\";float: left;margin-right: 0.25em;color: #696969;}#sk-container-id-1 label.sk-toggleable__label-arrow:hover:before {color: black;}#sk-container-id-1 div.sk-estimator:hover label.sk-toggleable__label-arrow:before {color: black;}#sk-container-id-1 div.sk-toggleable__content {max-height: 0;max-width: 0;overflow: hidden;text-align: left;background-color: #f0f8ff;}#sk-container-id-1 div.sk-toggleable__content pre {margin: 0.2em;color: black;border-radius: 0.25em;background-color: #f0f8ff;}#sk-container-id-1 input.sk-toggleable__control:checked~div.sk-toggleable__content {max-height: 200px;max-width: 100%;overflow: auto;}#sk-container-id-1 input.sk-toggleable__control:checked~label.sk-toggleable__label-arrow:before {content: \"▾\";}#sk-container-id-1 div.sk-estimator input.sk-toggleable__control:checked~label.sk-toggleable__label {background-color: #d4ebff;}#sk-container-id-1 div.sk-label input.sk-toggleable__control:checked~label.sk-toggleable__label {background-color: #d4ebff;}#sk-container-id-1 input.sk-hidden--visually {border: 0;clip: rect(1px 1px 1px 1px);clip: rect(1px, 1px, 1px, 1px);height: 1px;margin: -1px;overflow: hidden;padding: 0;position: absolute;width: 1px;}#sk-container-id-1 div.sk-estimator {font-family: monospace;background-color: #f0f8ff;border: 1px dotted black;border-radius: 0.25em;box-sizing: border-box;margin-bottom: 0.5em;}#sk-container-id-1 div.sk-estimator:hover {background-color: #d4ebff;}#sk-container-id-1 div.sk-parallel-item::after {content: \"\";width: 100%;border-bottom: 1px solid gray;flex-grow: 1;}#sk-container-id-1 div.sk-label:hover label.sk-toggleable__label {background-color: #d4ebff;}#sk-container-id-1 div.sk-serial::before {content: \"\";position: absolute;border-left: 1px solid gray;box-sizing: border-box;top: 0;bottom: 0;left: 50%;z-index: 0;}#sk-container-id-1 div.sk-serial {display: flex;flex-direction: column;align-items: center;background-color: white;padding-right: 0.2em;padding-left: 0.2em;position: relative;}#sk-container-id-1 div.sk-item {position: relative;z-index: 1;}#sk-container-id-1 div.sk-parallel {display: flex;align-items: stretch;justify-content: center;background-color: white;position: relative;}#sk-container-id-1 div.sk-item::before, #sk-container-id-1 div.sk-parallel-item::before {content: \"\";position: absolute;border-left: 1px solid gray;box-sizing: border-box;top: 0;bottom: 0;left: 50%;z-index: -1;}#sk-container-id-1 div.sk-parallel-item {display: flex;flex-direction: column;z-index: 1;position: relative;background-color: white;}#sk-container-id-1 div.sk-parallel-item:first-child::after {align-self: flex-end;width: 50%;}#sk-container-id-1 div.sk-parallel-item:last-child::after {align-self: flex-start;width: 50%;}#sk-container-id-1 div.sk-parallel-item:only-child::after {width: 0;}#sk-container-id-1 div.sk-dashed-wrapped {border: 1px dashed gray;margin: 0 0.4em 0.5em 0.4em;box-sizing: border-box;padding-bottom: 0.4em;background-color: white;}#sk-container-id-1 div.sk-label label {font-family: monospace;font-weight: bold;display: inline-block;line-height: 1.2em;}#sk-container-id-1 div.sk-label-container {text-align: center;}#sk-container-id-1 div.sk-container {/* jupyter's `normalize.less` sets `[hidden] { display: none; }` but bootstrap.min.css set `[hidden] { display: none !important; }` so we also need the `!important` here to be able to override the default hidden behavior on the sphinx rendered scikit-learn.org. See: https://github.com/scikit-learn/scikit-learn/issues/21755 */display: inline-block !important;position: relative;}#sk-container-id-1 div.sk-text-repr-fallback {display: none;}</style><div id=\"sk-container-id-1\" class=\"sk-top-container\"><div class=\"sk-text-repr-fallback\"><pre>LinearRegression()</pre><b>In a Jupyter environment, please rerun this cell to show the HTML representation or trust the notebook. <br />On GitHub, the HTML representation is unable to render, please try loading this page with nbviewer.org.</b></div><div class=\"sk-container\" hidden><div class=\"sk-item\"><div class=\"sk-estimator sk-toggleable\"><input class=\"sk-toggleable__control sk-hidden--visually\" id=\"sk-estimator-id-1\" type=\"checkbox\" checked><label for=\"sk-estimator-id-1\" class=\"sk-toggleable__label sk-toggleable__label-arrow\">LinearRegression</label><div class=\"sk-toggleable__content\"><pre>LinearRegression()</pre></div></div></div></div></div>"
      ],
      "text/plain": [
       "LinearRegression()"
      ]
     },
     "execution_count": 72,
     "metadata": {},
     "output_type": "execute_result"
    }
   ],
   "source": [
    "lr.fit(X_train_std,Y_train)"
   ]
  },
  {
   "cell_type": "code",
   "execution_count": 73,
   "id": "552b7de3",
   "metadata": {},
   "outputs": [],
   "source": [
    "Y_pred_lr=lr.predict(X_test_std)"
   ]
  },
  {
   "cell_type": "code",
   "execution_count": 74,
   "id": "c8ce4814",
   "metadata": {},
   "outputs": [
    {
     "data": {
      "text/plain": [
       "0.5041875762809336"
      ]
     },
     "execution_count": 74,
     "metadata": {},
     "output_type": "execute_result"
    }
   ],
   "source": [
    "r2_score(Y_test,Y_pred_lr)"
   ]
  },
  {
   "cell_type": "code",
   "execution_count": 75,
   "id": "e52ee35d",
   "metadata": {},
   "outputs": [
    {
     "name": "stdout",
     "output_type": "stream",
     "text": [
      "0.5041875762809336\n",
      "880.9999067141264\n",
      "1162.4412660891485\n"
     ]
    }
   ],
   "source": [
    "print(r2_score(Y_test,Y_pred_lr))\n",
    "print(mean_absolute_error(Y_test,Y_pred_lr))\n",
    "print(np.sqrt(mean_squared_error(Y_test,Y_pred_lr)))"
   ]
  },
  {
   "cell_type": "code",
   "execution_count": 76,
   "id": "64f5c6d0",
   "metadata": {},
   "outputs": [],
   "source": [
    "# Random Forest Regression\n",
    "\n",
    "from sklearn.ensemble import RandomForestRegressor\n",
    "rf= RandomForestRegressor()"
   ]
  },
  {
   "cell_type": "code",
   "execution_count": 77,
   "id": "a36e0b4d",
   "metadata": {},
   "outputs": [
    {
     "data": {
      "text/html": [
       "<style>#sk-container-id-2 {color: black;background-color: white;}#sk-container-id-2 pre{padding: 0;}#sk-container-id-2 div.sk-toggleable {background-color: white;}#sk-container-id-2 label.sk-toggleable__label {cursor: pointer;display: block;width: 100%;margin-bottom: 0;padding: 0.3em;box-sizing: border-box;text-align: center;}#sk-container-id-2 label.sk-toggleable__label-arrow:before {content: \"▸\";float: left;margin-right: 0.25em;color: #696969;}#sk-container-id-2 label.sk-toggleable__label-arrow:hover:before {color: black;}#sk-container-id-2 div.sk-estimator:hover label.sk-toggleable__label-arrow:before {color: black;}#sk-container-id-2 div.sk-toggleable__content {max-height: 0;max-width: 0;overflow: hidden;text-align: left;background-color: #f0f8ff;}#sk-container-id-2 div.sk-toggleable__content pre {margin: 0.2em;color: black;border-radius: 0.25em;background-color: #f0f8ff;}#sk-container-id-2 input.sk-toggleable__control:checked~div.sk-toggleable__content {max-height: 200px;max-width: 100%;overflow: auto;}#sk-container-id-2 input.sk-toggleable__control:checked~label.sk-toggleable__label-arrow:before {content: \"▾\";}#sk-container-id-2 div.sk-estimator input.sk-toggleable__control:checked~label.sk-toggleable__label {background-color: #d4ebff;}#sk-container-id-2 div.sk-label input.sk-toggleable__control:checked~label.sk-toggleable__label {background-color: #d4ebff;}#sk-container-id-2 input.sk-hidden--visually {border: 0;clip: rect(1px 1px 1px 1px);clip: rect(1px, 1px, 1px, 1px);height: 1px;margin: -1px;overflow: hidden;padding: 0;position: absolute;width: 1px;}#sk-container-id-2 div.sk-estimator {font-family: monospace;background-color: #f0f8ff;border: 1px dotted black;border-radius: 0.25em;box-sizing: border-box;margin-bottom: 0.5em;}#sk-container-id-2 div.sk-estimator:hover {background-color: #d4ebff;}#sk-container-id-2 div.sk-parallel-item::after {content: \"\";width: 100%;border-bottom: 1px solid gray;flex-grow: 1;}#sk-container-id-2 div.sk-label:hover label.sk-toggleable__label {background-color: #d4ebff;}#sk-container-id-2 div.sk-serial::before {content: \"\";position: absolute;border-left: 1px solid gray;box-sizing: border-box;top: 0;bottom: 0;left: 50%;z-index: 0;}#sk-container-id-2 div.sk-serial {display: flex;flex-direction: column;align-items: center;background-color: white;padding-right: 0.2em;padding-left: 0.2em;position: relative;}#sk-container-id-2 div.sk-item {position: relative;z-index: 1;}#sk-container-id-2 div.sk-parallel {display: flex;align-items: stretch;justify-content: center;background-color: white;position: relative;}#sk-container-id-2 div.sk-item::before, #sk-container-id-2 div.sk-parallel-item::before {content: \"\";position: absolute;border-left: 1px solid gray;box-sizing: border-box;top: 0;bottom: 0;left: 50%;z-index: -1;}#sk-container-id-2 div.sk-parallel-item {display: flex;flex-direction: column;z-index: 1;position: relative;background-color: white;}#sk-container-id-2 div.sk-parallel-item:first-child::after {align-self: flex-end;width: 50%;}#sk-container-id-2 div.sk-parallel-item:last-child::after {align-self: flex-start;width: 50%;}#sk-container-id-2 div.sk-parallel-item:only-child::after {width: 0;}#sk-container-id-2 div.sk-dashed-wrapped {border: 1px dashed gray;margin: 0 0.4em 0.5em 0.4em;box-sizing: border-box;padding-bottom: 0.4em;background-color: white;}#sk-container-id-2 div.sk-label label {font-family: monospace;font-weight: bold;display: inline-block;line-height: 1.2em;}#sk-container-id-2 div.sk-label-container {text-align: center;}#sk-container-id-2 div.sk-container {/* jupyter's `normalize.less` sets `[hidden] { display: none; }` but bootstrap.min.css set `[hidden] { display: none !important; }` so we also need the `!important` here to be able to override the default hidden behavior on the sphinx rendered scikit-learn.org. See: https://github.com/scikit-learn/scikit-learn/issues/21755 */display: inline-block !important;position: relative;}#sk-container-id-2 div.sk-text-repr-fallback {display: none;}</style><div id=\"sk-container-id-2\" class=\"sk-top-container\"><div class=\"sk-text-repr-fallback\"><pre>RandomForestRegressor()</pre><b>In a Jupyter environment, please rerun this cell to show the HTML representation or trust the notebook. <br />On GitHub, the HTML representation is unable to render, please try loading this page with nbviewer.org.</b></div><div class=\"sk-container\" hidden><div class=\"sk-item\"><div class=\"sk-estimator sk-toggleable\"><input class=\"sk-toggleable__control sk-hidden--visually\" id=\"sk-estimator-id-2\" type=\"checkbox\" checked><label for=\"sk-estimator-id-2\" class=\"sk-toggleable__label sk-toggleable__label-arrow\">RandomForestRegressor</label><div class=\"sk-toggleable__content\"><pre>RandomForestRegressor()</pre></div></div></div></div></div>"
      ],
      "text/plain": [
       "RandomForestRegressor()"
      ]
     },
     "execution_count": 77,
     "metadata": {},
     "output_type": "execute_result"
    }
   ],
   "source": [
    "rf.fit(X_train_std,Y_train)"
   ]
  },
  {
   "cell_type": "code",
   "execution_count": 78,
   "id": "28b570aa",
   "metadata": {},
   "outputs": [],
   "source": [
    "Y_pred_rf= rf.predict(X_test_std)"
   ]
  },
  {
   "cell_type": "code",
   "execution_count": 79,
   "id": "8ff10f9a",
   "metadata": {},
   "outputs": [
    {
     "data": {
      "text/plain": [
       "0.5417588509056316"
      ]
     },
     "execution_count": 79,
     "metadata": {},
     "output_type": "execute_result"
    }
   ],
   "source": [
    "r2_score(Y_test,Y_pred_rf)"
   ]
  },
  {
   "cell_type": "code",
   "execution_count": 80,
   "id": "e84a447b",
   "metadata": {},
   "outputs": [
    {
     "name": "stdout",
     "output_type": "stream",
     "text": [
      "0.5417588509056316\n",
      "786.09147617478\n",
      "1117.5304335987328\n"
     ]
    }
   ],
   "source": [
    "print(r2_score(Y_test,Y_pred_rf))\n",
    "print(mean_absolute_error(Y_test,Y_pred_rf))\n",
    "print(np.sqrt(mean_squared_error(Y_test,Y_pred_rf)))"
   ]
  },
  {
   "cell_type": "code",
   "execution_count": 81,
   "id": "7f71fc47",
   "metadata": {},
   "outputs": [],
   "source": [
    "#XGBoost Regression\n",
    "\n",
    "from xgboost import XGBRegressor\n",
    "xg= XGBRegressor()"
   ]
  },
  {
   "cell_type": "code",
   "execution_count": 82,
   "id": "79b5bd12",
   "metadata": {},
   "outputs": [
    {
     "data": {
      "text/html": [
       "<style>#sk-container-id-3 {color: black;background-color: white;}#sk-container-id-3 pre{padding: 0;}#sk-container-id-3 div.sk-toggleable {background-color: white;}#sk-container-id-3 label.sk-toggleable__label {cursor: pointer;display: block;width: 100%;margin-bottom: 0;padding: 0.3em;box-sizing: border-box;text-align: center;}#sk-container-id-3 label.sk-toggleable__label-arrow:before {content: \"▸\";float: left;margin-right: 0.25em;color: #696969;}#sk-container-id-3 label.sk-toggleable__label-arrow:hover:before {color: black;}#sk-container-id-3 div.sk-estimator:hover label.sk-toggleable__label-arrow:before {color: black;}#sk-container-id-3 div.sk-toggleable__content {max-height: 0;max-width: 0;overflow: hidden;text-align: left;background-color: #f0f8ff;}#sk-container-id-3 div.sk-toggleable__content pre {margin: 0.2em;color: black;border-radius: 0.25em;background-color: #f0f8ff;}#sk-container-id-3 input.sk-toggleable__control:checked~div.sk-toggleable__content {max-height: 200px;max-width: 100%;overflow: auto;}#sk-container-id-3 input.sk-toggleable__control:checked~label.sk-toggleable__label-arrow:before {content: \"▾\";}#sk-container-id-3 div.sk-estimator input.sk-toggleable__control:checked~label.sk-toggleable__label {background-color: #d4ebff;}#sk-container-id-3 div.sk-label input.sk-toggleable__control:checked~label.sk-toggleable__label {background-color: #d4ebff;}#sk-container-id-3 input.sk-hidden--visually {border: 0;clip: rect(1px 1px 1px 1px);clip: rect(1px, 1px, 1px, 1px);height: 1px;margin: -1px;overflow: hidden;padding: 0;position: absolute;width: 1px;}#sk-container-id-3 div.sk-estimator {font-family: monospace;background-color: #f0f8ff;border: 1px dotted black;border-radius: 0.25em;box-sizing: border-box;margin-bottom: 0.5em;}#sk-container-id-3 div.sk-estimator:hover {background-color: #d4ebff;}#sk-container-id-3 div.sk-parallel-item::after {content: \"\";width: 100%;border-bottom: 1px solid gray;flex-grow: 1;}#sk-container-id-3 div.sk-label:hover label.sk-toggleable__label {background-color: #d4ebff;}#sk-container-id-3 div.sk-serial::before {content: \"\";position: absolute;border-left: 1px solid gray;box-sizing: border-box;top: 0;bottom: 0;left: 50%;z-index: 0;}#sk-container-id-3 div.sk-serial {display: flex;flex-direction: column;align-items: center;background-color: white;padding-right: 0.2em;padding-left: 0.2em;position: relative;}#sk-container-id-3 div.sk-item {position: relative;z-index: 1;}#sk-container-id-3 div.sk-parallel {display: flex;align-items: stretch;justify-content: center;background-color: white;position: relative;}#sk-container-id-3 div.sk-item::before, #sk-container-id-3 div.sk-parallel-item::before {content: \"\";position: absolute;border-left: 1px solid gray;box-sizing: border-box;top: 0;bottom: 0;left: 50%;z-index: -1;}#sk-container-id-3 div.sk-parallel-item {display: flex;flex-direction: column;z-index: 1;position: relative;background-color: white;}#sk-container-id-3 div.sk-parallel-item:first-child::after {align-self: flex-end;width: 50%;}#sk-container-id-3 div.sk-parallel-item:last-child::after {align-self: flex-start;width: 50%;}#sk-container-id-3 div.sk-parallel-item:only-child::after {width: 0;}#sk-container-id-3 div.sk-dashed-wrapped {border: 1px dashed gray;margin: 0 0.4em 0.5em 0.4em;box-sizing: border-box;padding-bottom: 0.4em;background-color: white;}#sk-container-id-3 div.sk-label label {font-family: monospace;font-weight: bold;display: inline-block;line-height: 1.2em;}#sk-container-id-3 div.sk-label-container {text-align: center;}#sk-container-id-3 div.sk-container {/* jupyter's `normalize.less` sets `[hidden] { display: none; }` but bootstrap.min.css set `[hidden] { display: none !important; }` so we also need the `!important` here to be able to override the default hidden behavior on the sphinx rendered scikit-learn.org. See: https://github.com/scikit-learn/scikit-learn/issues/21755 */display: inline-block !important;position: relative;}#sk-container-id-3 div.sk-text-repr-fallback {display: none;}</style><div id=\"sk-container-id-3\" class=\"sk-top-container\"><div class=\"sk-text-repr-fallback\"><pre>XGBRegressor(base_score=None, booster=None, callbacks=None,\n",
       "             colsample_bylevel=None, colsample_bynode=None,\n",
       "             colsample_bytree=None, early_stopping_rounds=None,\n",
       "             enable_categorical=False, eval_metric=None, feature_types=None,\n",
       "             gamma=None, gpu_id=None, grow_policy=None, importance_type=None,\n",
       "             interaction_constraints=None, learning_rate=None, max_bin=None,\n",
       "             max_cat_threshold=None, max_cat_to_onehot=None,\n",
       "             max_delta_step=None, max_depth=None, max_leaves=None,\n",
       "             min_child_weight=None, missing=nan, monotone_constraints=None,\n",
       "             n_estimators=100, n_jobs=None, num_parallel_tree=None,\n",
       "             predictor=None, random_state=None, ...)</pre><b>In a Jupyter environment, please rerun this cell to show the HTML representation or trust the notebook. <br />On GitHub, the HTML representation is unable to render, please try loading this page with nbviewer.org.</b></div><div class=\"sk-container\" hidden><div class=\"sk-item\"><div class=\"sk-estimator sk-toggleable\"><input class=\"sk-toggleable__control sk-hidden--visually\" id=\"sk-estimator-id-3\" type=\"checkbox\" checked><label for=\"sk-estimator-id-3\" class=\"sk-toggleable__label sk-toggleable__label-arrow\">XGBRegressor</label><div class=\"sk-toggleable__content\"><pre>XGBRegressor(base_score=None, booster=None, callbacks=None,\n",
       "             colsample_bylevel=None, colsample_bynode=None,\n",
       "             colsample_bytree=None, early_stopping_rounds=None,\n",
       "             enable_categorical=False, eval_metric=None, feature_types=None,\n",
       "             gamma=None, gpu_id=None, grow_policy=None, importance_type=None,\n",
       "             interaction_constraints=None, learning_rate=None, max_bin=None,\n",
       "             max_cat_threshold=None, max_cat_to_onehot=None,\n",
       "             max_delta_step=None, max_depth=None, max_leaves=None,\n",
       "             min_child_weight=None, missing=nan, monotone_constraints=None,\n",
       "             n_estimators=100, n_jobs=None, num_parallel_tree=None,\n",
       "             predictor=None, random_state=None, ...)</pre></div></div></div></div></div>"
      ],
      "text/plain": [
       "XGBRegressor(base_score=None, booster=None, callbacks=None,\n",
       "             colsample_bylevel=None, colsample_bynode=None,\n",
       "             colsample_bytree=None, early_stopping_rounds=None,\n",
       "             enable_categorical=False, eval_metric=None, feature_types=None,\n",
       "             gamma=None, gpu_id=None, grow_policy=None, importance_type=None,\n",
       "             interaction_constraints=None, learning_rate=None, max_bin=None,\n",
       "             max_cat_threshold=None, max_cat_to_onehot=None,\n",
       "             max_delta_step=None, max_depth=None, max_leaves=None,\n",
       "             min_child_weight=None, missing=nan, monotone_constraints=None,\n",
       "             n_estimators=100, n_jobs=None, num_parallel_tree=None,\n",
       "             predictor=None, random_state=None, ...)"
      ]
     },
     "execution_count": 82,
     "metadata": {},
     "output_type": "execute_result"
    }
   ],
   "source": [
    "xg.fit(X_train_std, Y_train)"
   ]
  },
  {
   "cell_type": "code",
   "execution_count": 83,
   "id": "8da084fa",
   "metadata": {},
   "outputs": [],
   "source": [
    "Y_pred_xg= xg.predict(X_test_std)"
   ]
  },
  {
   "cell_type": "code",
   "execution_count": 84,
   "id": "4bedd5c8",
   "metadata": {},
   "outputs": [
    {
     "data": {
      "text/plain": [
       "0.5313160658956877"
      ]
     },
     "execution_count": 84,
     "metadata": {},
     "output_type": "execute_result"
    }
   ],
   "source": [
    "r2_score(Y_test,Y_pred_xg)"
   ]
  },
  {
   "cell_type": "code",
   "execution_count": 85,
   "id": "15adc741",
   "metadata": {},
   "outputs": [
    {
     "name": "stdout",
     "output_type": "stream",
     "text": [
      "0.5313160658956877\n",
      "800.4555146602086\n",
      "1130.1923146392805\n"
     ]
    }
   ],
   "source": [
    "print(r2_score(Y_test,Y_pred_xg))\n",
    "print(mean_absolute_error(Y_test,Y_pred_xg))\n",
    "print(np.sqrt(mean_squared_error(Y_test,Y_pred_xg)))"
   ]
  },
  {
   "cell_type": "code",
   "execution_count": 86,
   "id": "7711eb9f",
   "metadata": {},
   "outputs": [
    {
     "name": "stdout",
     "output_type": "stream",
     "text": [
      "Fitting 2 folds for each of 3 candidates, totalling 6 fits\n",
      "Best: 0.549 using {'n_estimators': 1000}\n",
      "0.506 (0.012) with: {'n_estimators': 10}\n",
      "0.546 (0.006) with: {'n_estimators': 100}\n",
      "0.549 (0.006) with: {'n_estimators': 1000}\n"
     ]
    }
   ],
   "source": [
    "# Hyper parameter tuning\n",
    "\n",
    "from sklearn.model_selection import RepeatedStratifiedKFold\n",
    "from sklearn.model_selection import GridSearchCV\n",
    "\n",
    "# define models and parameters\n",
    "model = RandomForestRegressor()\n",
    "n_estimators = [10, 100, 1000]\n",
    "max_depth=range(1,31)\n",
    "min_samples_leaf=np.linspace(0.1, 1.0)\n",
    "max_features=[\"auto\", \"sqrt\", \"log2\"]\n",
    "min_samples_split=np.linspace(0.1, 1.0, 10)\n",
    "\n",
    "# define grid search\n",
    "grid = dict(n_estimators=n_estimators)\n",
    "\n",
    "\n",
    "grid_search_forest = GridSearchCV(estimator=model, param_grid=grid, n_jobs=-1, \n",
    "                           scoring='r2',error_score=0,verbose=2,cv=2)\n",
    "\n",
    "grid_search_forest.fit(X_train_std, Y_train)\n",
    "\n",
    "# summarize results\n",
    "print(f\"Best: {grid_search_forest.best_score_:.3f} using {grid_search_forest.best_params_}\")\n",
    "means = grid_search_forest.cv_results_['mean_test_score']\n",
    "stds = grid_search_forest.cv_results_['std_test_score']\n",
    "params = grid_search_forest.cv_results_['params']\n",
    "\n",
    "for mean, stdev, param in zip(means, stds, params):\n",
    "    print(f\"{mean:.3f} ({stdev:.3f}) with: {param}\")"
   ]
  },
  {
   "cell_type": "code",
   "execution_count": 87,
   "id": "1ee93559",
   "metadata": {},
   "outputs": [
    {
     "data": {
      "text/plain": [
       "{'n_estimators': 1000}"
      ]
     },
     "execution_count": 87,
     "metadata": {},
     "output_type": "execute_result"
    }
   ],
   "source": [
    "grid_search_forest.best_params_"
   ]
  },
  {
   "cell_type": "code",
   "execution_count": 88,
   "id": "678dd02f",
   "metadata": {},
   "outputs": [
    {
     "data": {
      "text/plain": [
       "0.5490364147022753"
      ]
     },
     "execution_count": 88,
     "metadata": {},
     "output_type": "execute_result"
    }
   ],
   "source": [
    "grid_search_forest.best_score_"
   ]
  },
  {
   "cell_type": "code",
   "execution_count": 89,
   "id": "e88dd8b7",
   "metadata": {},
   "outputs": [],
   "source": [
    "Y_pred_rf_grid=grid_search_forest.predict(X_test_std)"
   ]
  },
  {
   "cell_type": "code",
   "execution_count": 90,
   "id": "6f3548d9",
   "metadata": {},
   "outputs": [
    {
     "data": {
      "text/plain": [
       "0.5505251410737324"
      ]
     },
     "execution_count": 90,
     "metadata": {},
     "output_type": "execute_result"
    }
   ],
   "source": [
    "r2_score(Y_test,Y_pred_rf_grid)"
   ]
  },
  {
   "cell_type": "code",
   "execution_count": null,
   "id": "94a773d0",
   "metadata": {},
   "outputs": [],
   "source": []
  }
 ],
 "metadata": {
  "kernelspec": {
   "display_name": "Python 3 (ipykernel)",
   "language": "python",
   "name": "python3"
  },
  "language_info": {
   "codemirror_mode": {
    "name": "ipython",
    "version": 3
   },
   "file_extension": ".py",
   "mimetype": "text/x-python",
   "name": "python",
   "nbconvert_exporter": "python",
   "pygments_lexer": "ipython3",
   "version": "3.10.9"
  }
 },
 "nbformat": 4,
 "nbformat_minor": 5
}
