{
  "cells": [
    {
      "cell_type": "markdown",
      "metadata": {
        "id": "view-in-github",
        "colab_type": "text"
      },
      "source": [
        "<a href=\"https://colab.research.google.com/github/PawarSneha12/BigMart-Outlet-Sales-Analysis-and-Predictions/blob/main/Big_Mart_Sales_Prediction.ipynb\" target=\"_parent\"><img src=\"https://colab.research.google.com/assets/colab-badge.svg\" alt=\"Open In Colab\"/></a>"
      ]
    },
    {
      "cell_type": "code",
      "execution_count": null,
      "metadata": {
        "id": "v_RXFotBRe8p"
      },
      "outputs": [],
      "source": []
    },
    {
      "cell_type": "code",
      "execution_count": null,
      "metadata": {
        "id": "tTkIwQ2yRoks"
      },
      "outputs": [],
      "source": [
        "from google.colab import drive\n",
        "drive.mount('/content/drive')"
      ]
    },
    {
      "cell_type": "markdown",
      "source": [
        "### Importing The Dependencies"
      ],
      "metadata": {
        "id": "gsWYIeZclSYH"
      }
    },
    {
      "cell_type": "code",
      "execution_count": null,
      "metadata": {
        "id": "Qnbvl6ugpFjB"
      },
      "outputs": [],
      "source": [
        "import numpy as np\n",
        "import pandas as pd\n",
        "import matplotlib.pyplot as plt\n",
        "import seaborn as sns\n",
        "from sklearn.preprocessing import LabelEncoder\n",
        "from sklearn.model_selection import train_test_split\n",
        "from sklearn.linear_model import LinearRegression\n",
        "from xgboost import XGBRegressor\n",
        "from sklearn import metrics"
      ]
    },
    {
      "cell_type": "markdown",
      "source": [
        "## Preprocessing and Data Analysis"
      ],
      "metadata": {
        "id": "5EkUWc9flbRY"
      }
    },
    {
      "cell_type": "markdown",
      "source": [
        "Training dataset"
      ],
      "metadata": {
        "id": "Tr4iaZ_Cn2cQ"
      }
    },
    {
      "cell_type": "code",
      "execution_count": null,
      "metadata": {
        "id": "VCTo996huIvT"
      },
      "outputs": [],
      "source": [
        "# loading the dataset from csv file to a pandas DataFrame\n",
        "data_train = pd.read_csv('/content/drive/MyDrive/9961_14084_bundle_archive/Train.csv')\n"
      ]
    },
    {
      "cell_type": "code",
      "source": [
        "data_train.head()"
      ],
      "metadata": {
        "id": "4Y2QxnWjnlE8"
      },
      "execution_count": null,
      "outputs": []
    },
    {
      "cell_type": "code",
      "execution_count": null,
      "metadata": {
        "id": "JN3NZUefxfJf"
      },
      "outputs": [],
      "source": [
        "data_train.shape"
      ]
    },
    {
      "cell_type": "code",
      "execution_count": null,
      "metadata": {
        "id": "D5wgQ73kuhvi"
      },
      "outputs": [],
      "source": [
        "# some information about the dataset\n",
        "data_train.info()"
      ]
    },
    {
      "cell_type": "markdown",
      "source": [
        "Testing dataset"
      ],
      "metadata": {
        "id": "UmvWgxV-n9X5"
      }
    },
    {
      "cell_type": "code",
      "source": [
        "data_test = pd.read_csv('/content/drive/MyDrive/9961_14084_bundle_archive/Test.csv')"
      ],
      "metadata": {
        "id": "h1f7NdZikTIi"
      },
      "execution_count": null,
      "outputs": []
    },
    {
      "cell_type": "code",
      "source": [
        "data_test.head()"
      ],
      "metadata": {
        "id": "c3FcFq6BnqX1"
      },
      "execution_count": null,
      "outputs": []
    },
    {
      "cell_type": "code",
      "source": [
        "data_test.shape"
      ],
      "metadata": {
        "id": "glloaXasklpK"
      },
      "execution_count": null,
      "outputs": []
    },
    {
      "cell_type": "code",
      "source": [
        "data_test.info()"
      ],
      "metadata": {
        "id": "eh47cBc5kgQb"
      },
      "execution_count": null,
      "outputs": []
    },
    {
      "cell_type": "markdown",
      "source": [],
      "metadata": {
        "id": "iSSi3O61xif1"
      }
    },
    {
      "cell_type": "code",
      "execution_count": null,
      "metadata": {
        "id": "exAvpAjpzD22"
      },
      "outputs": [],
      "source": [
        "data_train.describe()\n"
      ]
    },
    {
      "cell_type": "code",
      "source": [
        "data_test.describe()"
      ],
      "metadata": {
        "id": "HFir23bvoPIn"
      },
      "execution_count": null,
      "outputs": []
    },
    {
      "cell_type": "markdown",
      "source": [
        "Missing Values"
      ],
      "metadata": {
        "id": "7951ZhL8xauR"
      }
    },
    {
      "cell_type": "code",
      "source": [
        "data_train.isnull().sum()"
      ],
      "metadata": {
        "id": "yA5v9CYIxPK7"
      },
      "execution_count": null,
      "outputs": []
    },
    {
      "cell_type": "markdown",
      "source": [
        "check the value counts for Outlet_Size and Item_Weight:"
      ],
      "metadata": {
        "id": "1pICubLE2l5c"
      }
    },
    {
      "cell_type": "code",
      "source": [
        "data_train.Outlet_Size.value_counts()"
      ],
      "metadata": {
        "id": "RO3D9ltx2hEG"
      },
      "execution_count": null,
      "outputs": []
    },
    {
      "cell_type": "code",
      "source": [
        "data_train.Item_Weight.value_counts()"
      ],
      "metadata": {
        "id": "2SRIo00F2jfz"
      },
      "execution_count": null,
      "outputs": []
    },
    {
      "cell_type": "code",
      "source": [
        "# filling the missing values in \"Outlet_Size\" with \"Mode\" value\n",
        "\n",
        "#train\n",
        "data_train['Outlet_Size'] = data_train['Outlet_Size'].fillna(\n",
        "data_train['Outlet_Size'].dropna().mode().values[0])\n",
        "\n"
      ],
      "metadata": {
        "id": "efVsNGTp3Ngu"
      },
      "execution_count": null,
      "outputs": []
    },
    {
      "cell_type": "code",
      "source": [
        "#test\n",
        "data_test['Outlet_Size'] = data_test['Outlet_Size'].fillna(\n",
        "data_test['Outlet_Size'].dropna().mode().values[0])"
      ],
      "metadata": {
        "id": "EcdDxsp138P9"
      },
      "execution_count": null,
      "outputs": []
    },
    {
      "cell_type": "code",
      "source": [
        "#checking filled missing values\n",
        "data_train['Outlet_Size'].isnull().sum(),data_train['Outlet_Size'].isnull().sum()"
      ],
      "metadata": {
        "id": "Ca-fP8ul4NgC"
      },
      "execution_count": null,
      "outputs": []
    },
    {
      "cell_type": "code",
      "execution_count": null,
      "metadata": {
        "id": "DA8OjzM1xP5z"
      },
      "outputs": [],
      "source": [
        "# filling the missing values in \"Item_weight column\" with \"Mean\" value\n",
        "\n",
        "#train\n",
        "data_train['Item_Weight'].fillna(data_train['Item_Weight'].dropna().mean())\n",
        "\n",
        "#test\n",
        "data_test['Item_Weight'].fillna(data_test['Item_Weight'].dropna().mean())\n",
        "\n",
        "#checking filled missing values\n",
        "data_train['Item_Weight'].isnull().sum(),data_test['Item_Weight'].isnull().sum()"
      ]
    },
    {
      "cell_type": "markdown",
      "source": [
        "### Data Visualization 📊\n",
        "Univariate Plots\n",
        "\n",
        "countplots for the categorical columns:\n",
        "##### Categorical columns:\n",
        "['Item_Identifier',\n",
        "'Item_Fat_Content',\n",
        "'Item_Type',\n",
        "'Outlet_Identifier',\n",
        "'Outlet_Size',\n",
        "'Outlet_Location_Type',\n",
        "'Outlet_Type']"
      ],
      "metadata": {
        "id": "h3ltQvCn_V1N"
      }
    },
    {
      "cell_type": "code",
      "source": [
        "plt.figure(figsize=(10,4))\n",
        "sns.countplot(x='Outlet_Identifier', data=data_train )\n",
        "plt.show()"
      ],
      "metadata": {
        "id": "7nfEwJm1BEdA"
      },
      "execution_count": null,
      "outputs": []
    },
    {
      "cell_type": "code",
      "source": [
        "plt.figure(figsize=(4,4))\n",
        "sns.countplot(x='Item_Fat_Content' , data=data_train )\n",
        "plt.show()"
      ],
      "metadata": {
        "id": "NKE5TSUN9fbt"
      },
      "execution_count": null,
      "outputs": []
    },
    {
      "cell_type": "code",
      "source": [
        "plt.figure(figsize=(20,10))\n",
        "sns.countplot(x='Item_Type' , data=data_train)\n",
        "plt.show()"
      ],
      "metadata": {
        "id": "mZPsH1XVAh1s"
      },
      "execution_count": null,
      "outputs": []
    },
    {
      "cell_type": "code",
      "source": [
        "plt.figure(figsize=(4,4))\n",
        "sns.countplot(x='Outlet_Size' , data=data_train)\n",
        "plt.show()"
      ],
      "metadata": {
        "id": "dI-j6E2uA3Lh"
      },
      "execution_count": null,
      "outputs": []
    },
    {
      "cell_type": "code",
      "source": [
        "plt.figure(figsize=(4,4))\n",
        "sns.countplot(x='Outlet_Location_Type' , data=data_train)\n",
        "plt.show()"
      ],
      "metadata": {
        "id": "v1TTQrkrBhef"
      },
      "execution_count": null,
      "outputs": []
    },
    {
      "cell_type": "code",
      "source": [
        "plt.figure(figsize=(8,4))\n",
        "sns.countplot(x='Outlet_Type' , data=data_train)\n",
        "plt.show()"
      ],
      "metadata": {
        "id": "IAUhIm1tBvoZ"
      },
      "execution_count": null,
      "outputs": []
    },
    {
      "cell_type": "code",
      "source": [
        "# Item_Weight distribution\n",
        "plt.figure(figsize=(4,4))\n",
        "sns.distplot(data_train['Item_Weight'])\n",
        "plt.show()"
      ],
      "metadata": {
        "id": "FGk-n9vPCGkY"
      },
      "execution_count": null,
      "outputs": []
    },
    {
      "cell_type": "code",
      "source": [
        "plt.figure(figsize=(6,6))\n",
        "sns.distplot(data_train['Item_Visibility'])\n",
        "plt.show()"
      ],
      "metadata": {
        "id": "csK6ncHDDUxq"
      },
      "execution_count": null,
      "outputs": []
    },
    {
      "cell_type": "code",
      "source": [
        "# Item MRP distribution\n",
        "plt.figure(figsize=(6,6))\n",
        "sns.distplot(data_train['Item_MRP'])\n",
        "plt.show()"
      ],
      "metadata": {
        "id": "gsaPPWDCGikM"
      },
      "execution_count": null,
      "outputs": []
    },
    {
      "cell_type": "code",
      "source": [
        "# Item_Outlet_Sales distribution\n",
        "plt.figure(figsize=(6,6))\n",
        "sns.distplot(data_train['Item_Outlet_Sales'])\n",
        "plt.show()"
      ],
      "metadata": {
        "id": "JLlsBJwtGjUD"
      },
      "execution_count": null,
      "outputs": []
    },
    {
      "cell_type": "markdown",
      "source": [
        "Item_Weight and Item_Outlet_Sales Analysis"
      ],
      "metadata": {
        "id": "foMWRErjz7iU"
      }
    },
    {
      "cell_type": "code",
      "source": [
        "\n",
        "plt.figure(figsize=(13,9))\n",
        "plt.xlabel('Item_Weight')\n",
        "plt.ylabel('Item_Outlet_Sales')\n",
        "plt.title('Item_Weight and Item_Outlet_Sales Analysis')\n",
        "sns.scatterplot(x='Item_Weight', y='Item_Outlet_Sales',hue='Item_Type', size='Item_Weight',data=data_train)"
      ],
      "metadata": {
        "id": "4njg_3iCIM0C"
      },
      "execution_count": null,
      "outputs": []
    },
    {
      "cell_type": "markdown",
      "source": [
        "Item_Visibility and Maximum Retail Price"
      ],
      "metadata": {
        "id": "3Ggj3xtp0bPw"
      }
    },
    {
      "cell_type": "code",
      "source": [
        "plt.figure(figsize=(7,7))\n",
        "plt.xlabel('Item_Visibility')\n",
        "plt.ylabel('Maximum Retail Price')\n",
        "plt.title('Item_Visibility and Maximum Retail Price')\n",
        "plt.plot(data_train.Item_Visibility, data_train.Item_MRP, \".\",alpha = 0.3)"
      ],
      "metadata": {
        "id": "VKqvSHjBHU6r"
      },
      "execution_count": null,
      "outputs": []
    },
    {
      "cell_type": "code",
      "source": [
        "data_train['Item_Fat_Content'] = data_train['Item_Fat_Content'].replace({'LF':'Low Fat','reg':'Regular','low fat':'Low Fat',})"
      ],
      "metadata": {
        "id": "smvR0IQNIVys"
      },
      "execution_count": null,
      "outputs": []
    },
    {
      "cell_type": "code",
      "source": [
        "data_train['Item_Fat_Content'].value_counts()"
      ],
      "metadata": {
        "id": "AyNWK2ivJqPe"
      },
      "execution_count": null,
      "outputs": []
    },
    {
      "cell_type": "code",
      "source": [
        "data_train['Item_Fat_Content'] = data_train['Item_Fat_Content'].replace({'LF':'Low Fat','reg':'Regular','low fat':'Low Fat',})"
      ],
      "metadata": {
        "id": "VOhhhv9S4SxJ"
      },
      "execution_count": null,
      "outputs": []
    },
    {
      "cell_type": "code",
      "source": [
        "Item_Fat_Content_pivot =\\\n",
        "data_train.pivot_table(index='Item_Fat_Content',values='Item_Outlet_Sales',aggfunc=np.median)\n",
        "\n",
        "Item_Fat_Content_pivot.plot(kind='bar',color='blue',figsize=(12,7))\n",
        "plt.xlabel('Item_Fat_Content')\n",
        "plt.ylabel(\"Item_Outlet_Sales\")\n",
        "plt.title(\"Impact of Item_Fat_Content on Item_Outlet_Sales\")\n",
        "plt.xticks(rotation=0)\n",
        "plt.show()\n"
      ],
      "metadata": {
        "id": "9Jddsp514061"
      },
      "execution_count": null,
      "outputs": []
    },
    {
      "cell_type": "code",
      "source": [
        "data_train.corr()"
      ],
      "metadata": {
        "id": "k01SAaL45Hf5"
      },
      "execution_count": null,
      "outputs": []
    },
    {
      "cell_type": "markdown",
      "source": [
        "Correlation between different attributes"
      ],
      "metadata": {
        "id": "VOWReemJ5WbA"
      }
    },
    {
      "cell_type": "code",
      "source": [
        "plt.figure(figsize=(35,15))\n",
        "sns.heatmap(data_train.corr(),vmax=1, square=True,annot=True, cmap='viridis')\n",
        "plt.title('Correlation between different attributes')\n",
        "plt.show()"
      ],
      "metadata": {
        "id": "AICw2dux5NYb"
      },
      "execution_count": null,
      "outputs": []
    },
    {
      "cell_type": "markdown",
      "source": [
        "Feature Engineering , Selection and Transformation\n",
        "Treating The Missing Values\n",
        "Item_Weight\n",
        "\n",
        "From the boxplot we plotted at the beginning, we noticed that the item_weight column is approximately normal and it is therefore helpful to replace the missing values with the Mean of the column."
      ],
      "metadata": {
        "id": "xM3lYWoq5haO"
      }
    },
    {
      "cell_type": "code",
      "source": [
        "#we will replace the NaN values with this mean\n",
        "data_train['Item_Weight'].mean()\n"
      ],
      "metadata": {
        "id": "Ep_6l6vI5iIV"
      },
      "execution_count": null,
      "outputs": []
    },
    {
      "cell_type": "code",
      "source": [
        "#missing values have been replaced with the mean using\n",
        "data_train['Item_Weight'].fillna(data_train['Item_Weight'].mean(), inplace=True)"
      ],
      "metadata": {
        "id": "FgvPTu_h5csN"
      },
      "execution_count": null,
      "outputs": []
    },
    {
      "cell_type": "code",
      "source": [
        "data_train['Outlet_Size'].value_counts()"
      ],
      "metadata": {
        "id": "rCHPK-9xTrMv"
      },
      "execution_count": null,
      "outputs": []
    },
    {
      "cell_type": "code",
      "source": [
        "data_train['Outlet_Size'].fillna('Medium', inplace=True)"
      ],
      "metadata": {
        "id": "FnkiJwkJTux3"
      },
      "execution_count": null,
      "outputs": []
    },
    {
      "cell_type": "code",
      "source": [
        "data_train.isnull().sum() #now we do not have any null values in Outlet_Size"
      ],
      "metadata": {
        "id": "oayT95ZET0pf"
      },
      "execution_count": null,
      "outputs": []
    },
    {
      "cell_type": "code",
      "source": [
        "data_train.shape"
      ],
      "metadata": {
        "id": "YDB0XPGzT60S"
      },
      "execution_count": null,
      "outputs": []
    },
    {
      "cell_type": "code",
      "source": [
        "data_test.shape"
      ],
      "metadata": {
        "id": "XCw7aJIlT9ws"
      },
      "execution_count": null,
      "outputs": []
    },
    {
      "cell_type": "code",
      "source": [],
      "metadata": {
        "id": "B9-oP4SDUFG4"
      },
      "execution_count": null,
      "outputs": []
    },
    {
      "cell_type": "markdown",
      "source": [
        "#### Dealing with our Categorical Variables\n",
        "Label Encoder We will be converting all categorical variables into numeric types (Values of 0 or 1) using the LabelEncoder function since we cannot build model on them."
      ],
      "metadata": {
        "id": "3eWHFbbrUnqI"
      }
    },
    {
      "cell_type": "code",
      "source": [
        "from sklearn.preprocessing import LabelEncoder\n",
        "label = LabelEncoder()\n",
        "\n",
        "#New variable for outlet\n",
        "data_train['Outlet'] = label.fit_transform(data_train['Outlet_Identifier'])\n",
        "data_test['Outlet'] = label.fit_transform(data_test['Outlet_Identifier'])\n",
        "varib = ['Item_Fat_Content','Outlet_Location_Type','Outlet_Size','Outlet_Type']\n",
        "for i in varib:\n",
        "  data_train[i] = label.fit_transform(data_train[i])\n",
        "  data_test[i] = label.fit_transform(data_test[i])"
      ],
      "metadata": {
        "id": "qfxFV-8CUKL5"
      },
      "execution_count": null,
      "outputs": []
    },
    {
      "cell_type": "code",
      "source": [
        "data_train.head()"
      ],
      "metadata": {
        "id": "XLCJ1TKZU6g9"
      },
      "execution_count": null,
      "outputs": []
    },
    {
      "cell_type": "code",
      "source": [
        "# Dropping irrelevant columns\n",
        "\n",
        "tr_fe  = data_train.drop(['Item_Identifier','Outlet_Identifier','Outlet_Type'],axis=1)\n",
        "te_fe = data_test.drop(['Item_Identifier','Outlet_Identifier','Outlet_Type',],axis=1)"
      ],
      "metadata": {
        "id": "iS0NKu4HVx07"
      },
      "execution_count": null,
      "outputs": []
    },
    {
      "cell_type": "markdown",
      "source": [
        "#### Machine learning models\n",
        "Linear Regression\n",
        "\n",
        "Random Forest Regressor\n",
        "\n",
        "Lasso Regressor"
      ],
      "metadata": {
        "id": "K9RzS4YuWZ08"
      }
    },
    {
      "cell_type": "code",
      "source": [
        "from sklearn.linear_model import LinearRegression\n",
        "from sklearn.ensemble import RandomForestRegressor\n",
        "from sklearn.linear_model import Lasso\n"
      ],
      "metadata": {
        "id": "hG5Yngi9XQjM"
      },
      "execution_count": null,
      "outputs": []
    },
    {
      "cell_type": "code",
      "source": [
        "y = data_train['Item_Outlet_Sales']\n",
        "X = data_train.drop('Item_Outlet_Sales', axis = 1)\n",
        "X_train, X_test, y_train, y_test = train_test_split(X, y, test_size = 0.8, random_state = 0)"
      ],
      "metadata": {
        "id": "3O22nXyxV6V7"
      },
      "execution_count": null,
      "outputs": []
    },
    {
      "cell_type": "code",
      "source": [
        "X_test = data_train.drop(['Outlet_Identifier','Item_Identifier'], axis=1)"
      ],
      "metadata": {
        "id": "tQSwETjaMkBA"
      },
      "execution_count": null,
      "outputs": []
    },
    {
      "cell_type": "code",
      "source": [
        "def cross_val(model_name,model,X,y,cv):\n",
        "\n",
        "    scores = CVS(model, X, y, cv=cv)\n",
        "    print(f'{model_name} Scores:')\n",
        "    for i in scores:\n",
        "        print(round(i,2))\n",
        "    print(f'Average {model_name} score: {round(scores.mean(),4)}')"
      ],
      "metadata": {
        "id": "3OldO0e2MOnE"
      },
      "execution_count": null,
      "outputs": []
    },
    {
      "cell_type": "code",
      "source": [
        "def cross_val(model_name,model,X,y,cv):\n",
        "\n",
        "    scores = CVS(model, X, y, cv=cv)\n",
        "    print(f'{model_name} Scores:')\n",
        "    for i in scores:\n",
        "        print(round(i,2))\n",
        "    print(f'Average {model_name} score: {round(scores.mean(),4)}')"
      ],
      "metadata": {
        "id": "Fk3BFu2eWb5z"
      },
      "execution_count": null,
      "outputs": []
    },
    {
      "cell_type": "code",
      "source": [
        "X_train = data_train.drop(['Item_Outlet_Sales', 'Outlet_Identifier','Item_Identifier'], axis=1)\n",
        "y_train = data_train.Item_Outlet_Sales"
      ],
      "metadata": {
        "id": "WsLwKj-0PBEH"
      },
      "execution_count": null,
      "outputs": []
    },
    {
      "cell_type": "code",
      "source": [
        "X_test = data_test.drop(['Outlet_Identifier','Item_Identifier'], axis=1)"
      ],
      "metadata": {
        "id": "zCTmqtKSI3ZI"
      },
      "execution_count": null,
      "outputs": []
    },
    {
      "cell_type": "code",
      "source": [
        "from sklearn.linear_model import  LinearRegression\n",
        "regressor = LinearRegression()\n",
        "#regressor.fit(X_train,y_train)"
      ],
      "metadata": {
        "id": "reEOPT6JYZsy"
      },
      "execution_count": null,
      "outputs": []
    },
    {
      "cell_type": "code",
      "source": [
        "from sklearn.tree import DecisionTreeRegressor\n",
        "\n",
        "tree = DecisionTreeRegressor(max_depth=15, min_samples_leaf=100)\n",
        "\n",
        "tree.fit(X_train,y_train)\n",
        "#tree_pred = tree.predict(X_test)"
      ],
      "metadata": {
        "id": "oxHM2vXNXtI0"
      },
      "execution_count": null,
      "outputs": []
    },
    {
      "cell_type": "code",
      "source": [
        "RFR= RandomForestRegressor(n_estimators=200,max_depth=5, min_samples_leaf=100,n_jobs=4,random_state=101)\n",
        "#fit\n",
        "RFR.fit(X_train, y_train)\n",
        "#predict\n",
        "y_predict = RFR.predict(X_test)\n",
        "\n",
        "#score variables\n",
        "RFR_MAE = round(MAE(y_test, y_predict),2)\n",
        "RFR_MSE = round(MSE(y_test, y_predict),2)\n",
        "RFR_R_2 = round(R2(y_test, y_predict),4)\n",
        "RFR_CS  = round(CVS(RFR, X, y, cv=5).mean(),4)\n",
        "\n",
        "\n",
        "\n",
        "print(f\" Mean Absolute Error: {RFR_MAE}\\n\")\n",
        "print(f\" Mean Squared Error: {RFR_MSE}\\n\")\n",
        "print(f\" R^2 Score: {RFR_R_2}\\n\")\n",
        "cross_val(RFR,RandomForestRegressor(),X,y,5)\n"
      ],
      "metadata": {
        "id": "W5gUaltYRJAq"
      },
      "execution_count": null,
      "outputs": []
    },
    {
      "cell_type": "code",
      "source": [
        "#model\n",
        "LS = Lasso(alpha = 0.05)\n",
        "#fit\n",
        "LS.fit(X_train,y_train)\n",
        "\n",
        "#predict\n",
        "y_predict = LS.predict(X_test)\n",
        "\n",
        "#score variables\n",
        "LS_MAE = round(MAE(y_test, y_predict),2)\n",
        "LS_MSE = round(MSE(y_test, y_predict),2)\n",
        "LS_R_2 = round(R2(y_test, y_predict),4)\n",
        "LS_CS  = round(CVS(LS, X, y, cv=5).mean(),4)\n",
        "\n",
        "print(f\" Mean Absolute Error: {LS_MAE}\\n\")\n",
        "print(f\" Mean Squared Error: {LS_MSE}\\n\")\n",
        "print(f\" R^2 Score: {LS_R_2}\\n\")\n",
        "cross_val(LS,Lasso(alpha = 0.05),X,y,5)"
      ],
      "metadata": {
        "id": "qppwTgzHRs-J"
      },
      "execution_count": null,
      "outputs": []
    },
    {
      "cell_type": "code",
      "source": [],
      "metadata": {
        "id": "BATXUHspRi6U"
      },
      "execution_count": null,
      "outputs": []
    }
  ],
  "metadata": {
    "colab": {
      "provenance": [],
      "private_outputs": true,
      "gpuType": "T4",
      "toc_visible": true,
      "mount_file_id": "10hEwe5AGo9_tOJiHzN78K1H7ll3IyHDL",
      "authorship_tag": "ABX9TyPGLD+uxNXyWkzwtkLSsYpC",
      "include_colab_link": true
    },
    "kernelspec": {
      "display_name": "Python 3",
      "name": "python3"
    },
    "language_info": {
      "name": "python"
    },
    "accelerator": "GPU"
  },
  "nbformat": 4,
  "nbformat_minor": 0
}