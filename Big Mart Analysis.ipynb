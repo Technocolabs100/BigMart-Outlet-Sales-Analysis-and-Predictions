{
 "cells": [
  {
   "cell_type": "code",
   "execution_count": null,
   "id": "820ead21",
   "metadata": {},
   "outputs": [],
   "source": [
    "##Importing Libraries"
   ]
  },
  {
   "cell_type": "code",
   "execution_count": 57,
   "id": "b2204bda",
   "metadata": {},
   "outputs": [],
   "source": [
    "import pandas as pd\n",
    "import matplotlib.pyplot as plt\n",
    "import numpy as np\n",
    "import seaborn as sns\n",
    "import warnings\n",
    "warnings.filterwarnings('ignore')"
   ]
  },
  {
   "cell_type": "code",
   "execution_count": null,
   "id": "0d2882e6",
   "metadata": {},
   "outputs": [],
   "source": [
    "##Loading Dataset"
   ]
  },
  {
   "cell_type": "code",
   "execution_count": 2,
   "id": "b7014aa0",
   "metadata": {},
   "outputs": [],
   "source": [
    "train_data = pd.read_csv('Train.csv')\n",
    "test_data = pd.read_csv('Test.csv')"
   ]
  },
  {
   "cell_type": "code",
   "execution_count": 3,
   "id": "cc432d77",
   "metadata": {},
   "outputs": [],
   "source": [
    "##Exploratory Data Analysis and Cleaning\n",
    "\n",
    "##Checking heading and information of both files using 'head' and 'info' option in python"
   ]
  },
  {
   "cell_type": "code",
   "execution_count": 4,
   "id": "c4596403",
   "metadata": {
    "scrolled": true
   },
   "outputs": [
    {
     "data": {
      "text/html": [
       "<div>\n",
       "<style scoped>\n",
       "    .dataframe tbody tr th:only-of-type {\n",
       "        vertical-align: middle;\n",
       "    }\n",
       "\n",
       "    .dataframe tbody tr th {\n",
       "        vertical-align: top;\n",
       "    }\n",
       "\n",
       "    .dataframe thead th {\n",
       "        text-align: right;\n",
       "    }\n",
       "</style>\n",
       "<table border=\"1\" class=\"dataframe\">\n",
       "  <thead>\n",
       "    <tr style=\"text-align: right;\">\n",
       "      <th></th>\n",
       "      <th>Item_Identifier</th>\n",
       "      <th>Item_Weight</th>\n",
       "      <th>Item_Fat_Content</th>\n",
       "      <th>Item_Visibility</th>\n",
       "      <th>Item_Type</th>\n",
       "      <th>Item_MRP</th>\n",
       "      <th>Outlet_Identifier</th>\n",
       "      <th>Outlet_Establishment_Year</th>\n",
       "      <th>Outlet_Size</th>\n",
       "      <th>Outlet_Location_Type</th>\n",
       "      <th>Outlet_Type</th>\n",
       "      <th>Item_Outlet_Sales</th>\n",
       "    </tr>\n",
       "  </thead>\n",
       "  <tbody>\n",
       "    <tr>\n",
       "      <th>0</th>\n",
       "      <td>FDA15</td>\n",
       "      <td>9.30</td>\n",
       "      <td>Low Fat</td>\n",
       "      <td>0.016047</td>\n",
       "      <td>Dairy</td>\n",
       "      <td>249.8092</td>\n",
       "      <td>OUT049</td>\n",
       "      <td>1999</td>\n",
       "      <td>Medium</td>\n",
       "      <td>Tier 1</td>\n",
       "      <td>Supermarket Type1</td>\n",
       "      <td>3735.1380</td>\n",
       "    </tr>\n",
       "    <tr>\n",
       "      <th>1</th>\n",
       "      <td>DRC01</td>\n",
       "      <td>5.92</td>\n",
       "      <td>Regular</td>\n",
       "      <td>0.019278</td>\n",
       "      <td>Soft Drinks</td>\n",
       "      <td>48.2692</td>\n",
       "      <td>OUT018</td>\n",
       "      <td>2009</td>\n",
       "      <td>Medium</td>\n",
       "      <td>Tier 3</td>\n",
       "      <td>Supermarket Type2</td>\n",
       "      <td>443.4228</td>\n",
       "    </tr>\n",
       "    <tr>\n",
       "      <th>2</th>\n",
       "      <td>FDN15</td>\n",
       "      <td>17.50</td>\n",
       "      <td>Low Fat</td>\n",
       "      <td>0.016760</td>\n",
       "      <td>Meat</td>\n",
       "      <td>141.6180</td>\n",
       "      <td>OUT049</td>\n",
       "      <td>1999</td>\n",
       "      <td>Medium</td>\n",
       "      <td>Tier 1</td>\n",
       "      <td>Supermarket Type1</td>\n",
       "      <td>2097.2700</td>\n",
       "    </tr>\n",
       "    <tr>\n",
       "      <th>3</th>\n",
       "      <td>FDX07</td>\n",
       "      <td>19.20</td>\n",
       "      <td>Regular</td>\n",
       "      <td>0.000000</td>\n",
       "      <td>Fruits and Vegetables</td>\n",
       "      <td>182.0950</td>\n",
       "      <td>OUT010</td>\n",
       "      <td>1998</td>\n",
       "      <td>NaN</td>\n",
       "      <td>Tier 3</td>\n",
       "      <td>Grocery Store</td>\n",
       "      <td>732.3800</td>\n",
       "    </tr>\n",
       "    <tr>\n",
       "      <th>4</th>\n",
       "      <td>NCD19</td>\n",
       "      <td>8.93</td>\n",
       "      <td>Low Fat</td>\n",
       "      <td>0.000000</td>\n",
       "      <td>Household</td>\n",
       "      <td>53.8614</td>\n",
       "      <td>OUT013</td>\n",
       "      <td>1987</td>\n",
       "      <td>High</td>\n",
       "      <td>Tier 3</td>\n",
       "      <td>Supermarket Type1</td>\n",
       "      <td>994.7052</td>\n",
       "    </tr>\n",
       "  </tbody>\n",
       "</table>\n",
       "</div>"
      ],
      "text/plain": [
       "  Item_Identifier  Item_Weight Item_Fat_Content  Item_Visibility  \\\n",
       "0           FDA15         9.30          Low Fat         0.016047   \n",
       "1           DRC01         5.92          Regular         0.019278   \n",
       "2           FDN15        17.50          Low Fat         0.016760   \n",
       "3           FDX07        19.20          Regular         0.000000   \n",
       "4           NCD19         8.93          Low Fat         0.000000   \n",
       "\n",
       "               Item_Type  Item_MRP Outlet_Identifier  \\\n",
       "0                  Dairy  249.8092            OUT049   \n",
       "1            Soft Drinks   48.2692            OUT018   \n",
       "2                   Meat  141.6180            OUT049   \n",
       "3  Fruits and Vegetables  182.0950            OUT010   \n",
       "4              Household   53.8614            OUT013   \n",
       "\n",
       "   Outlet_Establishment_Year Outlet_Size Outlet_Location_Type  \\\n",
       "0                       1999      Medium               Tier 1   \n",
       "1                       2009      Medium               Tier 3   \n",
       "2                       1999      Medium               Tier 1   \n",
       "3                       1998         NaN               Tier 3   \n",
       "4                       1987        High               Tier 3   \n",
       "\n",
       "         Outlet_Type  Item_Outlet_Sales  \n",
       "0  Supermarket Type1          3735.1380  \n",
       "1  Supermarket Type2           443.4228  \n",
       "2  Supermarket Type1          2097.2700  \n",
       "3      Grocery Store           732.3800  \n",
       "4  Supermarket Type1           994.7052  "
      ]
     },
     "execution_count": 4,
     "metadata": {},
     "output_type": "execute_result"
    }
   ],
   "source": [
    "train_data.head()"
   ]
  },
  {
   "cell_type": "code",
   "execution_count": 5,
   "id": "95408a47",
   "metadata": {
    "scrolled": true
   },
   "outputs": [
    {
     "data": {
      "text/html": [
       "<div>\n",
       "<style scoped>\n",
       "    .dataframe tbody tr th:only-of-type {\n",
       "        vertical-align: middle;\n",
       "    }\n",
       "\n",
       "    .dataframe tbody tr th {\n",
       "        vertical-align: top;\n",
       "    }\n",
       "\n",
       "    .dataframe thead th {\n",
       "        text-align: right;\n",
       "    }\n",
       "</style>\n",
       "<table border=\"1\" class=\"dataframe\">\n",
       "  <thead>\n",
       "    <tr style=\"text-align: right;\">\n",
       "      <th></th>\n",
       "      <th>Item_Identifier</th>\n",
       "      <th>Item_Weight</th>\n",
       "      <th>Item_Fat_Content</th>\n",
       "      <th>Item_Visibility</th>\n",
       "      <th>Item_Type</th>\n",
       "      <th>Item_MRP</th>\n",
       "      <th>Outlet_Identifier</th>\n",
       "      <th>Outlet_Establishment_Year</th>\n",
       "      <th>Outlet_Size</th>\n",
       "      <th>Outlet_Location_Type</th>\n",
       "      <th>Outlet_Type</th>\n",
       "      <th>Item_Outlet_Sales</th>\n",
       "    </tr>\n",
       "  </thead>\n",
       "  <tbody>\n",
       "    <tr>\n",
       "      <th>8518</th>\n",
       "      <td>FDF22</td>\n",
       "      <td>6.865</td>\n",
       "      <td>Low Fat</td>\n",
       "      <td>0.056783</td>\n",
       "      <td>Snack Foods</td>\n",
       "      <td>214.5218</td>\n",
       "      <td>OUT013</td>\n",
       "      <td>1987</td>\n",
       "      <td>High</td>\n",
       "      <td>Tier 3</td>\n",
       "      <td>Supermarket Type1</td>\n",
       "      <td>2778.3834</td>\n",
       "    </tr>\n",
       "    <tr>\n",
       "      <th>8519</th>\n",
       "      <td>FDS36</td>\n",
       "      <td>8.380</td>\n",
       "      <td>Regular</td>\n",
       "      <td>0.046982</td>\n",
       "      <td>Baking Goods</td>\n",
       "      <td>108.1570</td>\n",
       "      <td>OUT045</td>\n",
       "      <td>2002</td>\n",
       "      <td>NaN</td>\n",
       "      <td>Tier 2</td>\n",
       "      <td>Supermarket Type1</td>\n",
       "      <td>549.2850</td>\n",
       "    </tr>\n",
       "    <tr>\n",
       "      <th>8520</th>\n",
       "      <td>NCJ29</td>\n",
       "      <td>10.600</td>\n",
       "      <td>Low Fat</td>\n",
       "      <td>0.035186</td>\n",
       "      <td>Health and Hygiene</td>\n",
       "      <td>85.1224</td>\n",
       "      <td>OUT035</td>\n",
       "      <td>2004</td>\n",
       "      <td>Small</td>\n",
       "      <td>Tier 2</td>\n",
       "      <td>Supermarket Type1</td>\n",
       "      <td>1193.1136</td>\n",
       "    </tr>\n",
       "    <tr>\n",
       "      <th>8521</th>\n",
       "      <td>FDN46</td>\n",
       "      <td>7.210</td>\n",
       "      <td>Regular</td>\n",
       "      <td>0.145221</td>\n",
       "      <td>Snack Foods</td>\n",
       "      <td>103.1332</td>\n",
       "      <td>OUT018</td>\n",
       "      <td>2009</td>\n",
       "      <td>Medium</td>\n",
       "      <td>Tier 3</td>\n",
       "      <td>Supermarket Type2</td>\n",
       "      <td>1845.5976</td>\n",
       "    </tr>\n",
       "    <tr>\n",
       "      <th>8522</th>\n",
       "      <td>DRG01</td>\n",
       "      <td>14.800</td>\n",
       "      <td>Low Fat</td>\n",
       "      <td>0.044878</td>\n",
       "      <td>Soft Drinks</td>\n",
       "      <td>75.4670</td>\n",
       "      <td>OUT046</td>\n",
       "      <td>1997</td>\n",
       "      <td>Small</td>\n",
       "      <td>Tier 1</td>\n",
       "      <td>Supermarket Type1</td>\n",
       "      <td>765.6700</td>\n",
       "    </tr>\n",
       "  </tbody>\n",
       "</table>\n",
       "</div>"
      ],
      "text/plain": [
       "     Item_Identifier  Item_Weight Item_Fat_Content  Item_Visibility  \\\n",
       "8518           FDF22        6.865          Low Fat         0.056783   \n",
       "8519           FDS36        8.380          Regular         0.046982   \n",
       "8520           NCJ29       10.600          Low Fat         0.035186   \n",
       "8521           FDN46        7.210          Regular         0.145221   \n",
       "8522           DRG01       14.800          Low Fat         0.044878   \n",
       "\n",
       "               Item_Type  Item_MRP Outlet_Identifier  \\\n",
       "8518         Snack Foods  214.5218            OUT013   \n",
       "8519        Baking Goods  108.1570            OUT045   \n",
       "8520  Health and Hygiene   85.1224            OUT035   \n",
       "8521         Snack Foods  103.1332            OUT018   \n",
       "8522         Soft Drinks   75.4670            OUT046   \n",
       "\n",
       "      Outlet_Establishment_Year Outlet_Size Outlet_Location_Type  \\\n",
       "8518                       1987        High               Tier 3   \n",
       "8519                       2002         NaN               Tier 2   \n",
       "8520                       2004       Small               Tier 2   \n",
       "8521                       2009      Medium               Tier 3   \n",
       "8522                       1997       Small               Tier 1   \n",
       "\n",
       "            Outlet_Type  Item_Outlet_Sales  \n",
       "8518  Supermarket Type1          2778.3834  \n",
       "8519  Supermarket Type1           549.2850  \n",
       "8520  Supermarket Type1          1193.1136  \n",
       "8521  Supermarket Type2          1845.5976  \n",
       "8522  Supermarket Type1           765.6700  "
      ]
     },
     "execution_count": 5,
     "metadata": {},
     "output_type": "execute_result"
    }
   ],
   "source": [
    "train_data.tail()"
   ]
  },
  {
   "cell_type": "code",
   "execution_count": 6,
   "id": "cf293481",
   "metadata": {},
   "outputs": [
    {
     "data": {
      "text/html": [
       "<div>\n",
       "<style scoped>\n",
       "    .dataframe tbody tr th:only-of-type {\n",
       "        vertical-align: middle;\n",
       "    }\n",
       "\n",
       "    .dataframe tbody tr th {\n",
       "        vertical-align: top;\n",
       "    }\n",
       "\n",
       "    .dataframe thead th {\n",
       "        text-align: right;\n",
       "    }\n",
       "</style>\n",
       "<table border=\"1\" class=\"dataframe\">\n",
       "  <thead>\n",
       "    <tr style=\"text-align: right;\">\n",
       "      <th></th>\n",
       "      <th>Item_Identifier</th>\n",
       "      <th>Item_Weight</th>\n",
       "      <th>Item_Fat_Content</th>\n",
       "      <th>Item_Visibility</th>\n",
       "      <th>Item_Type</th>\n",
       "      <th>Item_MRP</th>\n",
       "      <th>Outlet_Identifier</th>\n",
       "      <th>Outlet_Establishment_Year</th>\n",
       "      <th>Outlet_Size</th>\n",
       "      <th>Outlet_Location_Type</th>\n",
       "      <th>Outlet_Type</th>\n",
       "    </tr>\n",
       "  </thead>\n",
       "  <tbody>\n",
       "    <tr>\n",
       "      <th>0</th>\n",
       "      <td>FDW58</td>\n",
       "      <td>20.750</td>\n",
       "      <td>Low Fat</td>\n",
       "      <td>0.007565</td>\n",
       "      <td>Snack Foods</td>\n",
       "      <td>107.8622</td>\n",
       "      <td>OUT049</td>\n",
       "      <td>1999</td>\n",
       "      <td>Medium</td>\n",
       "      <td>Tier 1</td>\n",
       "      <td>Supermarket Type1</td>\n",
       "    </tr>\n",
       "    <tr>\n",
       "      <th>1</th>\n",
       "      <td>FDW14</td>\n",
       "      <td>8.300</td>\n",
       "      <td>reg</td>\n",
       "      <td>0.038428</td>\n",
       "      <td>Dairy</td>\n",
       "      <td>87.3198</td>\n",
       "      <td>OUT017</td>\n",
       "      <td>2007</td>\n",
       "      <td>NaN</td>\n",
       "      <td>Tier 2</td>\n",
       "      <td>Supermarket Type1</td>\n",
       "    </tr>\n",
       "    <tr>\n",
       "      <th>2</th>\n",
       "      <td>NCN55</td>\n",
       "      <td>14.600</td>\n",
       "      <td>Low Fat</td>\n",
       "      <td>0.099575</td>\n",
       "      <td>Others</td>\n",
       "      <td>241.7538</td>\n",
       "      <td>OUT010</td>\n",
       "      <td>1998</td>\n",
       "      <td>NaN</td>\n",
       "      <td>Tier 3</td>\n",
       "      <td>Grocery Store</td>\n",
       "    </tr>\n",
       "    <tr>\n",
       "      <th>3</th>\n",
       "      <td>FDQ58</td>\n",
       "      <td>7.315</td>\n",
       "      <td>Low Fat</td>\n",
       "      <td>0.015388</td>\n",
       "      <td>Snack Foods</td>\n",
       "      <td>155.0340</td>\n",
       "      <td>OUT017</td>\n",
       "      <td>2007</td>\n",
       "      <td>NaN</td>\n",
       "      <td>Tier 2</td>\n",
       "      <td>Supermarket Type1</td>\n",
       "    </tr>\n",
       "    <tr>\n",
       "      <th>4</th>\n",
       "      <td>FDY38</td>\n",
       "      <td>NaN</td>\n",
       "      <td>Regular</td>\n",
       "      <td>0.118599</td>\n",
       "      <td>Dairy</td>\n",
       "      <td>234.2300</td>\n",
       "      <td>OUT027</td>\n",
       "      <td>1985</td>\n",
       "      <td>Medium</td>\n",
       "      <td>Tier 3</td>\n",
       "      <td>Supermarket Type3</td>\n",
       "    </tr>\n",
       "  </tbody>\n",
       "</table>\n",
       "</div>"
      ],
      "text/plain": [
       "  Item_Identifier  Item_Weight Item_Fat_Content  Item_Visibility    Item_Type  \\\n",
       "0           FDW58       20.750          Low Fat         0.007565  Snack Foods   \n",
       "1           FDW14        8.300              reg         0.038428        Dairy   \n",
       "2           NCN55       14.600          Low Fat         0.099575       Others   \n",
       "3           FDQ58        7.315          Low Fat         0.015388  Snack Foods   \n",
       "4           FDY38          NaN          Regular         0.118599        Dairy   \n",
       "\n",
       "   Item_MRP Outlet_Identifier  Outlet_Establishment_Year Outlet_Size  \\\n",
       "0  107.8622            OUT049                       1999      Medium   \n",
       "1   87.3198            OUT017                       2007         NaN   \n",
       "2  241.7538            OUT010                       1998         NaN   \n",
       "3  155.0340            OUT017                       2007         NaN   \n",
       "4  234.2300            OUT027                       1985      Medium   \n",
       "\n",
       "  Outlet_Location_Type        Outlet_Type  \n",
       "0               Tier 1  Supermarket Type1  \n",
       "1               Tier 2  Supermarket Type1  \n",
       "2               Tier 3      Grocery Store  \n",
       "3               Tier 2  Supermarket Type1  \n",
       "4               Tier 3  Supermarket Type3  "
      ]
     },
     "execution_count": 6,
     "metadata": {},
     "output_type": "execute_result"
    }
   ],
   "source": [
    "test_data.head()"
   ]
  },
  {
   "cell_type": "code",
   "execution_count": 7,
   "id": "6b8f13d2",
   "metadata": {},
   "outputs": [
    {
     "data": {
      "text/html": [
       "<div>\n",
       "<style scoped>\n",
       "    .dataframe tbody tr th:only-of-type {\n",
       "        vertical-align: middle;\n",
       "    }\n",
       "\n",
       "    .dataframe tbody tr th {\n",
       "        vertical-align: top;\n",
       "    }\n",
       "\n",
       "    .dataframe thead th {\n",
       "        text-align: right;\n",
       "    }\n",
       "</style>\n",
       "<table border=\"1\" class=\"dataframe\">\n",
       "  <thead>\n",
       "    <tr style=\"text-align: right;\">\n",
       "      <th></th>\n",
       "      <th>Item_Identifier</th>\n",
       "      <th>Item_Weight</th>\n",
       "      <th>Item_Fat_Content</th>\n",
       "      <th>Item_Visibility</th>\n",
       "      <th>Item_Type</th>\n",
       "      <th>Item_MRP</th>\n",
       "      <th>Outlet_Identifier</th>\n",
       "      <th>Outlet_Establishment_Year</th>\n",
       "      <th>Outlet_Size</th>\n",
       "      <th>Outlet_Location_Type</th>\n",
       "      <th>Outlet_Type</th>\n",
       "    </tr>\n",
       "  </thead>\n",
       "  <tbody>\n",
       "    <tr>\n",
       "      <th>5676</th>\n",
       "      <td>FDB58</td>\n",
       "      <td>10.5</td>\n",
       "      <td>Regular</td>\n",
       "      <td>0.013496</td>\n",
       "      <td>Snack Foods</td>\n",
       "      <td>141.3154</td>\n",
       "      <td>OUT046</td>\n",
       "      <td>1997</td>\n",
       "      <td>Small</td>\n",
       "      <td>Tier 1</td>\n",
       "      <td>Supermarket Type1</td>\n",
       "    </tr>\n",
       "    <tr>\n",
       "      <th>5677</th>\n",
       "      <td>FDD47</td>\n",
       "      <td>7.6</td>\n",
       "      <td>Regular</td>\n",
       "      <td>0.142991</td>\n",
       "      <td>Starchy Foods</td>\n",
       "      <td>169.1448</td>\n",
       "      <td>OUT018</td>\n",
       "      <td>2009</td>\n",
       "      <td>Medium</td>\n",
       "      <td>Tier 3</td>\n",
       "      <td>Supermarket Type2</td>\n",
       "    </tr>\n",
       "    <tr>\n",
       "      <th>5678</th>\n",
       "      <td>NCO17</td>\n",
       "      <td>10.0</td>\n",
       "      <td>Low Fat</td>\n",
       "      <td>0.073529</td>\n",
       "      <td>Health and Hygiene</td>\n",
       "      <td>118.7440</td>\n",
       "      <td>OUT045</td>\n",
       "      <td>2002</td>\n",
       "      <td>NaN</td>\n",
       "      <td>Tier 2</td>\n",
       "      <td>Supermarket Type1</td>\n",
       "    </tr>\n",
       "    <tr>\n",
       "      <th>5679</th>\n",
       "      <td>FDJ26</td>\n",
       "      <td>15.3</td>\n",
       "      <td>Regular</td>\n",
       "      <td>0.000000</td>\n",
       "      <td>Canned</td>\n",
       "      <td>214.6218</td>\n",
       "      <td>OUT017</td>\n",
       "      <td>2007</td>\n",
       "      <td>NaN</td>\n",
       "      <td>Tier 2</td>\n",
       "      <td>Supermarket Type1</td>\n",
       "    </tr>\n",
       "    <tr>\n",
       "      <th>5680</th>\n",
       "      <td>FDU37</td>\n",
       "      <td>9.5</td>\n",
       "      <td>Regular</td>\n",
       "      <td>0.104720</td>\n",
       "      <td>Canned</td>\n",
       "      <td>79.7960</td>\n",
       "      <td>OUT045</td>\n",
       "      <td>2002</td>\n",
       "      <td>NaN</td>\n",
       "      <td>Tier 2</td>\n",
       "      <td>Supermarket Type1</td>\n",
       "    </tr>\n",
       "  </tbody>\n",
       "</table>\n",
       "</div>"
      ],
      "text/plain": [
       "     Item_Identifier  Item_Weight Item_Fat_Content  Item_Visibility  \\\n",
       "5676           FDB58         10.5          Regular         0.013496   \n",
       "5677           FDD47          7.6          Regular         0.142991   \n",
       "5678           NCO17         10.0          Low Fat         0.073529   \n",
       "5679           FDJ26         15.3          Regular         0.000000   \n",
       "5680           FDU37          9.5          Regular         0.104720   \n",
       "\n",
       "               Item_Type  Item_MRP Outlet_Identifier  \\\n",
       "5676         Snack Foods  141.3154            OUT046   \n",
       "5677       Starchy Foods  169.1448            OUT018   \n",
       "5678  Health and Hygiene  118.7440            OUT045   \n",
       "5679              Canned  214.6218            OUT017   \n",
       "5680              Canned   79.7960            OUT045   \n",
       "\n",
       "      Outlet_Establishment_Year Outlet_Size Outlet_Location_Type  \\\n",
       "5676                       1997       Small               Tier 1   \n",
       "5677                       2009      Medium               Tier 3   \n",
       "5678                       2002         NaN               Tier 2   \n",
       "5679                       2007         NaN               Tier 2   \n",
       "5680                       2002         NaN               Tier 2   \n",
       "\n",
       "            Outlet_Type  \n",
       "5676  Supermarket Type1  \n",
       "5677  Supermarket Type2  \n",
       "5678  Supermarket Type1  \n",
       "5679  Supermarket Type1  \n",
       "5680  Supermarket Type1  "
      ]
     },
     "execution_count": 7,
     "metadata": {},
     "output_type": "execute_result"
    }
   ],
   "source": [
    "test_data.tail()"
   ]
  },
  {
   "cell_type": "code",
   "execution_count": null,
   "id": "b888e6c3",
   "metadata": {},
   "outputs": [],
   "source": [
    "##To understand the no:of rows and columns in each DataFrame"
   ]
  },
  {
   "cell_type": "code",
   "execution_count": 9,
   "id": "236b61dc",
   "metadata": {},
   "outputs": [
    {
     "data": {
      "text/plain": [
       "(8523, 12)"
      ]
     },
     "execution_count": 9,
     "metadata": {},
     "output_type": "execute_result"
    }
   ],
   "source": [
    "train_data.shape"
   ]
  },
  {
   "cell_type": "code",
   "execution_count": 10,
   "id": "e93759e3",
   "metadata": {},
   "outputs": [
    {
     "data": {
      "text/plain": [
       "(5681, 11)"
      ]
     },
     "execution_count": 10,
     "metadata": {},
     "output_type": "execute_result"
    }
   ],
   "source": [
    "test_data.shape"
   ]
  },
  {
   "cell_type": "code",
   "execution_count": 11,
   "id": "7adfcadd",
   "metadata": {},
   "outputs": [],
   "source": [
    "##To identify the columns in each DataFrame"
   ]
  },
  {
   "cell_type": "code",
   "execution_count": 12,
   "id": "bc4c08a7",
   "metadata": {},
   "outputs": [
    {
     "data": {
      "text/plain": [
       "Index(['Item_Identifier', 'Item_Weight', 'Item_Fat_Content', 'Item_Visibility',\n",
       "       'Item_Type', 'Item_MRP', 'Outlet_Identifier',\n",
       "       'Outlet_Establishment_Year', 'Outlet_Size', 'Outlet_Location_Type',\n",
       "       'Outlet_Type', 'Item_Outlet_Sales'],\n",
       "      dtype='object')"
      ]
     },
     "execution_count": 12,
     "metadata": {},
     "output_type": "execute_result"
    }
   ],
   "source": [
    "train_data.columns"
   ]
  },
  {
   "cell_type": "code",
   "execution_count": 13,
   "id": "9623a3ca",
   "metadata": {},
   "outputs": [
    {
     "data": {
      "text/plain": [
       "Index(['Item_Identifier', 'Item_Weight', 'Item_Fat_Content', 'Item_Visibility',\n",
       "       'Item_Type', 'Item_MRP', 'Outlet_Identifier',\n",
       "       'Outlet_Establishment_Year', 'Outlet_Size', 'Outlet_Location_Type',\n",
       "       'Outlet_Type'],\n",
       "      dtype='object')"
      ]
     },
     "execution_count": 13,
     "metadata": {},
     "output_type": "execute_result"
    }
   ],
   "source": [
    "test_data.columns"
   ]
  },
  {
   "cell_type": "code",
   "execution_count": 14,
   "id": "743ca244",
   "metadata": {},
   "outputs": [],
   "source": [
    "##To get information about each column in the DataFrames"
   ]
  },
  {
   "cell_type": "code",
   "execution_count": 16,
   "id": "2f03f4dc",
   "metadata": {},
   "outputs": [
    {
     "name": "stdout",
     "output_type": "stream",
     "text": [
      "<class 'pandas.core.frame.DataFrame'>\n",
      "RangeIndex: 8523 entries, 0 to 8522\n",
      "Data columns (total 12 columns):\n",
      " #   Column                     Non-Null Count  Dtype  \n",
      "---  ------                     --------------  -----  \n",
      " 0   Item_Identifier            8523 non-null   object \n",
      " 1   Item_Weight                7060 non-null   float64\n",
      " 2   Item_Fat_Content           8523 non-null   object \n",
      " 3   Item_Visibility            8523 non-null   float64\n",
      " 4   Item_Type                  8523 non-null   object \n",
      " 5   Item_MRP                   8523 non-null   float64\n",
      " 6   Outlet_Identifier          8523 non-null   object \n",
      " 7   Outlet_Establishment_Year  8523 non-null   int64  \n",
      " 8   Outlet_Size                6113 non-null   object \n",
      " 9   Outlet_Location_Type       8523 non-null   object \n",
      " 10  Outlet_Type                8523 non-null   object \n",
      " 11  Item_Outlet_Sales          8523 non-null   float64\n",
      "dtypes: float64(4), int64(1), object(7)\n",
      "memory usage: 799.2+ KB\n"
     ]
    }
   ],
   "source": [
    "train_data.info()"
   ]
  },
  {
   "cell_type": "code",
   "execution_count": 17,
   "id": "97c529b1",
   "metadata": {},
   "outputs": [
    {
     "name": "stdout",
     "output_type": "stream",
     "text": [
      "<class 'pandas.core.frame.DataFrame'>\n",
      "RangeIndex: 5681 entries, 0 to 5680\n",
      "Data columns (total 11 columns):\n",
      " #   Column                     Non-Null Count  Dtype  \n",
      "---  ------                     --------------  -----  \n",
      " 0   Item_Identifier            5681 non-null   object \n",
      " 1   Item_Weight                4705 non-null   float64\n",
      " 2   Item_Fat_Content           5681 non-null   object \n",
      " 3   Item_Visibility            5681 non-null   float64\n",
      " 4   Item_Type                  5681 non-null   object \n",
      " 5   Item_MRP                   5681 non-null   float64\n",
      " 6   Outlet_Identifier          5681 non-null   object \n",
      " 7   Outlet_Establishment_Year  5681 non-null   int64  \n",
      " 8   Outlet_Size                4075 non-null   object \n",
      " 9   Outlet_Location_Type       5681 non-null   object \n",
      " 10  Outlet_Type                5681 non-null   object \n",
      "dtypes: float64(3), int64(1), object(7)\n",
      "memory usage: 488.3+ KB\n"
     ]
    }
   ],
   "source": [
    "test_data.info()"
   ]
  },
  {
   "cell_type": "code",
   "execution_count": 19,
   "id": "88478bc4",
   "metadata": {},
   "outputs": [],
   "source": [
    "##To identify the categorical fields in each column with datatype as object\n",
    "\n",
    "##why it is imporatant\n",
    "#All categorical fields are stored as object. So it gives the uniques characteristics of each object datatype item.\n",
    "\n",
    "##count: The number of non-missing values in each categorical column.\n",
    "##unique: The number of distinct or unique values in each categorical column.\n",
    "##top: The most frequently occurring value in each categorical column.\n",
    "##freq: The count or frequency of the most common value in each categorical column."
   ]
  },
  {
   "cell_type": "code",
   "execution_count": 18,
   "id": "cb23370d",
   "metadata": {},
   "outputs": [
    {
     "data": {
      "text/html": [
       "<div>\n",
       "<style scoped>\n",
       "    .dataframe tbody tr th:only-of-type {\n",
       "        vertical-align: middle;\n",
       "    }\n",
       "\n",
       "    .dataframe tbody tr th {\n",
       "        vertical-align: top;\n",
       "    }\n",
       "\n",
       "    .dataframe thead th {\n",
       "        text-align: right;\n",
       "    }\n",
       "</style>\n",
       "<table border=\"1\" class=\"dataframe\">\n",
       "  <thead>\n",
       "    <tr style=\"text-align: right;\">\n",
       "      <th></th>\n",
       "      <th>Item_Identifier</th>\n",
       "      <th>Item_Fat_Content</th>\n",
       "      <th>Item_Type</th>\n",
       "      <th>Outlet_Identifier</th>\n",
       "      <th>Outlet_Size</th>\n",
       "      <th>Outlet_Location_Type</th>\n",
       "      <th>Outlet_Type</th>\n",
       "    </tr>\n",
       "  </thead>\n",
       "  <tbody>\n",
       "    <tr>\n",
       "      <th>count</th>\n",
       "      <td>8523</td>\n",
       "      <td>8523</td>\n",
       "      <td>8523</td>\n",
       "      <td>8523</td>\n",
       "      <td>6113</td>\n",
       "      <td>8523</td>\n",
       "      <td>8523</td>\n",
       "    </tr>\n",
       "    <tr>\n",
       "      <th>unique</th>\n",
       "      <td>1559</td>\n",
       "      <td>5</td>\n",
       "      <td>16</td>\n",
       "      <td>10</td>\n",
       "      <td>3</td>\n",
       "      <td>3</td>\n",
       "      <td>4</td>\n",
       "    </tr>\n",
       "    <tr>\n",
       "      <th>top</th>\n",
       "      <td>FDW13</td>\n",
       "      <td>Low Fat</td>\n",
       "      <td>Fruits and Vegetables</td>\n",
       "      <td>OUT027</td>\n",
       "      <td>Medium</td>\n",
       "      <td>Tier 3</td>\n",
       "      <td>Supermarket Type1</td>\n",
       "    </tr>\n",
       "    <tr>\n",
       "      <th>freq</th>\n",
       "      <td>10</td>\n",
       "      <td>5089</td>\n",
       "      <td>1232</td>\n",
       "      <td>935</td>\n",
       "      <td>2793</td>\n",
       "      <td>3350</td>\n",
       "      <td>5577</td>\n",
       "    </tr>\n",
       "  </tbody>\n",
       "</table>\n",
       "</div>"
      ],
      "text/plain": [
       "       Item_Identifier Item_Fat_Content              Item_Type  \\\n",
       "count             8523             8523                   8523   \n",
       "unique            1559                5                     16   \n",
       "top              FDW13          Low Fat  Fruits and Vegetables   \n",
       "freq                10             5089                   1232   \n",
       "\n",
       "       Outlet_Identifier Outlet_Size Outlet_Location_Type        Outlet_Type  \n",
       "count               8523        6113                 8523               8523  \n",
       "unique                10           3                    3                  4  \n",
       "top               OUT027      Medium               Tier 3  Supermarket Type1  \n",
       "freq                 935        2793                 3350               5577  "
      ]
     },
     "execution_count": 18,
     "metadata": {},
     "output_type": "execute_result"
    }
   ],
   "source": [
    "train_data.describe(include = 'object')"
   ]
  },
  {
   "cell_type": "code",
   "execution_count": 20,
   "id": "1df177b1",
   "metadata": {},
   "outputs": [
    {
     "data": {
      "text/html": [
       "<div>\n",
       "<style scoped>\n",
       "    .dataframe tbody tr th:only-of-type {\n",
       "        vertical-align: middle;\n",
       "    }\n",
       "\n",
       "    .dataframe tbody tr th {\n",
       "        vertical-align: top;\n",
       "    }\n",
       "\n",
       "    .dataframe thead th {\n",
       "        text-align: right;\n",
       "    }\n",
       "</style>\n",
       "<table border=\"1\" class=\"dataframe\">\n",
       "  <thead>\n",
       "    <tr style=\"text-align: right;\">\n",
       "      <th></th>\n",
       "      <th>Item_Identifier</th>\n",
       "      <th>Item_Fat_Content</th>\n",
       "      <th>Item_Type</th>\n",
       "      <th>Outlet_Identifier</th>\n",
       "      <th>Outlet_Size</th>\n",
       "      <th>Outlet_Location_Type</th>\n",
       "      <th>Outlet_Type</th>\n",
       "    </tr>\n",
       "  </thead>\n",
       "  <tbody>\n",
       "    <tr>\n",
       "      <th>count</th>\n",
       "      <td>5681</td>\n",
       "      <td>5681</td>\n",
       "      <td>5681</td>\n",
       "      <td>5681</td>\n",
       "      <td>4075</td>\n",
       "      <td>5681</td>\n",
       "      <td>5681</td>\n",
       "    </tr>\n",
       "    <tr>\n",
       "      <th>unique</th>\n",
       "      <td>1543</td>\n",
       "      <td>5</td>\n",
       "      <td>16</td>\n",
       "      <td>10</td>\n",
       "      <td>3</td>\n",
       "      <td>3</td>\n",
       "      <td>4</td>\n",
       "    </tr>\n",
       "    <tr>\n",
       "      <th>top</th>\n",
       "      <td>DRF48</td>\n",
       "      <td>Low Fat</td>\n",
       "      <td>Snack Foods</td>\n",
       "      <td>OUT027</td>\n",
       "      <td>Medium</td>\n",
       "      <td>Tier 3</td>\n",
       "      <td>Supermarket Type1</td>\n",
       "    </tr>\n",
       "    <tr>\n",
       "      <th>freq</th>\n",
       "      <td>8</td>\n",
       "      <td>3396</td>\n",
       "      <td>789</td>\n",
       "      <td>624</td>\n",
       "      <td>1862</td>\n",
       "      <td>2233</td>\n",
       "      <td>3717</td>\n",
       "    </tr>\n",
       "  </tbody>\n",
       "</table>\n",
       "</div>"
      ],
      "text/plain": [
       "       Item_Identifier Item_Fat_Content    Item_Type Outlet_Identifier  \\\n",
       "count             5681             5681         5681              5681   \n",
       "unique            1543                5           16                10   \n",
       "top              DRF48          Low Fat  Snack Foods            OUT027   \n",
       "freq                 8             3396          789               624   \n",
       "\n",
       "       Outlet_Size Outlet_Location_Type        Outlet_Type  \n",
       "count         4075                 5681               5681  \n",
       "unique           3                    3                  4  \n",
       "top         Medium               Tier 3  Supermarket Type1  \n",
       "freq          1862                 2233               3717  "
      ]
     },
     "execution_count": 20,
     "metadata": {},
     "output_type": "execute_result"
    }
   ],
   "source": [
    "test_data.describe(include = 'object')"
   ]
  },
  {
   "cell_type": "code",
   "execution_count": null,
   "id": "377359d2",
   "metadata": {},
   "outputs": [],
   "source": [
    "##To get the unique categorical item in each object datatype field we use below"
   ]
  },
  {
   "cell_type": "code",
   "execution_count": 21,
   "id": "1c569402",
   "metadata": {},
   "outputs": [
    {
     "name": "stdout",
     "output_type": "stream",
     "text": [
      "Item_Identifier\n",
      "['FDA15' 'DRC01' 'FDN15' ... 'NCF55' 'NCW30' 'NCW05']\n",
      "----------------------------------------------------------------------------------------------------\n",
      "Item_Fat_Content\n",
      "['Low Fat' 'Regular' 'low fat' 'LF' 'reg']\n",
      "----------------------------------------------------------------------------------------------------\n",
      "Item_Type\n",
      "['Dairy' 'Soft Drinks' 'Meat' 'Fruits and Vegetables' 'Household'\n",
      " 'Baking Goods' 'Snack Foods' 'Frozen Foods' 'Breakfast'\n",
      " 'Health and Hygiene' 'Hard Drinks' 'Canned' 'Breads' 'Starchy Foods'\n",
      " 'Others' 'Seafood']\n",
      "----------------------------------------------------------------------------------------------------\n",
      "Outlet_Identifier\n",
      "['OUT049' 'OUT018' 'OUT010' 'OUT013' 'OUT027' 'OUT045' 'OUT017' 'OUT046'\n",
      " 'OUT035' 'OUT019']\n",
      "----------------------------------------------------------------------------------------------------\n",
      "Outlet_Size\n",
      "['Medium' nan 'High' 'Small']\n",
      "----------------------------------------------------------------------------------------------------\n",
      "Outlet_Location_Type\n",
      "['Tier 1' 'Tier 3' 'Tier 2']\n",
      "----------------------------------------------------------------------------------------------------\n",
      "Outlet_Type\n",
      "['Supermarket Type1' 'Supermarket Type2' 'Grocery Store'\n",
      " 'Supermarket Type3']\n",
      "----------------------------------------------------------------------------------------------------\n"
     ]
    }
   ],
   "source": [
    "for col in train_data.describe(include = 'object').columns:\n",
    "    print(col)\n",
    "    print(train_data[col].unique())\n",
    "    print('-'*100)"
   ]
  },
  {
   "cell_type": "code",
   "execution_count": 23,
   "id": "56875557",
   "metadata": {},
   "outputs": [],
   "source": [
    "##Categorical column Outlet_size has 2410 missing or Nan values due to technical gliches. \n",
    "##We cannot drop this column/drop the Nan rowsn because when compared with the total values of 8523. \n",
    "##The no: of missing values of 2410 is not a small number so we annot neglect the same.\n",
    "##Hence we can do data imputation:Instead of dropping the rows, we impute/add the missing values with reasonable estimates. \n",
    "##Process\n",
    "##Imputation involves filling in the missing values with values derived from the available data. \n",
    "##For example, we could use statistical measures like the mean, median, or mode of the non-missing Outlet_Size values to impute the missing values.\n",
    "##Mode is the most frequent measure used to impute values for a categorical column"
   ]
  },
  {
   "cell_type": "code",
   "execution_count": 24,
   "id": "e83c29ea",
   "metadata": {},
   "outputs": [],
   "source": [
    "#To calculate the mode of Outlet_Size"
   ]
  },
  {
   "cell_type": "code",
   "execution_count": 26,
   "id": "b4e60df2",
   "metadata": {},
   "outputs": [],
   "source": [
    "mode_value = train_data['Outlet_Size'].mode()[0]"
   ]
  },
  {
   "cell_type": "code",
   "execution_count": 27,
   "id": "2472ac88",
   "metadata": {},
   "outputs": [],
   "source": [
    "##We calculate the mode of Outlet_size column using the mode function and obtain the first index(0) position\n",
    "##from the list of mode values returned"
   ]
  },
  {
   "cell_type": "code",
   "execution_count": 28,
   "id": "91e1462f",
   "metadata": {},
   "outputs": [],
   "source": [
    "##To fill the missing values with the mode"
   ]
  },
  {
   "cell_type": "code",
   "execution_count": 29,
   "id": "7cc3d4f5",
   "metadata": {},
   "outputs": [],
   "source": [
    "train_data['Outlet_Size'].fillna(mode_value, inplace=True)"
   ]
  },
  {
   "cell_type": "code",
   "execution_count": 30,
   "id": "ec99fe1b",
   "metadata": {},
   "outputs": [
    {
     "name": "stdout",
     "output_type": "stream",
     "text": [
      "Item_Identifier\n",
      "['FDA15' 'DRC01' 'FDN15' ... 'NCF55' 'NCW30' 'NCW05']\n",
      "----------------------------------------------------------------------------------------------------\n",
      "Item_Fat_Content\n",
      "['Low Fat' 'Regular' 'low fat' 'LF' 'reg']\n",
      "----------------------------------------------------------------------------------------------------\n",
      "Item_Type\n",
      "['Dairy' 'Soft Drinks' 'Meat' 'Fruits and Vegetables' 'Household'\n",
      " 'Baking Goods' 'Snack Foods' 'Frozen Foods' 'Breakfast'\n",
      " 'Health and Hygiene' 'Hard Drinks' 'Canned' 'Breads' 'Starchy Foods'\n",
      " 'Others' 'Seafood']\n",
      "----------------------------------------------------------------------------------------------------\n",
      "Outlet_Identifier\n",
      "['OUT049' 'OUT018' 'OUT010' 'OUT013' 'OUT027' 'OUT045' 'OUT017' 'OUT046'\n",
      " 'OUT035' 'OUT019']\n",
      "----------------------------------------------------------------------------------------------------\n",
      "Outlet_Size\n",
      "['Medium' 'High' 'Small']\n",
      "----------------------------------------------------------------------------------------------------\n",
      "Outlet_Location_Type\n",
      "['Tier 1' 'Tier 3' 'Tier 2']\n",
      "----------------------------------------------------------------------------------------------------\n",
      "Outlet_Type\n",
      "['Supermarket Type1' 'Supermarket Type2' 'Grocery Store'\n",
      " 'Supermarket Type3']\n",
      "----------------------------------------------------------------------------------------------------\n"
     ]
    }
   ],
   "source": [
    "for col in train_data.describe(include = 'object').columns:\n",
    "    print(col)\n",
    "    print(train_data[col].unique())\n",
    "    print('-'*100)"
   ]
  },
  {
   "cell_type": "code",
   "execution_count": null,
   "id": "82aff0b4",
   "metadata": {},
   "outputs": [],
   "source": [
    "##We note that the column 'Item_Fat_Content' has duplicates. So I created a dictionary with the names to standarize"
   ]
  },
  {
   "cell_type": "code",
   "execution_count": 32,
   "id": "ecd6bf12",
   "metadata": {},
   "outputs": [],
   "source": [
    "replacement_dict = {\n",
    "    'low fat': 'Low Fat',\n",
    "    'LF': 'Low Fat',\n",
    "    'reg': 'Regular'\n",
    "}"
   ]
  },
  {
   "cell_type": "code",
   "execution_count": 33,
   "id": "38311202",
   "metadata": {},
   "outputs": [],
   "source": [
    "train_data['Item_Fat_Content'] = train_data['Item_Fat_Content'].replace(replacement_dict)"
   ]
  },
  {
   "cell_type": "code",
   "execution_count": 34,
   "id": "d14bdef4",
   "metadata": {},
   "outputs": [
    {
     "name": "stdout",
     "output_type": "stream",
     "text": [
      "Item_Identifier\n",
      "['FDA15' 'DRC01' 'FDN15' ... 'NCF55' 'NCW30' 'NCW05']\n",
      "----------------------------------------------------------------------------------------------------\n",
      "Item_Fat_Content\n",
      "['Low Fat' 'Regular']\n",
      "----------------------------------------------------------------------------------------------------\n",
      "Item_Type\n",
      "['Dairy' 'Soft Drinks' 'Meat' 'Fruits and Vegetables' 'Household'\n",
      " 'Baking Goods' 'Snack Foods' 'Frozen Foods' 'Breakfast'\n",
      " 'Health and Hygiene' 'Hard Drinks' 'Canned' 'Breads' 'Starchy Foods'\n",
      " 'Others' 'Seafood']\n",
      "----------------------------------------------------------------------------------------------------\n",
      "Outlet_Identifier\n",
      "['OUT049' 'OUT018' 'OUT010' 'OUT013' 'OUT027' 'OUT045' 'OUT017' 'OUT046'\n",
      " 'OUT035' 'OUT019']\n",
      "----------------------------------------------------------------------------------------------------\n",
      "Outlet_Size\n",
      "['Medium' 'High' 'Small']\n",
      "----------------------------------------------------------------------------------------------------\n",
      "Outlet_Location_Type\n",
      "['Tier 1' 'Tier 3' 'Tier 2']\n",
      "----------------------------------------------------------------------------------------------------\n",
      "Outlet_Type\n",
      "['Supermarket Type1' 'Supermarket Type2' 'Grocery Store'\n",
      " 'Supermarket Type3']\n",
      "----------------------------------------------------------------------------------------------------\n"
     ]
    }
   ],
   "source": [
    "for col in train_data.describe(include = 'object').columns:\n",
    "    print(col)\n",
    "    print(train_data[col].unique())\n",
    "    print('-'*100)"
   ]
  },
  {
   "cell_type": "code",
   "execution_count": 35,
   "id": "34440ad9",
   "metadata": {},
   "outputs": [],
   "source": [
    "##Similarly we are going to perform for test_data as well"
   ]
  },
  {
   "cell_type": "code",
   "execution_count": 36,
   "id": "c638b8fd",
   "metadata": {},
   "outputs": [],
   "source": [
    "##To get the unique categorical item in each object datatype field we use below"
   ]
  },
  {
   "cell_type": "code",
   "execution_count": 38,
   "id": "60b1ed78",
   "metadata": {},
   "outputs": [
    {
     "name": "stdout",
     "output_type": "stream",
     "text": [
      "Item_Identifier\n",
      "['FDA15' 'DRC01' 'FDN15' ... 'NCF55' 'NCW30' 'NCW05']\n",
      "----------------------------------------------------------------------------------------------------\n",
      "Item_Fat_Content\n",
      "['Low Fat' 'Regular']\n",
      "----------------------------------------------------------------------------------------------------\n",
      "Item_Type\n",
      "['Dairy' 'Soft Drinks' 'Meat' 'Fruits and Vegetables' 'Household'\n",
      " 'Baking Goods' 'Snack Foods' 'Frozen Foods' 'Breakfast'\n",
      " 'Health and Hygiene' 'Hard Drinks' 'Canned' 'Breads' 'Starchy Foods'\n",
      " 'Others' 'Seafood']\n",
      "----------------------------------------------------------------------------------------------------\n",
      "Outlet_Identifier\n",
      "['OUT049' 'OUT018' 'OUT010' 'OUT013' 'OUT027' 'OUT045' 'OUT017' 'OUT046'\n",
      " 'OUT035' 'OUT019']\n",
      "----------------------------------------------------------------------------------------------------\n",
      "Outlet_Size\n",
      "['Medium' 'High' 'Small']\n",
      "----------------------------------------------------------------------------------------------------\n",
      "Outlet_Location_Type\n",
      "['Tier 1' 'Tier 3' 'Tier 2']\n",
      "----------------------------------------------------------------------------------------------------\n",
      "Outlet_Type\n",
      "['Supermarket Type1' 'Supermarket Type2' 'Grocery Store'\n",
      " 'Supermarket Type3']\n",
      "----------------------------------------------------------------------------------------------------\n"
     ]
    }
   ],
   "source": [
    "for col in test_data.describe(include = 'object').columns:\n",
    "    print(col)\n",
    "    print(train_data[col].unique())\n",
    "    print('-'*100)"
   ]
  },
  {
   "cell_type": "code",
   "execution_count": null,
   "id": "e9de0190",
   "metadata": {},
   "outputs": [],
   "source": [
    "##Next, I explore the columns with null value and remove the same from the dataframe if it is not imporatant for analysis"
   ]
  },
  {
   "cell_type": "code",
   "execution_count": 40,
   "id": "05e1fbc9",
   "metadata": {},
   "outputs": [
    {
     "data": {
      "text/plain": [
       "Item_Identifier                 0\n",
       "Item_Weight                  1463\n",
       "Item_Fat_Content                0\n",
       "Item_Visibility                 0\n",
       "Item_Type                       0\n",
       "Item_MRP                        0\n",
       "Outlet_Identifier               0\n",
       "Outlet_Establishment_Year       0\n",
       "Outlet_Size                     0\n",
       "Outlet_Location_Type            0\n",
       "Outlet_Type                     0\n",
       "Item_Outlet_Sales               0\n",
       "dtype: int64"
      ]
     },
     "execution_count": 40,
     "metadata": {},
     "output_type": "execute_result"
    }
   ],
   "source": [
    "train_data.isnull().sum()"
   ]
  },
  {
   "cell_type": "code",
   "execution_count": 41,
   "id": "128a2ade",
   "metadata": {},
   "outputs": [],
   "source": [
    "train_data.drop(['Item_Weight'], axis =1, inplace = True)\n",
    "train_data.dropna(inplace = True)"
   ]
  },
  {
   "cell_type": "code",
   "execution_count": 42,
   "id": "0ce34463",
   "metadata": {},
   "outputs": [
    {
     "data": {
      "text/plain": [
       "Item_Identifier              0\n",
       "Item_Fat_Content             0\n",
       "Item_Visibility              0\n",
       "Item_Type                    0\n",
       "Item_MRP                     0\n",
       "Outlet_Identifier            0\n",
       "Outlet_Establishment_Year    0\n",
       "Outlet_Size                  0\n",
       "Outlet_Location_Type         0\n",
       "Outlet_Type                  0\n",
       "Item_Outlet_Sales            0\n",
       "dtype: int64"
      ]
     },
     "execution_count": 42,
     "metadata": {},
     "output_type": "execute_result"
    }
   ],
   "source": [
    "train_data.isnull().sum()"
   ]
  },
  {
   "cell_type": "code",
   "execution_count": null,
   "id": "99246145",
   "metadata": {},
   "outputs": [],
   "source": [
    "##To identify the sum of sales for each product across all stores"
   ]
  },
  {
   "cell_type": "code",
   "execution_count": 43,
   "id": "2346179f",
   "metadata": {},
   "outputs": [],
   "source": [
    "product_store_sales = train_data.groupby(['Item_Identifier', 'Outlet_Identifier'])['Item_Outlet_Sales'].sum()"
   ]
  },
  {
   "cell_type": "code",
   "execution_count": 60,
   "id": "0b9fc5ee",
   "metadata": {},
   "outputs": [
    {
     "name": "stdout",
     "output_type": "stream",
     "text": [
      "Item_Identifier  Outlet_Identifier\n",
      "DRA12            OUT010                283.6308\n",
      "                 OUT013               2552.6772\n",
      "                 OUT017               2552.6772\n",
      "                 OUT018                850.8924\n",
      "                 OUT035                992.7078\n",
      "                                        ...    \n",
      "NCZ54            OUT019                162.4552\n",
      "                 OUT027               5523.4768\n",
      "                 OUT045               2274.3728\n",
      "                 OUT046               4711.2008\n",
      "                 OUT049               7148.0288\n",
      "Name: Item_Outlet_Sales, Length: 8523, dtype: float64\n"
     ]
    }
   ],
   "source": [
    "print(product_store_sales)"
   ]
  },
  {
   "cell_type": "code",
   "execution_count": 64,
   "id": "da050074",
   "metadata": {},
   "outputs": [
    {
     "data": {
      "image/png": "[encoded data removed]",
      "text/plain": [
       "<Figure size 640x480 with 1 Axes>"
      ]
     },
     "metadata": {},
     "output_type": "display_data"
    }
   ],
   "source": [
    "plt.scatter(train_data.Outlet_Identifier,train_data.Item_Outlet_Sales)\n",
    "plt.show()"
   ]
  },
  {
   "cell_type": "code",
   "execution_count": null,
   "id": "aeb15028",
   "metadata": {},
   "outputs": [],
   "source": [
    "##To identify the outliers"
   ]
  },
  {
   "cell_type": "code",
   "execution_count": 46,
   "id": "e224d2f9",
   "metadata": {},
   "outputs": [
    {
     "data": {
      "text/html": [
       "<div>\n",
       "<style scoped>\n",
       "    .dataframe tbody tr th:only-of-type {\n",
       "        vertical-align: middle;\n",
       "    }\n",
       "\n",
       "    .dataframe tbody tr th {\n",
       "        vertical-align: top;\n",
       "    }\n",
       "\n",
       "    .dataframe thead th {\n",
       "        text-align: right;\n",
       "    }\n",
       "</style>\n",
       "<table border=\"1\" class=\"dataframe\">\n",
       "  <thead>\n",
       "    <tr style=\"text-align: right;\">\n",
       "      <th></th>\n",
       "      <th>Item_Visibility</th>\n",
       "      <th>Item_MRP</th>\n",
       "      <th>Outlet_Establishment_Year</th>\n",
       "      <th>Item_Outlet_Sales</th>\n",
       "    </tr>\n",
       "  </thead>\n",
       "  <tbody>\n",
       "    <tr>\n",
       "      <th>count</th>\n",
       "      <td>8523.000000</td>\n",
       "      <td>8523.000000</td>\n",
       "      <td>8523.000000</td>\n",
       "      <td>8523.000000</td>\n",
       "    </tr>\n",
       "    <tr>\n",
       "      <th>mean</th>\n",
       "      <td>0.066132</td>\n",
       "      <td>140.992782</td>\n",
       "      <td>1997.831867</td>\n",
       "      <td>2181.288914</td>\n",
       "    </tr>\n",
       "    <tr>\n",
       "      <th>std</th>\n",
       "      <td>0.051598</td>\n",
       "      <td>62.275067</td>\n",
       "      <td>8.371760</td>\n",
       "      <td>1706.499616</td>\n",
       "    </tr>\n",
       "    <tr>\n",
       "      <th>min</th>\n",
       "      <td>0.000000</td>\n",
       "      <td>31.290000</td>\n",
       "      <td>1985.000000</td>\n",
       "      <td>33.290000</td>\n",
       "    </tr>\n",
       "    <tr>\n",
       "      <th>25%</th>\n",
       "      <td>0.026989</td>\n",
       "      <td>93.826500</td>\n",
       "      <td>1987.000000</td>\n",
       "      <td>834.247400</td>\n",
       "    </tr>\n",
       "    <tr>\n",
       "      <th>50%</th>\n",
       "      <td>0.053931</td>\n",
       "      <td>143.012800</td>\n",
       "      <td>1999.000000</td>\n",
       "      <td>1794.331000</td>\n",
       "    </tr>\n",
       "    <tr>\n",
       "      <th>75%</th>\n",
       "      <td>0.094585</td>\n",
       "      <td>185.643700</td>\n",
       "      <td>2004.000000</td>\n",
       "      <td>3101.296400</td>\n",
       "    </tr>\n",
       "    <tr>\n",
       "      <th>max</th>\n",
       "      <td>0.328391</td>\n",
       "      <td>266.888400</td>\n",
       "      <td>2009.000000</td>\n",
       "      <td>13086.964800</td>\n",
       "    </tr>\n",
       "  </tbody>\n",
       "</table>\n",
       "</div>"
      ],
      "text/plain": [
       "       Item_Visibility     Item_MRP  Outlet_Establishment_Year  \\\n",
       "count      8523.000000  8523.000000                8523.000000   \n",
       "mean          0.066132   140.992782                1997.831867   \n",
       "std           0.051598    62.275067                   8.371760   \n",
       "min           0.000000    31.290000                1985.000000   \n",
       "25%           0.026989    93.826500                1987.000000   \n",
       "50%           0.053931   143.012800                1999.000000   \n",
       "75%           0.094585   185.643700                2004.000000   \n",
       "max           0.328391   266.888400                2009.000000   \n",
       "\n",
       "       Item_Outlet_Sales  \n",
       "count        8523.000000  \n",
       "mean         2181.288914  \n",
       "std          1706.499616  \n",
       "min            33.290000  \n",
       "25%           834.247400  \n",
       "50%          1794.331000  \n",
       "75%          3101.296400  \n",
       "max         13086.964800  "
      ]
     },
     "execution_count": 46,
     "metadata": {},
     "output_type": "execute_result"
    }
   ],
   "source": [
    "train_data.describe()"
   ]
  },
  {
   "cell_type": "code",
   "execution_count": 47,
   "id": "acae4a6f",
   "metadata": {},
   "outputs": [
    {
     "data": {
      "text/plain": [
       "<Axes: >"
      ]
     },
     "execution_count": 47,
     "metadata": {},
     "output_type": "execute_result"
    },
    {
     "data": {
      "image/png": "[encoded data removed]",
      "text/plain": [
       "<Figure size 640x480 with 1 Axes>"
      ]
     },
     "metadata": {},
     "output_type": "display_data"
    }
   ],
   "source": [
    "train_data['Item_Outlet_Sales'].plot(kind = 'box')"
   ]
  },
  {
   "cell_type": "code",
   "execution_count": null,
   "id": "0446cab1",
   "metadata": {},
   "outputs": [],
   "source": [
    "##Bivariate Feature Analysis"
   ]
  },
  {
   "cell_type": "code",
   "execution_count": 68,
   "id": "ce7d1263",
   "metadata": {},
   "outputs": [
    {
     "data": {
      "image/png": "[encoded data removed]",
      "text/plain": [
       "<Figure size 640x480 with 1 Axes>"
      ]
     },
     "metadata": {},
     "output_type": "display_data"
    }
   ],
   "source": [
    "# Group the data by Outlet Size and calculate the mean sales\n",
    "sales_by_size = train_data.groupby('Outlet_Size')['Item_Outlet_Sales'].mean()\n",
    "\n",
    "# Bar plot\n",
    "sales_by_size.plot(kind='bar')\n",
    "plt.xlabel('Outlet Size')\n",
    "plt.ylabel('Mean Item Outlet Sales')\n",
    "plt.title('Bar Plot: Outlet Size vs. Mean Item Outlet Sales')\n",
    "plt.show()"
   ]
  },
  {
   "cell_type": "code",
   "execution_count": 69,
   "id": "22cf285a",
   "metadata": {},
   "outputs": [
    {
     "data": {
      "image/png": "[encoded data removed]",
      "text/plain": [
       "<Figure size 640x480 with 1 Axes>"
      ]
     },
     "metadata": {},
     "output_type": "display_data"
    }
   ],
   "source": [
    "# Group the data by Outlet Location Type and calculate the mean outlet sales\n",
    "sales_by_size = train_data.groupby('Outlet_Location_Type')['Item_Outlet_Sales'].mean()\n",
    "\n",
    "# Bar plot\n",
    "sales_by_size.plot(kind='bar')\n",
    "plt.xlabel('Location Type')\n",
    "plt.ylabel('Mean Item Outlet Sales')\n",
    "plt.title('Bar Plot: Location Type vs. Mean Item Outlet Sales')\n",
    "plt.show()"
   ]
  },
  {
   "cell_type": "code",
   "execution_count": 71,
   "id": "d1e8ac6e",
   "metadata": {},
   "outputs": [
    {
     "data": {
      "image/png": "[encoded data removed]",
      "text/plain": [
       "<Figure size 1000x600 with 1 Axes>"
      ]
     },
     "metadata": {},
     "output_type": "display_data"
    }
   ],
   "source": [
    "# Filter the data for Tier 2 locations\n",
    "tier2_data = train_data[train_data['Outlet_Location_Type'] == 'Tier 2']\n",
    "\n",
    "# Group the data by product and calculate the total sales\n",
    "product_sales = tier2_data.groupby('Item_Identifier')['Item_Outlet_Sales'].sum().reset_index()\n",
    "\n",
    "# Sort the products by sales in descending order\n",
    "sorted_products = product_sales.sort_values(by='Item_Outlet_Sales', ascending=False)\n",
    "\n",
    "# Plot the top N products contributing to sales\n",
    "N = 10  # Number of top products to plot\n",
    "top_products = sorted_products.head(N)\n",
    "\n",
    "plt.figure(figsize=(10, 6))\n",
    "plt.bar(top_products['Item_Identifier'], top_products['Item_Outlet_Sales'])\n",
    "plt.xlabel('Product Identifier')\n",
    "plt.ylabel('Total Sales')\n",
    "plt.title('Top {} Products Contributing to Sales in Tier 2'.format(N))\n",
    "plt.xticks(rotation=90)\n",
    "\n",
    "# Add annotations to the bars\n",
    "for i, value in enumerate(top_products['Item_Outlet_Sales']):\n",
    "    plt.text(i, value, str(round(value, 2)), ha='center', va='bottom')\n",
    "\n",
    "plt.show()"
   ]
  },
  {
   "cell_type": "code",
   "execution_count": 73,
   "id": "94d22a32",
   "metadata": {},
   "outputs": [
    {
     "data": {
      "image/png": "[encoded data removed]",
      "text/plain": [
       "<Figure size 1000x600 with 1 Axes>"
      ]
     },
     "metadata": {},
     "output_type": "display_data"
    }
   ],
   "source": [
    "# Filter the data for Tier 2 locations\n",
    "tier2_data = train_data[train_data['Outlet_Location_Type'] == 'Tier 1']\n",
    "\n",
    "# Group the data by product and calculate the total sales\n",
    "product_sales = tier2_data.groupby('Item_Identifier')['Item_Outlet_Sales'].sum().reset_index()\n",
    "\n",
    "# Sort the products by sales in descending order\n",
    "sorted_products = product_sales.sort_values(by='Item_Outlet_Sales', ascending=False)\n",
    "\n",
    "# Plot the top N products contributing to sales\n",
    "N = 10  # Number of top products to plot\n",
    "top_products = sorted_products.head(N)\n",
    "\n",
    "plt.figure(figsize=(10, 6))\n",
    "plt.bar(top_products['Item_Identifier'], top_products['Item_Outlet_Sales'])\n",
    "plt.xlabel('Product Identifier')\n",
    "plt.ylabel('Total Sales')\n",
    "plt.title('Top {} Products Contributing to Sales in Tier 1'.format(N))\n",
    "plt.xticks(rotation=90)\n",
    "\n",
    "# Add annotations to the bars\n",
    "for i, value in enumerate(top_products['Item_Outlet_Sales']):\n",
    "    plt.text(i, value, str(round(value, 2)), ha='center', va='bottom')\n",
    "\n",
    "plt.show()"
   ]
  },
  {
   "cell_type": "code",
   "execution_count": 74,
   "id": "6ffa0c96",
   "metadata": {},
   "outputs": [
    {
     "data": {
      "image/png": "[encoded data removed]",
      "text/plain": [
       "<Figure size 1000x600 with 1 Axes>"
      ]
     },
     "metadata": {},
     "output_type": "display_data"
    }
   ],
   "source": [
    "# Filter the data for Tier 2 locations\n",
    "tier2_data = train_data[train_data['Outlet_Location_Type'] == 'Tier 3']\n",
    "\n",
    "# Group the data by product and calculate the total sales\n",
    "product_sales = tier2_data.groupby('Item_Identifier')['Item_Outlet_Sales'].sum().reset_index()\n",
    "\n",
    "# Sort the products by sales in descending order\n",
    "sorted_products = product_sales.sort_values(by='Item_Outlet_Sales', ascending=False)\n",
    "\n",
    "# Plot the top N products contributing to sales\n",
    "N = 10  # Number of top products to plot\n",
    "top_products = sorted_products.head(N)\n",
    "\n",
    "plt.figure(figsize=(10, 6))\n",
    "plt.bar(top_products['Item_Identifier'], top_products['Item_Outlet_Sales'])\n",
    "plt.xlabel('Product Identifier')\n",
    "plt.ylabel('Total Sales')\n",
    "plt.title('Top {} Products Contributing to Sales in Tier 3'.format(N))\n",
    "plt.xticks(rotation=90)\n",
    "\n",
    "# Add annotations to the bars\n",
    "for i, value in enumerate(top_products['Item_Outlet_Sales']):\n",
    "    plt.text(i, value, str(round(value, 2)), ha='center', va='bottom')\n",
    "\n",
    "plt.show()"
   ]
  },
  {
   "cell_type": "code",
   "execution_count": 75,
   "id": "d674c778",
   "metadata": {},
   "outputs": [
    {
     "name": "stdout",
     "output_type": "stream",
     "text": [
      "Outlet_Identifier    OUT010    OUT013    OUT017    OUT018    OUT019   OUT027  \\\n",
      "Item_Identifier                                                                \n",
      "DRA12              143.0154       NaN       NaN  142.0154       NaN      NaN   \n",
      "DRA24              163.8868       NaN       NaN       NaN  163.2868      NaN   \n",
      "DRA59              183.9924  185.9924       NaN       NaN  186.2924      NaN   \n",
      "DRB01                   NaN       NaN       NaN       NaN       NaN  190.053   \n",
      "DRB13              189.0530       NaN       NaN       NaN       NaN      NaN   \n",
      "...                     ...       ...       ...       ...       ...      ...   \n",
      "NCZ30              121.4098  121.5098  119.1098       NaN       NaN      NaN   \n",
      "NCZ41                   NaN  126.1704       NaN       NaN       NaN      NaN   \n",
      "NCZ42              238.3248       NaN       NaN       NaN       NaN      NaN   \n",
      "NCZ53              188.7214       NaN       NaN       NaN       NaN      NaN   \n",
      "NCZ54              161.5552       NaN       NaN       NaN  160.9552      NaN   \n",
      "\n",
      "Outlet_Identifier    OUT035  OUT045  OUT046    OUT049  \n",
      "Item_Identifier                                        \n",
      "DRA12              141.9154     NaN     NaN       NaN  \n",
      "DRA24                   NaN     NaN     NaN  165.0868  \n",
      "DRA59                   NaN     NaN     NaN       NaN  \n",
      "DRB01                   NaN     NaN     NaN       NaN  \n",
      "DRB13              190.3530     NaN     NaN       NaN  \n",
      "...                     ...     ...     ...       ...  \n",
      "NCZ30                   NaN     NaN     NaN       NaN  \n",
      "NCZ41                   NaN     NaN     NaN       NaN  \n",
      "NCZ42                   NaN     NaN     NaN       NaN  \n",
      "NCZ53                   NaN     NaN     NaN       NaN  \n",
      "NCZ54                   NaN     NaN     NaN       NaN  \n",
      "\n",
      "[1209 rows x 10 columns]\n"
     ]
    }
   ],
   "source": [
    "# Group the data by product and outlet and calculate the average price\n",
    "product_price_comparison = train_data.groupby(['Item_Identifier', 'Outlet_Identifier'])['Item_MRP'].mean()\n",
    "\n",
    "# Reset the index to get a DataFrame with the product and outlet identifiers as columns\n",
    "product_price_comparison = product_price_comparison.reset_index()\n",
    "\n",
    "# Pivot the DataFrame to have outlets as columns and products as rows\n",
    "price_comparison_pivot = product_price_comparison.pivot(index='Item_Identifier', columns='Outlet_Identifier', values='Item_MRP')\n",
    "\n",
    "# Display the price comparison\n",
    "print(price_comparison_pivot)"
   ]
  },
  {
   "cell_type": "code",
   "execution_count": 76,
   "id": "17bb7a51",
   "metadata": {},
   "outputs": [
    {
     "data": {
      "image/png": "[encoded data removed]",
      "text/plain": [
       "<Figure size 1200x600 with 1 Axes>"
      ]
     },
     "metadata": {},
     "output_type": "display_data"
    }
   ],
   "source": [
    "# Group the data by product and outlet and extract the prices\n",
    "product_prices = train_data.groupby(['Item_Identifier', 'Outlet_Identifier'])['Item_MRP'].mean()\n",
    "\n",
    "# Reset the index to get a DataFrame with the product and outlet identifiers as columns\n",
    "product_prices = product_prices.reset_index()\n",
    "\n",
    "# Create a box plot to visualize the price distribution across outlets\n",
    "plt.figure(figsize=(12, 6))\n",
    "sns.boxplot(data=product_prices, x='Outlet_Identifier', y='Item_MRP')\n",
    "plt.title('Price Distribution Across Outlets')\n",
    "plt.xlabel('Outlet Identifier')\n",
    "plt.ylabel('Item Price')\n",
    "plt.xticks(rotation=45)\n",
    "plt.show()"
   ]
  },
  {
   "cell_type": "code",
   "execution_count": 80,
   "id": "4d6c2e9b",
   "metadata": {},
   "outputs": [
    {
     "name": "stdout",
     "output_type": "stream",
     "text": [
      "                   Item_Outlet_Sales      Item_Type\n",
      "Outlet_Identifier                                  \n",
      "OUT010                     1094.5752  Starchy Foods\n",
      "OUT013                     1099.2358  Starchy Foods\n",
      "OUT017                     1099.2358  Starchy Foods\n",
      "OUT018                     1094.5752  Starchy Foods\n",
      "OUT019                     1078.5960  Starchy Foods\n",
      "OUT027                     1096.5726  Starchy Foods\n",
      "OUT035                     1098.5700  Starchy Foods\n",
      "OUT045                     1098.5700  Starchy Foods\n",
      "OUT046                     1095.2410  Starchy Foods\n",
      "OUT049                     1099.9016  Starchy Foods\n"
     ]
    }
   ],
   "source": [
    "# Group the data by Outlet_Identifier and find the item type with maximum sales for each outlet\n",
    "max_sales_item_type = train_data.groupby('Outlet_Identifier')['Item_Outlet_Sales', 'Item_Type'].max()\n",
    "\n",
    "# Print the result\n",
    "print(max_sales_item_type)"
   ]
  },
  {
   "cell_type": "code",
   "execution_count": 83,
   "id": "c3efcd54",
   "metadata": {},
   "outputs": [
    {
     "data": {
      "image/png": "[encoded data removed]",
      "text/plain": [
       "<Figure size 1000x800 with 2 Axes>"
      ]
     },
     "metadata": {},
     "output_type": "display_data"
    }
   ],
   "source": [
    "# Select the numeric columns for correlation analysis\n",
    "numeric_columns = ['Item_Visibility', 'Item_MRP', 'Item_Outlet_Sales']\n",
    "\n",
    "# Create a correlation matrix\n",
    "correlation_matrix = train_data[numeric_columns].corr()\n",
    "\n",
    "# Generate the heatmap\n",
    "plt.figure(figsize=(10, 8))\n",
    "sns.heatmap(correlation_matrix, annot=True, cmap='YlGnBu')\n",
    "plt.title('Correlation Heatmap')\n",
    "plt.show()"
   ]
  },
  {
   "cell_type": "code",
   "execution_count": 85,
   "id": "9f4d10ed",
   "metadata": {},
   "outputs": [
    {
     "name": "stdout",
     "output_type": "stream",
     "text": [
      "                             mean    median\n",
      "Item_Type                                  \n",
      "Breads                 601.472212  591.8962\n",
      "Soft Drinks            580.697527  569.2590\n",
      "Starchy Foods          579.014417  592.5620\n",
      "Frozen Foods           564.055072  583.2408\n",
      "Others                 559.018362  551.2824\n",
      "Canned                 551.401164  555.2772\n",
      "Snack Foods            549.445178  554.6114\n",
      "Baking Goods           547.987111  539.2980\n",
      "Dairy                  544.828579  533.3058\n",
      "Health and Hygiene     541.697889  528.6452\n",
      "Meat                   541.697754  549.2850\n",
      "Hard Drinks            537.098842  520.6556\n",
      "Fruits and Vegetables  529.129418  515.3292\n",
      "Household              523.789494  516.6608\n",
      "Breakfast              468.556750  400.8116\n",
      "Seafood                448.170243  415.4592\n"
     ]
    }
   ],
   "source": [
    "# Calculate mean and median sales by item type\n",
    "sales_summary_by_item_type = train_data.groupby('Item_Type')['Item_Outlet_Sales'].agg(['mean', 'median'])\n",
    "\n",
    "# Sort the summary statistics by mean sales in descending order\n",
    "sales_summary_by_item_type_sorted = sales_summary_by_item_type.sort_values(by='mean', ascending=False)\n",
    "\n",
    "# Print the sorted summary statistics\n",
    "print(sales_summary_by_item_type_sorted)"
   ]
  },
  {
   "cell_type": "code",
   "execution_count": 87,
   "id": "357feb62",
   "metadata": {},
   "outputs": [
    {
     "name": "stdout",
     "output_type": "stream",
     "text": [
      "                         mean    median\n",
      "Outlet_Type                            \n",
      "Supermarket Type3  832.539819  885.5140\n",
      "Supermarket Type1  691.143700  709.0770\n",
      "Supermarket Type2  634.625485  619.1940\n",
      "Grocery Store      323.847368  254.0027\n"
     ]
    }
   ],
   "source": [
    "# Calculate mean and median sales by item type\n",
    "sales_summary_by_item_type = train_data.groupby('Outlet_Type')['Item_Outlet_Sales'].agg(['mean', 'median'])\n",
    "\n",
    "# Sort the summary statistics by mean sales in descending order\n",
    "sales_summary_by_item_type_sorted = sales_summary_by_item_type.sort_values(by='mean', ascending=False)\n",
    "\n",
    "# Print the sorted summary statistics\n",
    "print(sales_summary_by_item_type_sorted)"
   ]
  },
  {
   "cell_type": "code",
   "execution_count": null,
   "id": "fb95fb05",
   "metadata": {},
   "outputs": [],
   "source": [
    "##So my inference is that we need to focus more on Supermarket 3 and breads,starchy foods,coft drinks and other items"
   ]
  },
  {
   "cell_type": "code",
   "execution_count": 97,
   "id": "fe982036",
   "metadata": {},
   "outputs": [
    {
     "name": "stdout",
     "output_type": "stream",
     "text": [
      "Item_Fat_Content\n",
      "Low Fat    548.484473\n",
      "Regular    542.056922\n",
      "Name: Item_Outlet_Sales, dtype: float64\n"
     ]
    }
   ],
   "source": [
    "sales_summary = train_data.groupby('Item_Fat_Content')['Item_Outlet_Sales'].mean()\n",
    "print(sales_summary)"
   ]
  },
  {
   "cell_type": "code",
   "execution_count": 52,
   "id": "aa83dc09",
   "metadata": {},
   "outputs": [],
   "source": [
    "train_data = train_data[train_data['Item_Outlet_Sales']<1200]"
   ]
  },
  {
   "cell_type": "code",
   "execution_count": 53,
   "id": "71b8f6a4",
   "metadata": {},
   "outputs": [
    {
     "data": {
      "text/html": [
       "<div>\n",
       "<style scoped>\n",
       "    .dataframe tbody tr th:only-of-type {\n",
       "        vertical-align: middle;\n",
       "    }\n",
       "\n",
       "    .dataframe tbody tr th {\n",
       "        vertical-align: top;\n",
       "    }\n",
       "\n",
       "    .dataframe thead th {\n",
       "        text-align: right;\n",
       "    }\n",
       "</style>\n",
       "<table border=\"1\" class=\"dataframe\">\n",
       "  <thead>\n",
       "    <tr style=\"text-align: right;\">\n",
       "      <th></th>\n",
       "      <th>Item_Visibility</th>\n",
       "      <th>Item_MRP</th>\n",
       "      <th>Outlet_Establishment_Year</th>\n",
       "      <th>Item_Outlet_Sales</th>\n",
       "    </tr>\n",
       "  </thead>\n",
       "  <tbody>\n",
       "    <tr>\n",
       "      <th>count</th>\n",
       "      <td>2723.000000</td>\n",
       "      <td>2723.000000</td>\n",
       "      <td>2723.000000</td>\n",
       "      <td>2723.000000</td>\n",
       "    </tr>\n",
       "    <tr>\n",
       "      <th>mean</th>\n",
       "      <td>0.078248</td>\n",
       "      <td>103.922168</td>\n",
       "      <td>1996.639736</td>\n",
       "      <td>546.267994</td>\n",
       "    </tr>\n",
       "    <tr>\n",
       "      <th>std</th>\n",
       "      <td>0.062290</td>\n",
       "      <td>60.780075</td>\n",
       "      <td>8.264270</td>\n",
       "      <td>301.338887</td>\n",
       "    </tr>\n",
       "    <tr>\n",
       "      <th>min</th>\n",
       "      <td>0.000000</td>\n",
       "      <td>31.290000</td>\n",
       "      <td>1985.000000</td>\n",
       "      <td>33.290000</td>\n",
       "    </tr>\n",
       "    <tr>\n",
       "      <th>25%</th>\n",
       "      <td>0.031403</td>\n",
       "      <td>50.069200</td>\n",
       "      <td>1987.000000</td>\n",
       "      <td>280.967600</td>\n",
       "    </tr>\n",
       "    <tr>\n",
       "      <th>50%</th>\n",
       "      <td>0.062000</td>\n",
       "      <td>91.083000</td>\n",
       "      <td>1998.000000</td>\n",
       "      <td>539.298000</td>\n",
       "    </tr>\n",
       "    <tr>\n",
       "      <th>75%</th>\n",
       "      <td>0.112271</td>\n",
       "      <td>146.807600</td>\n",
       "      <td>2002.000000</td>\n",
       "      <td>794.965200</td>\n",
       "    </tr>\n",
       "    <tr>\n",
       "      <th>max</th>\n",
       "      <td>0.328391</td>\n",
       "      <td>266.888400</td>\n",
       "      <td>2009.000000</td>\n",
       "      <td>1099.901600</td>\n",
       "    </tr>\n",
       "  </tbody>\n",
       "</table>\n",
       "</div>"
      ],
      "text/plain": [
       "       Item_Visibility     Item_MRP  Outlet_Establishment_Year  \\\n",
       "count      2723.000000  2723.000000                2723.000000   \n",
       "mean          0.078248   103.922168                1996.639736   \n",
       "std           0.062290    60.780075                   8.264270   \n",
       "min           0.000000    31.290000                1985.000000   \n",
       "25%           0.031403    50.069200                1987.000000   \n",
       "50%           0.062000    91.083000                1998.000000   \n",
       "75%           0.112271   146.807600                2002.000000   \n",
       "max           0.328391   266.888400                2009.000000   \n",
       "\n",
       "       Item_Outlet_Sales  \n",
       "count        2723.000000  \n",
       "mean          546.267994  \n",
       "std           301.338887  \n",
       "min            33.290000  \n",
       "25%           280.967600  \n",
       "50%           539.298000  \n",
       "75%           794.965200  \n",
       "max          1099.901600  "
      ]
     },
     "execution_count": 53,
     "metadata": {},
     "output_type": "execute_result"
    }
   ],
   "source": [
    "train_data.describe()"
   ]
  },
  {
   "cell_type": "code",
   "execution_count": null,
   "id": "fb42f078",
   "metadata": {},
   "outputs": [],
   "source": [
    "##1. Hypothesis: The type of item (Item_Type) influences its sales.\n",
    "    ##Null Hypothesis (H0): The type of item does not have a significant impact on its sales.\n",
    "    ##Alternative Hypothesis (HA): The type of item has a significant impact on its sales."
   ]
  },
  {
   "cell_type": "code",
   "execution_count": 99,
   "id": "cac068b6",
   "metadata": {},
   "outputs": [
    {
     "name": "stdout",
     "output_type": "stream",
     "text": [
      "F-statistic: 0.969677976338987\n",
      "p-value: 0.4849539732260908\n",
      "Fail to reject the null hypothesis. There is not enough evidence to conclude a significant impact of the item type on sales\n"
     ]
    }
   ],
   "source": [
    "import scipy.stats as stats\n",
    "\n",
    "# Set the significance level (e.g., α = 0.05)\n",
    "significance_level = 0.05\n",
    "\n",
    "# Prepare the data\n",
    "grouped_data = train_data.groupby('Item_Type')['Item_Outlet_Sales']\n",
    "item_type_categories = train_data['Item_Type'].unique()\n",
    "grouped_sales = [grouped_data.get_group(category) for category in item_type_categories]\n",
    "\n",
    "# Perform the ANOVA test\n",
    "f_statistic, p_value = stats.f_oneway(*grouped_sales)\n",
    "\n",
    "# Print the results\n",
    "print(\"F-statistic:\", f_statistic)\n",
    "print(\"p-value:\", p_value)\n",
    "\n",
    "# Compare the p-value with the significance level\n",
    "if p_value < significance_level:\n",
    "    print(\"Reject the null hypothesis. The type of item has a significant impact on its sales\")\n",
    "else:\n",
    "    print(\"Fail to reject the null hypothesis. There is not enough evidence to conclude a significant impact of the item type on sales\")"
   ]
  },
  {
   "cell_type": "code",
   "execution_count": 100,
   "id": "001b562f",
   "metadata": {},
   "outputs": [],
   "source": [
    "##Hypothesis 2: The visibility of an item (Item_Visibility) affects its sales.\n",
    "    ##Null Hypothesis (HO): The visibility of an item has no significant effect on its sales.\n",
    "    ##Alternative Hypothesis (HA): The visibility of an item has significant effect on its sales."
   ]
  },
  {
   "cell_type": "code",
   "execution_count": 101,
   "id": "b77cbc7a",
   "metadata": {},
   "outputs": [
    {
     "name": "stdout",
     "output_type": "stream",
     "text": [
      "Correlation Coefficient: -0.1930820815822986\n",
      "p-value: 2.793103292298351e-24\n"
     ]
    }
   ],
   "source": [
    "# Calculate correlation coefficient\n",
    "correlation_coefficient, p_value = stats.pearsonr(train_data['Item_Visibility'], train_data['Item_Outlet_Sales'])\n",
    "\n",
    "# Print the correlation coefficient and p-value\n",
    "print(\"Correlation Coefficient:\", correlation_coefficient)\n",
    "print(\"p-value:\", p_value)"
   ]
  },
  {
   "cell_type": "code",
   "execution_count": null,
   "id": "8ae4591f",
   "metadata": {},
   "outputs": [],
   "source": [
    "##Inference\n",
    "##The correlation coefficient measures the strength and direction of the linear relationship between two variables. \n",
    "##In this case, the correlation coefficient between 'Item_Visibility' and 'Item_Outlet_Sales' is approximately -0.193. \n",
    "##The negative sign indicates a negative correlation, which means that as the visibility of an item increases, \n",
    "##the sales tend to decrease (and vice versa), although the correlation is not very strong.\n",
    "\n",
    "##The p-value, on the other hand, is the probability of observing the correlation coefficient (or a more extreme value)\n",
    "##if there was no correlation between the variables. In this case, the extremely small p-value of 2.793103292298351e-24 \n",
    "##indicates that it is highly unlikely to observe the obtained correlation coefficient by chance alone, \n",
    "##assuming no correlation. Therefore, you can conclude that there is strong evidence of a statistically significant \n",
    "##correlation between 'Item_Visibility' and 'Item_Outlet_Sales'."
   ]
  }
 ],
 "metadata": {
  "kernelspec": {
   "display_name": "Python 3 (ipykernel)",
   "language": "python",
   "name": "python3"
  },
  "language_info": {
   "codemirror_mode": {
    "name": "ipython",
    "version": 3
   },
   "file_extension": ".py",
   "mimetype": "text/x-python",
   "name": "python",
   "nbconvert_exporter": "python",
   "pygments_lexer": "ipython3",
   "version": "3.10.9"
  }
 },
 "nbformat": 4,
 "nbformat_minor": 5
}
